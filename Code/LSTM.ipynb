{
  "cells": [
    {
      "cell_type": "code",
      "source": [
        "!git clone https://github.com/AbrahamCamelo/ResearchMethods_GitHub.git"
      ],
      "metadata": {
        "id": "Y6XppVFcB-tl",
        "outputId": "fd37adb8-9933-4d2b-baf4-b98a2a14c9d6",
        "colab": {
          "base_uri": "https://localhost:8080/"
        }
      },
      "execution_count": 1,
      "outputs": [
        {
          "output_type": "stream",
          "name": "stdout",
          "text": [
            "Cloning into 'ResearchMethods_GitHub'...\n",
            "remote: Enumerating objects: 475, done.\u001b[K\n",
            "remote: Counting objects: 100% (475/475), done.\u001b[K\n",
            "remote: Compressing objects: 100% (80/80), done.\u001b[K\n",
            "remote: Total 475 (delta 404), reused 448 (delta 394), pack-reused 0 (from 0)\u001b[K\n",
            "Receiving objects: 100% (475/475), 2.16 MiB | 5.11 MiB/s, done.\n",
            "Resolving deltas: 100% (404/404), done.\n"
          ]
        }
      ]
    },
    {
      "cell_type": "code",
      "execution_count": 2,
      "metadata": {
        "id": "a4c_XYKCBCyC"
      },
      "outputs": [],
      "source": [
        "import numpy as np\n",
        "import tensorflow as tf\n",
        "import pandas as pd\n",
        "import os\n",
        "from sklearn.model_selection import train_test_split\n",
        "import random\n",
        "from tensorflow.keras.models import Sequential\n",
        "from tensorflow.keras.layers import Dense, LSTM, InputLayer\n",
        "import keras\n",
        "from sklearn.metrics import r2_score\n",
        "import matplotlib.pyplot as plt\n",
        "from tensorflow.keras.losses import MeanSquaredError\n",
        "from tensorflow.keras.metrics import RootMeanSquaredError"
      ]
    },
    {
      "cell_type": "markdown",
      "source": [
        "We import the dataset we are using for the problem"
      ],
      "metadata": {
        "id": "lIpfrsH0GBtM"
      }
    },
    {
      "cell_type": "code",
      "execution_count": 3,
      "metadata": {
        "id": "pCXLBRltBCyD"
      },
      "outputs": [],
      "source": [
        "df_average = pd.read_csv('ResearchMethods_GitHub/ndvi_data/average_ndvi.csv')\n",
        "df_average['date'] = pd.to_datetime(df_average.date)\n",
        "df_average = df_average.drop(columns=['Unnamed: 0'])"
      ]
    },
    {
      "cell_type": "code",
      "source": [
        "lst_ndvi = list(df_average.NDVI)"
      ],
      "metadata": {
        "id": "KZ68qqwuP6lE"
      },
      "execution_count": 4,
      "outputs": []
    },
    {
      "cell_type": "markdown",
      "source": [
        "Goal: forecast the next 6 months (12 steps) from the last year (23 steps).\n",
        "\n",
        "We are going to generate an array of x values that is going to a list of (lists of) predictors which are 23 steps (variables) in the time series and an array of y values that is going to have a list of (lists of) targets having the 12 steps following the 23 steps mentioned before."
      ],
      "metadata": {
        "id": "-LuaMwBcImu7"
      }
    },
    {
      "cell_type": "code",
      "source": [
        "n_past = 23\n",
        "n_future = 1\n",
        "n_total = n_past + n_future\n",
        "\n",
        "last_index = len(lst_ndvi)\n",
        "start_index = last_index - n_total\n",
        "\n",
        "x_ndvi = []\n",
        "y_ndvi = []\n",
        "\n",
        "while start_index > 0:\n",
        "  x_ndvi.append(lst_ndvi[start_index : start_index + n_past])\n",
        "  y_ndvi.append(lst_ndvi[start_index + n_past : start_index + + n_total])\n",
        "  start_index -= 1\n",
        "\n",
        "x_ndvi = np.array(x_ndvi)\n",
        "y_ndvi = np.array(y_ndvi)\n",
        "print(x_ndvi.shape,y_ndvi.shape)\n",
        "print(x_ndvi[0],y_ndvi[0],'\\n',lst_ndvi[-n_total:])"
      ],
      "metadata": {
        "id": "qdytsNA5Ikxd",
        "outputId": "802384f7-845d-45f4-e5b1-caea7a773e94",
        "colab": {
          "base_uri": "https://localhost:8080/"
        }
      },
      "execution_count": 147,
      "outputs": [
        {
          "output_type": "stream",
          "name": "stdout",
          "text": [
            "(114, 23) (114, 1)\n",
            "[0.24878722 0.25532555 0.27342907 0.25360088 0.32241667 0.33934254\n",
            " 0.32739211 0.32080263 0.32741053 0.30295833 0.29243596 0.2873557\n",
            " 0.32455263 0.44499386 0.4853307  0.35737281 0.32430921 0.27180439\n",
            " 0.25947632 0.24794079 0.23704405 0.24128326 0.23409207] [0.24307621] \n",
            " [0.2487872246696035, 0.2553255506607929, 0.2734290748898678, 0.2536008771929824, 0.3224166666666666, 0.3393425438596492, 0.3273921052631579, 0.3208026315789474, 0.3274105263157894, 0.3029583333333333, 0.2924359649122807, 0.2873557017543859, 0.3245526315789473, 0.4449938596491228, 0.4853307017543859, 0.3573728070175438, 0.3243092105263158, 0.2718043859649123, 0.2594763157894737, 0.2479407894736842, 0.2370440528634361, 0.2412832599118942, 0.2340920704845815, 0.2430762114537445]\n"
          ]
        }
      ]
    },
    {
      "cell_type": "markdown",
      "source": [
        "Data must be in a 3D format (n_samples, n_timesteps, n_features). This reshape is necessary sometimes when using Keras.\n",
        "\n",
        "It is like having a list of tables."
      ],
      "metadata": {
        "id": "2Xh8uw8-TnpS"
      }
    },
    {
      "cell_type": "code",
      "source": [
        "X_train, X_test, y_train, y_test = train_test_split(x_ndvi, y_ndvi,\n",
        "                                                    test_size=0.2, random_state=42)\n",
        "# reshape data into the right format for RNNs\n",
        "n_samples = X_train.shape[0]\n",
        "n_timesteps = X_train.shape[1]\n",
        "n_steps = y_train.shape[1]\n",
        "n_features = 1\n",
        "X_train_rs = X_train.reshape(n_samples, n_timesteps, n_features)\n",
        "X_test_rs = X_test.reshape(X_test.shape[0], n_timesteps, n_features)\n",
        "\n",
        "print(X_train_rs.shape, X_test_rs.shape, y_train.shape, y_test.shape, n_samples, n_timesteps, n_features)"
      ],
      "metadata": {
        "id": "kfVc_753QKqC",
        "outputId": "9ce7c0d1-ece0-46de-a758-bd22e04c5ef3",
        "colab": {
          "base_uri": "https://localhost:8080/"
        }
      },
      "execution_count": 148,
      "outputs": [
        {
          "output_type": "stream",
          "name": "stdout",
          "text": [
            "(91, 23, 1) (23, 23, 1) (91, 1) (23, 1) 91 23 1\n"
          ]
        }
      ]
    },
    {
      "cell_type": "markdown",
      "source": [
        "### Optimization of hyperparameters.\n",
        "\n",
        "forecast 6 from the 23 previous steps\n",
        "#### Number of nodes\n",
        "With 1 layer, 15 epochs, learning rate 0.01\n",
        "*   1 node   | -5345.391 R2 on test data\n",
        "*   5 nodes  |   -54.364\n",
        "*   10 nodes |   -46.067\n",
        "*   20 nodes |   -23.377\n",
        "*   40 nodes |   -6.636\n",
        "*   60 nodes |   -5.370\n",
        "*   65 nodes |  -11.198\n",
        "*   70 nodes |  -20.670\n",
        "*   80 nodes |  -13.615\n",
        "\n",
        "With 2 layer, 15 epochs, learning rate 0.01\n",
        "*   30 nodes |  -38.127\n",
        "*   40 nodes |  -26.520\n",
        "*   50 nodes | -122.896\n",
        "\n",
        "\n",
        "With 3 layer, 15 epochs, learning rate 0.01\n",
        "*   30 nodes | -221.031\n",
        "*   40 nodes | -181.545\n",
        "*   50 nodes | -103.414\n",
        "\n",
        "#### Learning rate\n",
        "With 2 layer, 15 epochs, 50 nodes\n",
        "*   0.01 | -103.414\n",
        "*   0.001 |   -8.721\n",
        "*   0.0001|-5020.660\n",
        "\n",
        "With 3 layer, 15 epochs, 40 nodes\n",
        "*   0.01  |-16.532\n",
        "*   0.001 | -6.474\n",
        "\n"
      ],
      "metadata": {
        "id": "JSahtYVpHMV8"
      }
    },
    {
      "cell_type": "code",
      "source": [
        "random.seed(42)\n",
        "batch_size = 32\n",
        "num_nodes_1 = 40\n",
        "num_epochs = 15\n",
        "learning_rate = 0.001\n",
        "\n",
        "simple_model = Sequential([\n",
        "    InputLayer((n_timesteps,n_features)),\n",
        "    LSTM(num_nodes_1, activation='tanh',input_shape=(n_timesteps, n_features)),\n",
        "    Dense(y_train.shape[1]),\n",
        "    ])\n",
        "simple_model.summary()\n",
        "\n",
        "simple_model.compile(\n",
        "optimizer=keras.optimizers.Adam(learning_rate=learning_rate),\n",
        "loss='mean_squared_error',\n",
        "metrics=[RootMeanSquaredError()],\n",
        ")\n",
        "smod_history = simple_model.fit(X_train_rs, y_train,\n",
        "                                validation_split=0.2,\n",
        "                                epochs=num_epochs,\n",
        "                                batch_size=batch_size,\n",
        "                                shuffle = True\n",
        "                                )"
      ],
      "metadata": {
        "id": "OpsefbnPQh37",
        "outputId": "131fdf62-55b1-423f-aa78-5e740445cd19",
        "colab": {
          "base_uri": "https://localhost:8080/",
          "height": 768
        }
      },
      "execution_count": 149,
      "outputs": [
        {
          "output_type": "stream",
          "name": "stderr",
          "text": [
            "/usr/local/lib/python3.10/dist-packages/keras/src/layers/rnn/rnn.py:204: UserWarning: Do not pass an `input_shape`/`input_dim` argument to a layer. When using Sequential models, prefer using an `Input(shape)` object as the first layer in the model instead.\n",
            "  super().__init__(**kwargs)\n"
          ]
        },
        {
          "output_type": "display_data",
          "data": {
            "text/plain": [
              "\u001b[1mModel: \"sequential_65\"\u001b[0m\n"
            ],
            "text/html": [
              "<pre style=\"white-space:pre;overflow-x:auto;line-height:normal;font-family:Menlo,'DejaVu Sans Mono',consolas,'Courier New',monospace\"><span style=\"font-weight: bold\">Model: \"sequential_65\"</span>\n",
              "</pre>\n"
            ]
          },
          "metadata": {}
        },
        {
          "output_type": "display_data",
          "data": {
            "text/plain": [
              "┏━━━━━━━━━━━━━━━━━━━━━━━━━━━━━━━━━━━━━━┳━━━━━━━━━━━━━━━━━━━━━━━━━━━━━┳━━━━━━━━━━━━━━━━━┓\n",
              "┃\u001b[1m \u001b[0m\u001b[1mLayer (type)                        \u001b[0m\u001b[1m \u001b[0m┃\u001b[1m \u001b[0m\u001b[1mOutput Shape               \u001b[0m\u001b[1m \u001b[0m┃\u001b[1m \u001b[0m\u001b[1m        Param #\u001b[0m\u001b[1m \u001b[0m┃\n",
              "┡━━━━━━━━━━━━━━━━━━━━━━━━━━━━━━━━━━━━━━╇━━━━━━━━━━━━━━━━━━━━━━━━━━━━━╇━━━━━━━━━━━━━━━━━┩\n",
              "│ lstm_114 (\u001b[38;5;33mLSTM\u001b[0m)                      │ (\u001b[38;5;45mNone\u001b[0m, \u001b[38;5;34m40\u001b[0m)                  │           \u001b[38;5;34m6,720\u001b[0m │\n",
              "├──────────────────────────────────────┼─────────────────────────────┼─────────────────┤\n",
              "│ dense_65 (\u001b[38;5;33mDense\u001b[0m)                     │ (\u001b[38;5;45mNone\u001b[0m, \u001b[38;5;34m1\u001b[0m)                   │              \u001b[38;5;34m41\u001b[0m │\n",
              "└──────────────────────────────────────┴─────────────────────────────┴─────────────────┘\n"
            ],
            "text/html": [
              "<pre style=\"white-space:pre;overflow-x:auto;line-height:normal;font-family:Menlo,'DejaVu Sans Mono',consolas,'Courier New',monospace\">┏━━━━━━━━━━━━━━━━━━━━━━━━━━━━━━━━━━━━━━┳━━━━━━━━━━━━━━━━━━━━━━━━━━━━━┳━━━━━━━━━━━━━━━━━┓\n",
              "┃<span style=\"font-weight: bold\"> Layer (type)                         </span>┃<span style=\"font-weight: bold\"> Output Shape                </span>┃<span style=\"font-weight: bold\">         Param # </span>┃\n",
              "┡━━━━━━━━━━━━━━━━━━━━━━━━━━━━━━━━━━━━━━╇━━━━━━━━━━━━━━━━━━━━━━━━━━━━━╇━━━━━━━━━━━━━━━━━┩\n",
              "│ lstm_114 (<span style=\"color: #0087ff; text-decoration-color: #0087ff\">LSTM</span>)                      │ (<span style=\"color: #00d7ff; text-decoration-color: #00d7ff\">None</span>, <span style=\"color: #00af00; text-decoration-color: #00af00\">40</span>)                  │           <span style=\"color: #00af00; text-decoration-color: #00af00\">6,720</span> │\n",
              "├──────────────────────────────────────┼─────────────────────────────┼─────────────────┤\n",
              "│ dense_65 (<span style=\"color: #0087ff; text-decoration-color: #0087ff\">Dense</span>)                     │ (<span style=\"color: #00d7ff; text-decoration-color: #00d7ff\">None</span>, <span style=\"color: #00af00; text-decoration-color: #00af00\">1</span>)                   │              <span style=\"color: #00af00; text-decoration-color: #00af00\">41</span> │\n",
              "└──────────────────────────────────────┴─────────────────────────────┴─────────────────┘\n",
              "</pre>\n"
            ]
          },
          "metadata": {}
        },
        {
          "output_type": "display_data",
          "data": {
            "text/plain": [
              "\u001b[1m Total params: \u001b[0m\u001b[38;5;34m6,761\u001b[0m (26.41 KB)\n"
            ],
            "text/html": [
              "<pre style=\"white-space:pre;overflow-x:auto;line-height:normal;font-family:Menlo,'DejaVu Sans Mono',consolas,'Courier New',monospace\"><span style=\"font-weight: bold\"> Total params: </span><span style=\"color: #00af00; text-decoration-color: #00af00\">6,761</span> (26.41 KB)\n",
              "</pre>\n"
            ]
          },
          "metadata": {}
        },
        {
          "output_type": "display_data",
          "data": {
            "text/plain": [
              "\u001b[1m Trainable params: \u001b[0m\u001b[38;5;34m6,761\u001b[0m (26.41 KB)\n"
            ],
            "text/html": [
              "<pre style=\"white-space:pre;overflow-x:auto;line-height:normal;font-family:Menlo,'DejaVu Sans Mono',consolas,'Courier New',monospace\"><span style=\"font-weight: bold\"> Trainable params: </span><span style=\"color: #00af00; text-decoration-color: #00af00\">6,761</span> (26.41 KB)\n",
              "</pre>\n"
            ]
          },
          "metadata": {}
        },
        {
          "output_type": "display_data",
          "data": {
            "text/plain": [
              "\u001b[1m Non-trainable params: \u001b[0m\u001b[38;5;34m0\u001b[0m (0.00 B)\n"
            ],
            "text/html": [
              "<pre style=\"white-space:pre;overflow-x:auto;line-height:normal;font-family:Menlo,'DejaVu Sans Mono',consolas,'Courier New',monospace\"><span style=\"font-weight: bold\"> Non-trainable params: </span><span style=\"color: #00af00; text-decoration-color: #00af00\">0</span> (0.00 B)\n",
              "</pre>\n"
            ]
          },
          "metadata": {}
        },
        {
          "output_type": "stream",
          "name": "stdout",
          "text": [
            "Epoch 1/15\n",
            "\u001b[1m3/3\u001b[0m \u001b[32m━━━━━━━━━━━━━━━━━━━━\u001b[0m\u001b[37m\u001b[0m \u001b[1m3s\u001b[0m 172ms/step - loss: 0.1896 - root_mean_squared_error: 0.4354 - val_loss: 0.1483 - val_root_mean_squared_error: 0.3851\n",
            "Epoch 2/15\n",
            "\u001b[1m3/3\u001b[0m \u001b[32m━━━━━━━━━━━━━━━━━━━━\u001b[0m\u001b[37m\u001b[0m \u001b[1m0s\u001b[0m 24ms/step - loss: 0.1413 - root_mean_squared_error: 0.3753 - val_loss: 0.0990 - val_root_mean_squared_error: 0.3146\n",
            "Epoch 3/15\n",
            "\u001b[1m3/3\u001b[0m \u001b[32m━━━━━━━━━━━━━━━━━━━━\u001b[0m\u001b[37m\u001b[0m \u001b[1m0s\u001b[0m 32ms/step - loss: 0.0856 - root_mean_squared_error: 0.2925 - val_loss: 0.0603 - val_root_mean_squared_error: 0.2456\n",
            "Epoch 4/15\n",
            "\u001b[1m3/3\u001b[0m \u001b[32m━━━━━━━━━━━━━━━━━━━━\u001b[0m\u001b[37m\u001b[0m \u001b[1m0s\u001b[0m 24ms/step - loss: 0.0516 - root_mean_squared_error: 0.2271 - val_loss: 0.0313 - val_root_mean_squared_error: 0.1770\n",
            "Epoch 5/15\n",
            "\u001b[1m3/3\u001b[0m \u001b[32m━━━━━━━━━━━━━━━━━━━━\u001b[0m\u001b[37m\u001b[0m \u001b[1m0s\u001b[0m 32ms/step - loss: 0.0274 - root_mean_squared_error: 0.1654 - val_loss: 0.0147 - val_root_mean_squared_error: 0.1211\n",
            "Epoch 6/15\n",
            "\u001b[1m3/3\u001b[0m \u001b[32m━━━━━━━━━━━━━━━━━━━━\u001b[0m\u001b[37m\u001b[0m \u001b[1m0s\u001b[0m 26ms/step - loss: 0.0161 - root_mean_squared_error: 0.1269 - val_loss: 0.0131 - val_root_mean_squared_error: 0.1143\n",
            "Epoch 7/15\n",
            "\u001b[1m3/3\u001b[0m \u001b[32m━━━━━━━━━━━━━━━━━━━━\u001b[0m\u001b[37m\u001b[0m \u001b[1m0s\u001b[0m 26ms/step - loss: 0.0149 - root_mean_squared_error: 0.1219 - val_loss: 0.0192 - val_root_mean_squared_error: 0.1384\n",
            "Epoch 8/15\n",
            "\u001b[1m3/3\u001b[0m \u001b[32m━━━━━━━━━━━━━━━━━━━━\u001b[0m\u001b[37m\u001b[0m \u001b[1m0s\u001b[0m 28ms/step - loss: 0.0203 - root_mean_squared_error: 0.1426 - val_loss: 0.0198 - val_root_mean_squared_error: 0.1406\n",
            "Epoch 9/15\n",
            "\u001b[1m3/3\u001b[0m \u001b[32m━━━━━━━━━━━━━━━━━━━━\u001b[0m\u001b[37m\u001b[0m \u001b[1m0s\u001b[0m 25ms/step - loss: 0.0209 - root_mean_squared_error: 0.1444 - val_loss: 0.0147 - val_root_mean_squared_error: 0.1212\n",
            "Epoch 10/15\n",
            "\u001b[1m3/3\u001b[0m \u001b[32m━━━━━━━━━━━━━━━━━━━━\u001b[0m\u001b[37m\u001b[0m \u001b[1m0s\u001b[0m 26ms/step - loss: 0.0153 - root_mean_squared_error: 0.1237 - val_loss: 0.0116 - val_root_mean_squared_error: 0.1079\n",
            "Epoch 11/15\n",
            "\u001b[1m3/3\u001b[0m \u001b[32m━━━━━━━━━━━━━━━━━━━━\u001b[0m\u001b[37m\u001b[0m \u001b[1m0s\u001b[0m 25ms/step - loss: 0.0129 - root_mean_squared_error: 0.1134 - val_loss: 0.0112 - val_root_mean_squared_error: 0.1060\n",
            "Epoch 12/15\n",
            "\u001b[1m3/3\u001b[0m \u001b[32m━━━━━━━━━━━━━━━━━━━━\u001b[0m\u001b[37m\u001b[0m \u001b[1m0s\u001b[0m 25ms/step - loss: 0.0116 - root_mean_squared_error: 0.1076 - val_loss: 0.0118 - val_root_mean_squared_error: 0.1084\n",
            "Epoch 13/15\n",
            "\u001b[1m3/3\u001b[0m \u001b[32m━━━━━━━━━━━━━━━━━━━━\u001b[0m\u001b[37m\u001b[0m \u001b[1m0s\u001b[0m 30ms/step - loss: 0.0121 - root_mean_squared_error: 0.1097 - val_loss: 0.0122 - val_root_mean_squared_error: 0.1104\n",
            "Epoch 14/15\n",
            "\u001b[1m3/3\u001b[0m \u001b[32m━━━━━━━━━━━━━━━━━━━━\u001b[0m\u001b[37m\u001b[0m \u001b[1m0s\u001b[0m 34ms/step - loss: 0.0132 - root_mean_squared_error: 0.1149 - val_loss: 0.0120 - val_root_mean_squared_error: 0.1098\n",
            "Epoch 15/15\n",
            "\u001b[1m3/3\u001b[0m \u001b[32m━━━━━━━━━━━━━━━━━━━━\u001b[0m\u001b[37m\u001b[0m \u001b[1m0s\u001b[0m 29ms/step - loss: 0.0130 - root_mean_squared_error: 0.1140 - val_loss: 0.0116 - val_root_mean_squared_error: 0.1077\n"
          ]
        }
      ]
    },
    {
      "cell_type": "code",
      "source": [
        "preds_train = simple_model.predict(X_train)\n",
        "preds_test = simple_model.predict(X_test)\n",
        "print(r2_score(preds_test, y_test),r2_score(preds_train, y_train))\n",
        "plt.plot(smod_history.history['loss'])\n",
        "plt.plot(smod_history.history['val_loss'])\n",
        "plt.title('model loss')\n",
        "plt.xlabel('epoch')\n",
        "plt.legend(['train', 'val'], loc='upper left')\n",
        "plt.show()"
      ],
      "metadata": {
        "id": "Mf-m_XL9bhLi",
        "outputId": "5537ea92-fa97-4dd7-d98e-ba0dcb5992ec",
        "colab": {
          "base_uri": "https://localhost:8080/",
          "height": 524
        }
      },
      "execution_count": 150,
      "outputs": [
        {
          "output_type": "stream",
          "name": "stdout",
          "text": [
            "\u001b[1m3/3\u001b[0m \u001b[32m━━━━━━━━━━━━━━━━━━━━\u001b[0m\u001b[37m\u001b[0m \u001b[1m0s\u001b[0m 95ms/step\n",
            "\u001b[1m1/1\u001b[0m \u001b[32m━━━━━━━━━━━━━━━━━━━━\u001b[0m\u001b[37m\u001b[0m \u001b[1m0s\u001b[0m 23ms/step\n",
            "-2.013749531036735 -3.23459440409174\n"
          ]
        },
        {
          "output_type": "display_data",
          "data": {
            "text/plain": [
              "<Figure size 640x480 with 1 Axes>"
            ],
            "image/png": "[encoded data removed]"
          },
          "metadata": {}
        }
      ]
    },
    {
      "cell_type": "code",
      "source": [
        "total_preds = simple_model.predict(x_ndvi)\n",
        "\n",
        "plt.plot(total_preds[0])\n",
        "plt.plot(y_ndvi[0])\n",
        "plt.show()"
      ],
      "metadata": {
        "id": "ftuEAeUXcDD3",
        "outputId": "5b8ed7e9-15eb-4598-8cdb-fbac454e6507",
        "colab": {
          "base_uri": "https://localhost:8080/",
          "height": 447
        }
      },
      "execution_count": 106,
      "outputs": [
        {
          "output_type": "stream",
          "name": "stdout",
          "text": [
            "\u001b[1m4/4\u001b[0m \u001b[32m━━━━━━━━━━━━━━━━━━━━\u001b[0m\u001b[37m\u001b[0m \u001b[1m0s\u001b[0m 59ms/step\n"
          ]
        },
        {
          "output_type": "display_data",
          "data": {
            "text/plain": [
              "<Figure size 640x480 with 1 Axes>"
            ],
            "image/png": "[encoded data removed]"
          },
          "metadata": {}
        }
      ]
    },
    {
      "cell_type": "code",
      "source": [
        "y_ndvi"
      ],
      "metadata": {
        "id": "mHej8myscKis",
        "outputId": "1542d6db-e6f1-49db-feb2-941be51e6b05",
        "colab": {
          "base_uri": "https://localhost:8080/"
        }
      },
      "execution_count": 105,
      "outputs": [
        {
          "output_type": "execute_result",
          "data": {
            "text/plain": [
              "array([[0.25947632, 0.24794079, 0.23704405, 0.24128326, 0.23409207,\n",
              "        0.24307621],\n",
              "       [0.27180439, 0.25947632, 0.24794079, 0.23704405, 0.24128326,\n",
              "        0.23409207],\n",
              "       [0.32430921, 0.27180439, 0.25947632, 0.24794079, 0.23704405,\n",
              "        0.24128326],\n",
              "       [0.35737281, 0.32430921, 0.27180439, 0.25947632, 0.24794079,\n",
              "        0.23704405],\n",
              "       [0.4853307 , 0.35737281, 0.32430921, 0.27180439, 0.25947632,\n",
              "        0.24794079],\n",
              "       [0.44499386, 0.4853307 , 0.35737281, 0.32430921, 0.27180439,\n",
              "        0.25947632],\n",
              "       [0.32455263, 0.44499386, 0.4853307 , 0.35737281, 0.32430921,\n",
              "        0.27180439],\n",
              "       [0.2873557 , 0.32455263, 0.44499386, 0.4853307 , 0.35737281,\n",
              "        0.32430921],\n",
              "       [0.29243596, 0.2873557 , 0.32455263, 0.44499386, 0.4853307 ,\n",
              "        0.35737281],\n",
              "       [0.30295833, 0.29243596, 0.2873557 , 0.32455263, 0.44499386,\n",
              "        0.4853307 ],\n",
              "       [0.32741053, 0.30295833, 0.29243596, 0.2873557 , 0.32455263,\n",
              "        0.44499386],\n",
              "       [0.32080263, 0.32741053, 0.30295833, 0.29243596, 0.2873557 ,\n",
              "        0.32455263],\n",
              "       [0.32739211, 0.32080263, 0.32741053, 0.30295833, 0.29243596,\n",
              "        0.2873557 ],\n",
              "       [0.33934254, 0.32739211, 0.32080263, 0.32741053, 0.30295833,\n",
              "        0.29243596],\n",
              "       [0.32241667, 0.33934254, 0.32739211, 0.32080263, 0.32741053,\n",
              "        0.30295833],\n",
              "       [0.25360088, 0.32241667, 0.33934254, 0.32739211, 0.32080263,\n",
              "        0.32741053],\n",
              "       [0.27342907, 0.25360088, 0.32241667, 0.33934254, 0.32739211,\n",
              "        0.32080263],\n",
              "       [0.25532555, 0.27342907, 0.25360088, 0.32241667, 0.33934254,\n",
              "        0.32739211],\n",
              "       [0.24878722, 0.25532555, 0.27342907, 0.25360088, 0.32241667,\n",
              "        0.33934254],\n",
              "       [0.24524581, 0.24878722, 0.25532555, 0.27342907, 0.25360088,\n",
              "        0.32241667],\n",
              "       [0.25903877, 0.24524581, 0.24878722, 0.25532555, 0.27342907,\n",
              "        0.25360088],\n",
              "       [0.28654405, 0.25903877, 0.24524581, 0.24878722, 0.25532555,\n",
              "        0.27342907],\n",
              "       [0.25687018, 0.28654405, 0.25903877, 0.24524581, 0.24878722,\n",
              "        0.25532555],\n",
              "       [0.27652281, 0.25687018, 0.28654405, 0.25903877, 0.24524581,\n",
              "        0.24878722],\n",
              "       [0.28859693, 0.27652281, 0.25687018, 0.28654405, 0.25903877,\n",
              "        0.24524581],\n",
              "       [0.2852364 , 0.28859693, 0.27652281, 0.25687018, 0.28654405,\n",
              "        0.25903877],\n",
              "       [0.32282982, 0.2852364 , 0.28859693, 0.27652281, 0.25687018,\n",
              "        0.28654405],\n",
              "       [0.36183377, 0.32282982, 0.2852364 , 0.28859693, 0.27652281,\n",
              "        0.25687018],\n",
              "       [0.37519868, 0.36183377, 0.32282982, 0.2852364 , 0.28859693,\n",
              "        0.27652281],\n",
              "       [0.46497237, 0.37519868, 0.36183377, 0.32282982, 0.2852364 ,\n",
              "        0.28859693],\n",
              "       [0.48979781, 0.46497237, 0.37519868, 0.36183377, 0.32282982,\n",
              "        0.2852364 ],\n",
              "       [0.54797325, 0.48979781, 0.46497237, 0.37519868, 0.36183377,\n",
              "        0.32282982],\n",
              "       [0.56232368, 0.54797325, 0.48979781, 0.46497237, 0.37519868,\n",
              "        0.36183377],\n",
              "       [0.57073684, 0.56232368, 0.54797325, 0.48979781, 0.46497237,\n",
              "        0.37519868],\n",
              "       [0.56924035, 0.57073684, 0.56232368, 0.54797325, 0.48979781,\n",
              "        0.46497237],\n",
              "       [0.50936623, 0.56924035, 0.57073684, 0.56232368, 0.54797325,\n",
              "        0.48979781],\n",
              "       [0.48229605, 0.50936623, 0.56924035, 0.57073684, 0.56232368,\n",
              "        0.54797325],\n",
              "       [0.53657982, 0.48229605, 0.50936623, 0.56924035, 0.57073684,\n",
              "        0.56232368],\n",
              "       [0.41475789, 0.53657982, 0.48229605, 0.50936623, 0.56924035,\n",
              "        0.57073684],\n",
              "       [0.31133965, 0.41475789, 0.53657982, 0.48229605, 0.50936623,\n",
              "        0.56924035],\n",
              "       [0.31087489, 0.31133965, 0.41475789, 0.53657982, 0.48229605,\n",
              "        0.50936623],\n",
              "       [0.30872863, 0.31087489, 0.31133965, 0.41475789, 0.53657982,\n",
              "        0.48229605],\n",
              "       [0.25608414, 0.30872863, 0.31087489, 0.31133965, 0.41475789,\n",
              "        0.53657982],\n",
              "       [0.28193348, 0.25608414, 0.30872863, 0.31087489, 0.31133965,\n",
              "        0.41475789],\n",
              "       [0.24760441, 0.28193348, 0.25608414, 0.30872863, 0.31087489,\n",
              "        0.31133965],\n",
              "       [0.23890175, 0.24760441, 0.28193348, 0.25608414, 0.30872863,\n",
              "        0.31087489],\n",
              "       [0.25698377, 0.23890175, 0.24760441, 0.28193348, 0.25608414,\n",
              "        0.30872863],\n",
              "       [0.27858114, 0.25698377, 0.23890175, 0.24760441, 0.28193348,\n",
              "        0.25608414],\n",
              "       [0.29431886, 0.27858114, 0.25698377, 0.23890175, 0.24760441,\n",
              "        0.28193348],\n",
              "       [0.33761974, 0.29431886, 0.27858114, 0.25698377, 0.23890175,\n",
              "        0.24760441],\n",
              "       [0.36800088, 0.33761974, 0.29431886, 0.27858114, 0.25698377,\n",
              "        0.23890175],\n",
              "       [0.42615614, 0.36800088, 0.33761974, 0.29431886, 0.27858114,\n",
              "        0.25698377],\n",
              "       [0.46421667, 0.42615614, 0.36800088, 0.33761974, 0.29431886,\n",
              "        0.27858114],\n",
              "       [0.49487193, 0.46421667, 0.42615614, 0.36800088, 0.33761974,\n",
              "        0.29431886],\n",
              "       [0.41393684, 0.49487193, 0.46421667, 0.42615614, 0.36800088,\n",
              "        0.33761974],\n",
              "       [0.37798421, 0.41393684, 0.49487193, 0.46421667, 0.42615614,\n",
              "        0.36800088],\n",
              "       [0.41547895, 0.37798421, 0.41393684, 0.49487193, 0.46421667,\n",
              "        0.42615614],\n",
              "       [0.30361667, 0.41547895, 0.37798421, 0.41393684, 0.49487193,\n",
              "        0.46421667],\n",
              "       [0.28816754, 0.30361667, 0.41547895, 0.37798421, 0.41393684,\n",
              "        0.49487193],\n",
              "       [0.27310132, 0.28816754, 0.30361667, 0.41547895, 0.37798421,\n",
              "        0.41393684],\n",
              "       [0.27085351, 0.27310132, 0.28816754, 0.30361667, 0.41547895,\n",
              "        0.37798421],\n",
              "       [0.26765351, 0.27085351, 0.27310132, 0.28816754, 0.30361667,\n",
              "        0.41547895],\n",
              "       [0.26711057, 0.26765351, 0.27085351, 0.27310132, 0.28816754,\n",
              "        0.30361667],\n",
              "       [0.24958282, 0.26711057, 0.26765351, 0.27085351, 0.27310132,\n",
              "        0.28816754],\n",
              "       [0.27082291, 0.24958282, 0.26711057, 0.26765351, 0.27085351,\n",
              "        0.27310132],\n",
              "       [0.27101189, 0.27082291, 0.24958282, 0.26711057, 0.26765351,\n",
              "        0.27085351],\n",
              "       [0.2599652 , 0.27101189, 0.27082291, 0.24958282, 0.26711057,\n",
              "        0.26765351],\n",
              "       [0.26046872, 0.2599652 , 0.27101189, 0.27082291, 0.24958282,\n",
              "        0.26711057],\n",
              "       [0.26889825, 0.26046872, 0.2599652 , 0.27101189, 0.27082291,\n",
              "        0.24958282],\n",
              "       [0.30814342, 0.26889825, 0.26046872, 0.2599652 , 0.27101189,\n",
              "        0.27082291],\n",
              "       [0.3361943 , 0.30814342, 0.26889825, 0.26046872, 0.2599652 ,\n",
              "        0.27101189],\n",
              "       [0.34347018, 0.3361943 , 0.30814342, 0.26889825, 0.26046872,\n",
              "        0.2599652 ],\n",
              "       [0.40984035, 0.34347018, 0.3361943 , 0.30814342, 0.26889825,\n",
              "        0.26046872],\n",
              "       [0.48160088, 0.40984035, 0.34347018, 0.3361943 , 0.30814342,\n",
              "        0.26889825],\n",
              "       [0.54178026, 0.48160088, 0.40984035, 0.34347018, 0.3361943 ,\n",
              "        0.30814342],\n",
              "       [0.38536009, 0.54178026, 0.48160088, 0.40984035, 0.34347018,\n",
              "        0.3361943 ],\n",
              "       [0.35662105, 0.38536009, 0.54178026, 0.48160088, 0.40984035,\n",
              "        0.34347018],\n",
              "       [0.35189781, 0.35662105, 0.38536009, 0.54178026, 0.48160088,\n",
              "        0.40984035],\n",
              "       [0.3529114 , 0.35189781, 0.35662105, 0.38536009, 0.54178026,\n",
              "        0.48160088],\n",
              "       [0.35919518, 0.3529114 , 0.35189781, 0.35662105, 0.38536009,\n",
              "        0.54178026],\n",
              "       [0.38868596, 0.35919518, 0.3529114 , 0.35189781, 0.35662105,\n",
              "        0.38536009],\n",
              "       [0.46607632, 0.38868596, 0.35919518, 0.3529114 , 0.35189781,\n",
              "        0.35662105],\n",
              "       [0.49523289, 0.46607632, 0.38868596, 0.35919518, 0.3529114 ,\n",
              "        0.35189781],\n",
              "       [0.50548026, 0.49523289, 0.46607632, 0.38868596, 0.35919518,\n",
              "        0.3529114 ],\n",
              "       [0.41639518, 0.50548026, 0.49523289, 0.46607632, 0.38868596,\n",
              "        0.35919518],\n",
              "       [0.38347974, 0.41639518, 0.50548026, 0.49523289, 0.46607632,\n",
              "        0.38868596],\n",
              "       [0.32244934, 0.38347974, 0.41639518, 0.50548026, 0.49523289,\n",
              "        0.46607632],\n",
              "       [0.33272379, 0.32244934, 0.38347974, 0.41639518, 0.50548026,\n",
              "        0.49523289],\n",
              "       [0.33674405, 0.33272379, 0.32244934, 0.38347974, 0.41639518,\n",
              "        0.50548026],\n",
              "       [0.3445326 , 0.33674405, 0.33272379, 0.32244934, 0.38347974,\n",
              "        0.41639518],\n",
              "       [0.36671586, 0.3445326 , 0.33674405, 0.33272379, 0.32244934,\n",
              "        0.38347974],\n",
              "       [0.38157456, 0.36671586, 0.3445326 , 0.33674405, 0.33272379,\n",
              "        0.32244934],\n",
              "       [0.39607851, 0.38157456, 0.36671586, 0.3445326 , 0.33674405,\n",
              "        0.33272379],\n",
              "       [0.46180307, 0.39607851, 0.38157456, 0.36671586, 0.3445326 ,\n",
              "        0.33674405],\n",
              "       [0.53250921, 0.46180307, 0.39607851, 0.38157456, 0.36671586,\n",
              "        0.3445326 ],\n",
              "       [0.62193246, 0.53250921, 0.46180307, 0.39607851, 0.38157456,\n",
              "        0.36671586],\n",
              "       [0.63028202, 0.62193246, 0.53250921, 0.46180307, 0.39607851,\n",
              "        0.38157456],\n",
              "       [0.67864737, 0.63028202, 0.62193246, 0.53250921, 0.46180307,\n",
              "        0.39607851],\n",
              "       [0.64885395, 0.67864737, 0.63028202, 0.62193246, 0.53250921,\n",
              "        0.46180307],\n",
              "       [0.67772412, 0.64885395, 0.67864737, 0.63028202, 0.62193246,\n",
              "        0.53250921],\n",
              "       [0.6446807 , 0.67772412, 0.64885395, 0.67864737, 0.63028202,\n",
              "        0.62193246],\n",
              "       [0.67519167, 0.6446807 , 0.67772412, 0.64885395, 0.67864737,\n",
              "        0.63028202],\n",
              "       [0.62726623, 0.67519167, 0.6446807 , 0.67772412, 0.64885395,\n",
              "        0.67864737],\n",
              "       [0.65790307, 0.62726623, 0.67519167, 0.6446807 , 0.67772412,\n",
              "        0.64885395],\n",
              "       [0.62691579, 0.65790307, 0.62726623, 0.67519167, 0.6446807 ,\n",
              "        0.67772412],\n",
              "       [0.60975921, 0.62691579, 0.65790307, 0.62726623, 0.67519167,\n",
              "        0.6446807 ],\n",
              "       [0.62589035, 0.60975921, 0.62691579, 0.65790307, 0.62726623,\n",
              "        0.67519167],\n",
              "       [0.5127193 , 0.62589035, 0.60975921, 0.62691579, 0.65790307,\n",
              "        0.62726623],\n",
              "       [0.50613084, 0.5127193 , 0.62589035, 0.60975921, 0.62691579,\n",
              "        0.65790307]])"
            ]
          },
          "metadata": {},
          "execution_count": 105
        }
      ]
    }
  ],
  "metadata": {
    "kernelspec": {
      "display_name": "general",
      "language": "python",
      "name": "python3"
    },
    "language_info": {
      "codemirror_mode": {
        "name": "ipython",
        "version": 3
      },
      "file_extension": ".py",
      "mimetype": "text/x-python",
      "name": "python",
      "nbconvert_exporter": "python",
      "pygments_lexer": "ipython3",
      "version": "3.11.7"
    },
    "colab": {
      "provenance": []
    }
  },
  "nbformat": 4,
  "nbformat_minor": 0
}
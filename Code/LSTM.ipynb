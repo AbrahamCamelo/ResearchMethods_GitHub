{
  "cells": [
    {
      "cell_type": "code",
      "source": [
        "!git clone https://github.com/AbrahamCamelo/ResearchMethods_GitHub.git"
      ],
      "metadata": {
        "id": "Y6XppVFcB-tl",
        "outputId": "973fc33e-f771-488b-87fd-70a29bb85c47",
        "colab": {
          "base_uri": "https://localhost:8080/"
        }
      },
      "execution_count": 1,
      "outputs": [
        {
          "output_type": "stream",
          "name": "stdout",
          "text": [
            "Cloning into 'ResearchMethods_GitHub'...\n",
            "remote: Enumerating objects: 471, done.\u001b[K\n",
            "remote: Counting objects: 100% (471/471), done.\u001b[K\n",
            "remote: Compressing objects: 100% (76/76), done.\u001b[K\n",
            "remote: Total 471 (delta 403), reused 448 (delta 394), pack-reused 0 (from 0)\u001b[K\n",
            "Receiving objects: 100% (471/471), 2.10 MiB | 4.13 MiB/s, done.\n",
            "Resolving deltas: 100% (403/403), done.\n"
          ]
        }
      ]
    },
    {
      "cell_type": "code",
      "execution_count": 20,
      "metadata": {
        "id": "a4c_XYKCBCyC"
      },
      "outputs": [],
      "source": [
        "import numpy as np\n",
        "import tensorflow as tf\n",
        "import pandas as pd\n",
        "import os\n",
        "from sklearn.model_selection import train_test_split\n",
        "import random\n",
        "from tensorflow.keras.models import Sequential\n",
        "from tensorflow.keras.layers import Dense, LSTM, InputLayer\n",
        "import keras\n",
        "from sklearn.metrics import r2_score\n",
        "import matplotlib.pyplot as plt\n",
        "from tensorflow.keras.losses import MeanSquaredError\n",
        "from tensorflow.keras.metrics import RootMeanSquaredError"
      ]
    },
    {
      "cell_type": "markdown",
      "source": [],
      "metadata": {
        "id": "lIpfrsH0GBtM"
      }
    },
    {
      "cell_type": "code",
      "execution_count": 3,
      "metadata": {
        "id": "pCXLBRltBCyD"
      },
      "outputs": [],
      "source": [
        "df_average = pd.read_csv('ResearchMethods_GitHub/ndvi_data/average_ndvi.csv')\n",
        "df_average['date'] = pd.to_datetime(df_average.date)\n",
        "df_average = df_average.drop(columns=['Unnamed: 0'])"
      ]
    },
    {
      "cell_type": "code",
      "source": [
        "lst_ndvi = list(df_average.NDVI)"
      ],
      "metadata": {
        "id": "KZ68qqwuP6lE"
      },
      "execution_count": 6,
      "outputs": []
    },
    {
      "cell_type": "markdown",
      "source": [
        "Goal: forecast the next 6 months (12 steps) from the last year (23 steps).\n",
        "\n",
        "We are going to generate an array of x values that is going to a list of (lists of) predictors which are 23 steps (variables) in the time series and an array of y values that is going to have a list of (lists of) targets having the 12 steps following the 23 steps mentioned before."
      ],
      "metadata": {
        "id": "-LuaMwBcImu7"
      }
    },
    {
      "cell_type": "code",
      "source": [
        "n_past = 23\n",
        "n_future = 1\n",
        "n_total = n_past + n_future\n",
        "\n",
        "last_index = len(lst_ndvi)\n",
        "start_index = last_index - n_total\n",
        "\n",
        "x_ndvi = []\n",
        "y_ndvi = []\n",
        "\n",
        "while start_index > 0:\n",
        "  x_ndvi.append(lst_ndvi[start_index : start_index + n_past])\n",
        "  y_ndvi.append(lst_ndvi[start_index + n_past : start_index + + n_total])\n",
        "  start_index -= 1\n",
        "\n",
        "x_ndvi = np.array(x_ndvi)\n",
        "y_ndvi = np.array(y_ndvi).flatten()\n",
        "print(x_ndvi.shape,y_ndvi.shape)\n",
        "print(x_ndvi[0],y_ndvi[0],'\\n',lst_ndvi[-n_total:])"
      ],
      "metadata": {
        "id": "qdytsNA5Ikxd",
        "outputId": "63be764e-9bb9-4686-b925-fe02002d614d",
        "colab": {
          "base_uri": "https://localhost:8080/"
        }
      },
      "execution_count": 43,
      "outputs": [
        {
          "output_type": "stream",
          "name": "stdout",
          "text": [
            "(114, 23) (114,)\n",
            "[0.24878722 0.25532555 0.27342907 0.25360088 0.32241667 0.33934254\n",
            " 0.32739211 0.32080263 0.32741053 0.30295833 0.29243596 0.2873557\n",
            " 0.32455263 0.44499386 0.4853307  0.35737281 0.32430921 0.27180439\n",
            " 0.25947632 0.24794079 0.23704405 0.24128326 0.23409207] 0.2430762114537445 \n",
            " [0.2487872246696035, 0.2553255506607929, 0.2734290748898678, 0.2536008771929824, 0.3224166666666666, 0.3393425438596492, 0.3273921052631579, 0.3208026315789474, 0.3274105263157894, 0.3029583333333333, 0.2924359649122807, 0.2873557017543859, 0.3245526315789473, 0.4449938596491228, 0.4853307017543859, 0.3573728070175438, 0.3243092105263158, 0.2718043859649123, 0.2594763157894737, 0.2479407894736842, 0.2370440528634361, 0.2412832599118942, 0.2340920704845815, 0.2430762114537445]\n"
          ]
        }
      ]
    },
    {
      "cell_type": "markdown",
      "source": [
        "Data must be in a 3D format (n_samples, n_timesteps, n_features). This reshape is necessary sometimes when using Keras.\n",
        "\n",
        "It is like having a list of tables."
      ],
      "metadata": {
        "id": "2Xh8uw8-TnpS"
      }
    },
    {
      "cell_type": "code",
      "source": [
        "X_train, X_test, y_train, y_test = train_test_split(x_ndvi, y_ndvi,\n",
        "                                                    test_size=0.2, random_state=42)\n",
        "# reshape data into the right format for RNNs\n",
        "n_samples = X_train.shape[0]\n",
        "n_timesteps = X_train.shape[1]\n",
        "n_steps = y_train.shape[0]\n",
        "n_features = 1\n",
        "X_train_rs = X_train.reshape(n_samples, n_timesteps, n_features)\n",
        "X_test_rs = X_test.reshape(X_test.shape[0], n_timesteps, n_features)\n",
        "\n",
        "print(X_train_rs.shape, X_test_rs.shape, y_train.shape, y_test.shape, n_samples, n_timesteps, n_features)"
      ],
      "metadata": {
        "id": "kfVc_753QKqC",
        "outputId": "7dd4cab8-0e7b-48c8-cd3e-c9b39a804640",
        "colab": {
          "base_uri": "https://localhost:8080/"
        }
      },
      "execution_count": 30,
      "outputs": [
        {
          "output_type": "stream",
          "name": "stdout",
          "text": [
            "(90, 23, 1) (23, 23, 1) (90,) (23,) 90 23 1\n"
          ]
        }
      ]
    },
    {
      "cell_type": "code",
      "source": [
        "random.seed(42)\n",
        "batch_size = 32\n",
        "\n",
        "simple_model = Sequential([\n",
        "    InputLayer((n_timesteps,n_features)),\n",
        "    LSTM(64, activation='tanh',input_shape=(n_timesteps, n_features)),\n",
        "    Dense(y_train.shape[0]),\n",
        "    ])\n",
        "simple_model.summary()"
      ],
      "metadata": {
        "id": "OpsefbnPQh37",
        "outputId": "2c62f888-693d-4dbf-9fc8-11d9619a5e79",
        "colab": {
          "base_uri": "https://localhost:8080/",
          "height": 248
        }
      },
      "execution_count": 59,
      "outputs": [
        {
          "output_type": "stream",
          "name": "stderr",
          "text": [
            "/usr/local/lib/python3.10/dist-packages/keras/src/layers/rnn/rnn.py:204: UserWarning: Do not pass an `input_shape`/`input_dim` argument to a layer. When using Sequential models, prefer using an `Input(shape)` object as the first layer in the model instead.\n",
            "  super().__init__(**kwargs)\n"
          ]
        },
        {
          "output_type": "display_data",
          "data": {
            "text/plain": [
              "\u001b[1mModel: \"sequential_6\"\u001b[0m\n"
            ],
            "text/html": [
              "<pre style=\"white-space:pre;overflow-x:auto;line-height:normal;font-family:Menlo,'DejaVu Sans Mono',consolas,'Courier New',monospace\"><span style=\"font-weight: bold\">Model: \"sequential_6\"</span>\n",
              "</pre>\n"
            ]
          },
          "metadata": {}
        },
        {
          "output_type": "display_data",
          "data": {
            "text/plain": [
              "┏━━━━━━━━━━━━━━━━━━━━━━━━━━━━━━━━━━━━━━┳━━━━━━━━━━━━━━━━━━━━━━━━━━━━━┳━━━━━━━━━━━━━━━━━┓\n",
              "┃\u001b[1m \u001b[0m\u001b[1mLayer (type)                        \u001b[0m\u001b[1m \u001b[0m┃\u001b[1m \u001b[0m\u001b[1mOutput Shape               \u001b[0m\u001b[1m \u001b[0m┃\u001b[1m \u001b[0m\u001b[1m        Param #\u001b[0m\u001b[1m \u001b[0m┃\n",
              "┡━━━━━━━━━━━━━━━━━━━━━━━━━━━━━━━━━━━━━━╇━━━━━━━━━━━━━━━━━━━━━━━━━━━━━╇━━━━━━━━━━━━━━━━━┩\n",
              "│ lstm_7 (\u001b[38;5;33mLSTM\u001b[0m)                        │ (\u001b[38;5;45mNone\u001b[0m, \u001b[38;5;34m64\u001b[0m)                  │          \u001b[38;5;34m16,896\u001b[0m │\n",
              "├──────────────────────────────────────┼─────────────────────────────┼─────────────────┤\n",
              "│ dense_6 (\u001b[38;5;33mDense\u001b[0m)                      │ (\u001b[38;5;45mNone\u001b[0m, \u001b[38;5;34m1\u001b[0m)                   │              \u001b[38;5;34m65\u001b[0m │\n",
              "└──────────────────────────────────────┴─────────────────────────────┴─────────────────┘\n"
            ],
            "text/html": [
              "<pre style=\"white-space:pre;overflow-x:auto;line-height:normal;font-family:Menlo,'DejaVu Sans Mono',consolas,'Courier New',monospace\">┏━━━━━━━━━━━━━━━━━━━━━━━━━━━━━━━━━━━━━━┳━━━━━━━━━━━━━━━━━━━━━━━━━━━━━┳━━━━━━━━━━━━━━━━━┓\n",
              "┃<span style=\"font-weight: bold\"> Layer (type)                         </span>┃<span style=\"font-weight: bold\"> Output Shape                </span>┃<span style=\"font-weight: bold\">         Param # </span>┃\n",
              "┡━━━━━━━━━━━━━━━━━━━━━━━━━━━━━━━━━━━━━━╇━━━━━━━━━━━━━━━━━━━━━━━━━━━━━╇━━━━━━━━━━━━━━━━━┩\n",
              "│ lstm_7 (<span style=\"color: #0087ff; text-decoration-color: #0087ff\">LSTM</span>)                        │ (<span style=\"color: #00d7ff; text-decoration-color: #00d7ff\">None</span>, <span style=\"color: #00af00; text-decoration-color: #00af00\">64</span>)                  │          <span style=\"color: #00af00; text-decoration-color: #00af00\">16,896</span> │\n",
              "├──────────────────────────────────────┼─────────────────────────────┼─────────────────┤\n",
              "│ dense_6 (<span style=\"color: #0087ff; text-decoration-color: #0087ff\">Dense</span>)                      │ (<span style=\"color: #00d7ff; text-decoration-color: #00d7ff\">None</span>, <span style=\"color: #00af00; text-decoration-color: #00af00\">1</span>)                   │              <span style=\"color: #00af00; text-decoration-color: #00af00\">65</span> │\n",
              "└──────────────────────────────────────┴─────────────────────────────┴─────────────────┘\n",
              "</pre>\n"
            ]
          },
          "metadata": {}
        },
        {
          "output_type": "display_data",
          "data": {
            "text/plain": [
              "\u001b[1m Total params: \u001b[0m\u001b[38;5;34m16,961\u001b[0m (66.25 KB)\n"
            ],
            "text/html": [
              "<pre style=\"white-space:pre;overflow-x:auto;line-height:normal;font-family:Menlo,'DejaVu Sans Mono',consolas,'Courier New',monospace\"><span style=\"font-weight: bold\"> Total params: </span><span style=\"color: #00af00; text-decoration-color: #00af00\">16,961</span> (66.25 KB)\n",
              "</pre>\n"
            ]
          },
          "metadata": {}
        },
        {
          "output_type": "display_data",
          "data": {
            "text/plain": [
              "\u001b[1m Trainable params: \u001b[0m\u001b[38;5;34m16,961\u001b[0m (66.25 KB)\n"
            ],
            "text/html": [
              "<pre style=\"white-space:pre;overflow-x:auto;line-height:normal;font-family:Menlo,'DejaVu Sans Mono',consolas,'Courier New',monospace\"><span style=\"font-weight: bold\"> Trainable params: </span><span style=\"color: #00af00; text-decoration-color: #00af00\">16,961</span> (66.25 KB)\n",
              "</pre>\n"
            ]
          },
          "metadata": {}
        },
        {
          "output_type": "display_data",
          "data": {
            "text/plain": [
              "\u001b[1m Non-trainable params: \u001b[0m\u001b[38;5;34m0\u001b[0m (0.00 B)\n"
            ],
            "text/html": [
              "<pre style=\"white-space:pre;overflow-x:auto;line-height:normal;font-family:Menlo,'DejaVu Sans Mono',consolas,'Courier New',monospace\"><span style=\"font-weight: bold\"> Non-trainable params: </span><span style=\"color: #00af00; text-decoration-color: #00af00\">0</span> (0.00 B)\n",
              "</pre>\n"
            ]
          },
          "metadata": {}
        }
      ]
    },
    {
      "cell_type": "code",
      "source": [
        "simple_model.compile(\n",
        "optimizer=keras.optimizers.Adam(learning_rate=0.01),\n",
        "loss='mean_squared_error',\n",
        "metrics=[RootMeanSquaredError()],\n",
        ")\n",
        "smod_history = simple_model.fit(X_train_rs, y_train,\n",
        "                                validation_split=0.2,\n",
        "                                epochs=15,\n",
        "                                batch_size=batch_size,\n",
        "                                shuffle = True\n",
        "                                )\n"
      ],
      "metadata": {
        "id": "JBSlqzzfGNUH",
        "outputId": "fc32611b-9de0-445d-8910-09a900d9f085",
        "colab": {
          "base_uri": "https://localhost:8080/"
        }
      },
      "execution_count": 60,
      "outputs": [
        {
          "output_type": "stream",
          "name": "stdout",
          "text": [
            "Epoch 1/15\n",
            "\u001b[1m3/3\u001b[0m \u001b[32m━━━━━━━━━━━━━━━━━━━━\u001b[0m\u001b[37m\u001b[0m \u001b[1m2s\u001b[0m 242ms/step - loss: 0.0894 - root_mean_squared_error: 0.2954 - val_loss: 0.0122 - val_root_mean_squared_error: 0.1103\n",
            "Epoch 2/15\n",
            "\u001b[1m3/3\u001b[0m \u001b[32m━━━━━━━━━━━━━━━━━━━━\u001b[0m\u001b[37m\u001b[0m \u001b[1m0s\u001b[0m 41ms/step - loss: 0.0137 - root_mean_squared_error: 0.1162 - val_loss: 0.0085 - val_root_mean_squared_error: 0.0920\n",
            "Epoch 3/15\n",
            "\u001b[1m3/3\u001b[0m \u001b[32m━━━━━━━━━━━━━━━━━━━━\u001b[0m\u001b[37m\u001b[0m \u001b[1m0s\u001b[0m 46ms/step - loss: 0.0080 - root_mean_squared_error: 0.0896 - val_loss: 0.0096 - val_root_mean_squared_error: 0.0980\n",
            "Epoch 4/15\n",
            "\u001b[1m3/3\u001b[0m \u001b[32m━━━━━━━━━━━━━━━━━━━━\u001b[0m\u001b[37m\u001b[0m \u001b[1m0s\u001b[0m 34ms/step - loss: 0.0081 - root_mean_squared_error: 0.0899 - val_loss: 0.0081 - val_root_mean_squared_error: 0.0903\n",
            "Epoch 5/15\n",
            "\u001b[1m3/3\u001b[0m \u001b[32m━━━━━━━━━━━━━━━━━━━━\u001b[0m\u001b[37m\u001b[0m \u001b[1m0s\u001b[0m 48ms/step - loss: 0.0074 - root_mean_squared_error: 0.0863 - val_loss: 0.0072 - val_root_mean_squared_error: 0.0849\n",
            "Epoch 6/15\n",
            "\u001b[1m3/3\u001b[0m \u001b[32m━━━━━━━━━━━━━━━━━━━━\u001b[0m\u001b[37m\u001b[0m \u001b[1m0s\u001b[0m 37ms/step - loss: 0.0061 - root_mean_squared_error: 0.0779 - val_loss: 0.0077 - val_root_mean_squared_error: 0.0879\n",
            "Epoch 7/15\n",
            "\u001b[1m3/3\u001b[0m \u001b[32m━━━━━━━━━━━━━━━━━━━━\u001b[0m\u001b[37m\u001b[0m \u001b[1m0s\u001b[0m 52ms/step - loss: 0.0072 - root_mean_squared_error: 0.0848 - val_loss: 0.0060 - val_root_mean_squared_error: 0.0777\n",
            "Epoch 8/15\n",
            "\u001b[1m3/3\u001b[0m \u001b[32m━━━━━━━━━━━━━━━━━━━━\u001b[0m\u001b[37m\u001b[0m \u001b[1m0s\u001b[0m 46ms/step - loss: 0.0056 - root_mean_squared_error: 0.0751 - val_loss: 0.0064 - val_root_mean_squared_error: 0.0800\n",
            "Epoch 9/15\n",
            "\u001b[1m3/3\u001b[0m \u001b[32m━━━━━━━━━━━━━━━━━━━━\u001b[0m\u001b[37m\u001b[0m \u001b[1m0s\u001b[0m 51ms/step - loss: 0.0049 - root_mean_squared_error: 0.0693 - val_loss: 0.0055 - val_root_mean_squared_error: 0.0741\n",
            "Epoch 10/15\n",
            "\u001b[1m3/3\u001b[0m \u001b[32m━━━━━━━━━━━━━━━━━━━━\u001b[0m\u001b[37m\u001b[0m \u001b[1m0s\u001b[0m 38ms/step - loss: 0.0053 - root_mean_squared_error: 0.0725 - val_loss: 0.0061 - val_root_mean_squared_error: 0.0781\n",
            "Epoch 11/15\n",
            "\u001b[1m3/3\u001b[0m \u001b[32m━━━━━━━━━━━━━━━━━━━━\u001b[0m\u001b[37m\u001b[0m \u001b[1m0s\u001b[0m 48ms/step - loss: 0.0054 - root_mean_squared_error: 0.0738 - val_loss: 0.0051 - val_root_mean_squared_error: 0.0713\n",
            "Epoch 12/15\n",
            "\u001b[1m3/3\u001b[0m \u001b[32m━━━━━━━━━━━━━━━━━━━━\u001b[0m\u001b[37m\u001b[0m \u001b[1m0s\u001b[0m 41ms/step - loss: 0.0048 - root_mean_squared_error: 0.0694 - val_loss: 0.0049 - val_root_mean_squared_error: 0.0700\n",
            "Epoch 13/15\n",
            "\u001b[1m3/3\u001b[0m \u001b[32m━━━━━━━━━━━━━━━━━━━━\u001b[0m\u001b[37m\u001b[0m \u001b[1m0s\u001b[0m 26ms/step - loss: 0.0046 - root_mean_squared_error: 0.0676 - val_loss: 0.0043 - val_root_mean_squared_error: 0.0659\n",
            "Epoch 14/15\n",
            "\u001b[1m3/3\u001b[0m \u001b[32m━━━━━━━━━━━━━━━━━━━━\u001b[0m\u001b[37m\u001b[0m \u001b[1m0s\u001b[0m 25ms/step - loss: 0.0049 - root_mean_squared_error: 0.0698 - val_loss: 0.0042 - val_root_mean_squared_error: 0.0647\n",
            "Epoch 15/15\n",
            "\u001b[1m3/3\u001b[0m \u001b[32m━━━━━━━━━━━━━━━━━━━━\u001b[0m\u001b[37m\u001b[0m \u001b[1m0s\u001b[0m 25ms/step - loss: 0.0043 - root_mean_squared_error: 0.0654 - val_loss: 0.0046 - val_root_mean_squared_error: 0.0677\n"
          ]
        }
      ]
    },
    {
      "cell_type": "code",
      "source": [
        "preds = simple_model.predict(X_test)\n",
        "print(r2_score(preds, y_test))\n",
        "plt.plot(smod_history.history['loss'])\n",
        "plt.plot(smod_history.history['val_loss'])\n",
        "plt.title('model loss')\n",
        "plt.xlabel('epoch')\n",
        "plt.legend(['train', 'val'], loc='upper left')\n",
        "plt.show()"
      ],
      "metadata": {
        "id": "Mf-m_XL9bhLi",
        "outputId": "ce74d846-652e-4f05-e8a2-eaf62c3b2515",
        "colab": {
          "base_uri": "https://localhost:8080/",
          "height": 507
        }
      },
      "execution_count": 61,
      "outputs": [
        {
          "output_type": "stream",
          "name": "stdout",
          "text": [
            "\u001b[1m1/1\u001b[0m \u001b[32m━━━━━━━━━━━━━━━━━━━━\u001b[0m\u001b[37m\u001b[0m \u001b[1m0s\u001b[0m 166ms/step\n",
            "0.812177260646416\n"
          ]
        },
        {
          "output_type": "display_data",
          "data": {
            "text/plain": [
              "<Figure size 640x480 with 1 Axes>"
            ],
            "image/png": "[encoded data removed]"
          },
          "metadata": {}
        }
      ]
    },
    {
      "cell_type": "code",
      "source": [
        "total_preds = simple_model.predict(x_ndvi)\n",
        "\n",
        "plt.plot(total_preds)\n",
        "plt.plot(y_ndvi)\n",
        "plt.show()"
      ],
      "metadata": {
        "id": "ftuEAeUXcDD3",
        "outputId": "2b46f888-8f5d-4dfc-a3f7-28941f6aff39",
        "colab": {
          "base_uri": "https://localhost:8080/",
          "height": 452
        }
      },
      "execution_count": 62,
      "outputs": [
        {
          "output_type": "stream",
          "name": "stdout",
          "text": [
            "\u001b[1m4/4\u001b[0m \u001b[32m━━━━━━━━━━━━━━━━━━━━\u001b[0m\u001b[37m\u001b[0m \u001b[1m0s\u001b[0m 6ms/step  \n"
          ]
        },
        {
          "output_type": "display_data",
          "data": {
            "text/plain": [
              "<Figure size 640x480 with 1 Axes>"
            ],
            "image/png": "[encoded data removed]"
          },
          "metadata": {}
        }
      ]
    },
    {
      "cell_type": "code",
      "source": [
        "preds"
      ],
      "metadata": {
        "id": "mHej8myscKis",
        "outputId": "2eb09016-5d9e-480a-a9cb-b1e43604f6d8",
        "colab": {
          "base_uri": "https://localhost:8080/"
        }
      },
      "execution_count": null,
      "outputs": [
        {
          "output_type": "execute_result",
          "data": {
            "text/plain": [
              "array([[0.31791347, 0.3149133 , 0.3443817 , 0.36195835, 0.26998156,\n",
              "        0.32763818, 0.32392198, 0.31833124, 0.43262732, 0.34681308,\n",
              "        0.40857494, 0.25856465],\n",
              "       [0.3522913 , 0.3399785 , 0.36289185, 0.37601164, 0.28457573,\n",
              "        0.35209724, 0.33742929, 0.3399564 , 0.4450394 , 0.35906368,\n",
              "        0.41941178, 0.27855563],\n",
              "       [0.35206664, 0.34758988, 0.36586404, 0.3801828 , 0.28331152,\n",
              "        0.3548606 , 0.33539176, 0.34589323, 0.4453122 , 0.3578353 ,\n",
              "        0.41673505, 0.28224352],\n",
              "       [0.31368724, 0.3205754 , 0.34443146, 0.36671507, 0.26629278,\n",
              "        0.32792863, 0.318357  , 0.32109112, 0.43318927, 0.34374   ,\n",
              "        0.40321067, 0.2588971 ],\n",
              "       [0.34214276, 0.35609186, 0.36625147, 0.3977849 , 0.27734628,\n",
              "        0.35322955, 0.32104418, 0.34317905, 0.44794446, 0.34992963,\n",
              "        0.4037639 , 0.27317318],\n",
              "       [0.3354545 , 0.33854252, 0.36025017, 0.3718856 , 0.27537426,\n",
              "        0.34409264, 0.33102977, 0.33953875, 0.43549132, 0.3508147 ,\n",
              "        0.41144097, 0.27614167],\n",
              "       [0.42789754, 0.4420033 , 0.42615962, 0.50015694, 0.32353538,\n",
              "        0.42085204, 0.32867694, 0.38728556, 0.5022011 , 0.37700838,\n",
              "        0.4051165 , 0.29019326],\n",
              "       [0.33558598, 0.34442824, 0.3589995 , 0.3985248 , 0.27609608,\n",
              "        0.34594846, 0.31561196, 0.32811576, 0.44981378, 0.34728828,\n",
              "        0.40272912, 0.2603057 ],\n",
              "       [0.31071272, 0.2921278 , 0.33497202, 0.32149577, 0.26637217,\n",
              "        0.31603947, 0.33883902, 0.31925255, 0.41594994, 0.35134557,\n",
              "        0.4183446 , 0.26713213],\n",
              "       [0.30633005, 0.31070536, 0.34143722, 0.3498531 , 0.26283613,\n",
              "        0.32109177, 0.32411388, 0.320577  , 0.42222944, 0.3426168 ,\n",
              "        0.40512592, 0.26100734],\n",
              "       [0.36532754, 0.35747647, 0.37651727, 0.38538492, 0.29109168,\n",
              "        0.36439976, 0.34302843, 0.35487893, 0.44783586, 0.36239028,\n",
              "        0.42296875, 0.29055285],\n",
              "       [0.3071315 , 0.3033305 , 0.33780175, 0.34240574, 0.26448938,\n",
              "        0.31875643, 0.32730752, 0.31766906, 0.42205852, 0.34550142,\n",
              "        0.40934408, 0.26073867],\n",
              "       [0.39728987, 0.40228435, 0.39600825, 0.4579003 , 0.30468196,\n",
              "        0.39353183, 0.32359365, 0.36211926, 0.4861573 , 0.36707926,\n",
              "        0.4081055 , 0.28035846],\n",
              "       [0.4155072 , 0.42085874, 0.41515893, 0.4573267 , 0.31832898,\n",
              "        0.40946865, 0.34191585, 0.3890289 , 0.4851995 , 0.3775596 ,\n",
              "        0.418471  , 0.30451682],\n",
              "       [0.3623921 , 0.33735487, 0.36304265, 0.37239552, 0.2905409 ,\n",
              "        0.35555872, 0.3435164 , 0.34040874, 0.44952017, 0.3656133 ,\n",
              "        0.42686814, 0.28159562],\n",
              "       [0.30587956, 0.3072914 , 0.3378563 , 0.34890604, 0.26311666,\n",
              "        0.3196282 , 0.3225678 , 0.31770068, 0.42493457, 0.34396732,\n",
              "        0.40538454, 0.25872606],\n",
              "       [0.37032193, 0.34045216, 0.36930415, 0.36416262, 0.29457024,\n",
              "        0.3605154 , 0.35355854, 0.34940946, 0.44633287, 0.369554  ,\n",
              "        0.4345193 , 0.29276136],\n",
              "       [0.30750516, 0.29681876, 0.33693892, 0.33429635, 0.2657877 ,\n",
              "        0.31645906, 0.33245748, 0.31578815, 0.41835767, 0.34705433,\n",
              "        0.41344452, 0.26119217],\n",
              "       [0.32306102, 0.30175248, 0.34192824, 0.32910067, 0.27196562,\n",
              "        0.3251277 , 0.34239358, 0.32554936, 0.42153484, 0.35490197,\n",
              "        0.4225467 , 0.273179  ],\n",
              "       [0.36456648, 0.3777428 , 0.37820846, 0.43563753, 0.2882718 ,\n",
              "        0.37026915, 0.313867  , 0.34418783, 0.47013438, 0.35427642,\n",
              "        0.4013852 , 0.26744193],\n",
              "       [0.37548178, 0.37179706, 0.37794024, 0.4180534 , 0.29458007,\n",
              "        0.3735682 , 0.32903612, 0.35086733, 0.4681136 , 0.36340982,\n",
              "        0.41410315, 0.2799313 ]], dtype=float32)"
            ]
          },
          "metadata": {},
          "execution_count": 50
        }
      ]
    }
  ],
  "metadata": {
    "kernelspec": {
      "display_name": "general",
      "language": "python",
      "name": "python3"
    },
    "language_info": {
      "codemirror_mode": {
        "name": "ipython",
        "version": 3
      },
      "file_extension": ".py",
      "mimetype": "text/x-python",
      "name": "python",
      "nbconvert_exporter": "python",
      "pygments_lexer": "ipython3",
      "version": "3.11.7"
    },
    "colab": {
      "provenance": []
    }
  },
  "nbformat": 4,
  "nbformat_minor": 0
}
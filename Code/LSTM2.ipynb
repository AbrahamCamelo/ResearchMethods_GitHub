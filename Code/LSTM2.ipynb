{
  "cells": [
    {
      "cell_type": "code",
      "source": [
        "!git clone https://github.com/AbrahamCamelo/ResearchMethods_GitHub.git"
      ],
      "metadata": {
        "id": "yiiPYpMIr_nP",
        "outputId": "aa94583b-d407-40ec-9eef-8537c34218ee",
        "colab": {
          "base_uri": "https://localhost:8080/"
        }
      },
      "execution_count": 1,
      "outputs": [
        {
          "output_type": "stream",
          "name": "stdout",
          "text": [
            "Cloning into 'ResearchMethods_GitHub'...\n",
            "remote: Enumerating objects: 495, done.\u001b[K\n",
            "remote: Counting objects: 100% (495/495), done.\u001b[K\n",
            "remote: Compressing objects: 100% (99/99), done.\u001b[K\n",
            "remote: Total 495 (delta 415), reused 451 (delta 395), pack-reused 0 (from 0)\u001b[K\n",
            "Receiving objects: 100% (495/495), 2.36 MiB | 8.47 MiB/s, done.\n",
            "Resolving deltas: 100% (415/415), done.\n"
          ]
        }
      ]
    },
    {
      "cell_type": "code",
      "source": [
        "!pip install -q -U keras-tuner"
      ],
      "metadata": {
        "id": "0KViTMZ5shtT",
        "outputId": "7dd1ccef-62a5-48b6-d67f-012eae82019b",
        "colab": {
          "base_uri": "https://localhost:8080/"
        }
      },
      "execution_count": 4,
      "outputs": [
        {
          "output_type": "stream",
          "name": "stdout",
          "text": [
            "\u001b[?25l   \u001b[90m━━━━━━━━━━━━━━━━━━━━━━━━━━━━━━━━━━━━━━━━\u001b[0m \u001b[32m0.0/129.1 kB\u001b[0m \u001b[31m?\u001b[0m eta \u001b[36m-:--:--\u001b[0m\r\u001b[2K   \u001b[91m━━━━━━━━━━━━━━━━━━━━━━━━━━━━\u001b[0m\u001b[91m╸\u001b[0m\u001b[90m━━━━━━━━━━━\u001b[0m \u001b[32m92.2/129.1 kB\u001b[0m \u001b[31m2.5 MB/s\u001b[0m eta \u001b[36m0:00:01\u001b[0m\r\u001b[2K   \u001b[90m━━━━━━━━━━━━━━━━━━━━━━━━━━━━━━━━━━━━━━━━\u001b[0m \u001b[32m129.1/129.1 kB\u001b[0m \u001b[31m2.3 MB/s\u001b[0m eta \u001b[36m0:00:00\u001b[0m\n",
            "\u001b[?25h"
          ]
        }
      ]
    },
    {
      "cell_type": "code",
      "execution_count": 25,
      "metadata": {
        "id": "EEssjBJJr9Oz"
      },
      "outputs": [],
      "source": [
        "import pandas as pd\n",
        "import numpy as np\n",
        "import tensorflow as tf\n",
        "from tensorflow.keras.models import Sequential\n",
        "from tensorflow.keras.layers import LSTM, Dense\n",
        "from tensorflow.keras.callbacks import EarlyStopping\n",
        "from tensorflow.keras.optimizers import Adam\n",
        "import keras_tuner as kt\n",
        "from sklearn.preprocessing import MinMaxScaler\n",
        "from sklearn.metrics import r2_score,root_mean_squared_error\n",
        "import matplotlib.pyplot as plt\n",
        "from sklearn.model_selection import train_test_split\n"
      ]
    },
    {
      "cell_type": "markdown",
      "source": [
        "Import the dataset"
      ],
      "metadata": {
        "id": "vUbZuXcXso-z"
      }
    },
    {
      "cell_type": "code",
      "source": [
        "df_average = pd.read_csv('ResearchMethods_GitHub/ndvi_data/average_ndvi.csv')\n",
        "df_average['date'] = pd.to_datetime(df_average.date)\n",
        "df_average = df_average.drop(columns=['Unnamed: 0'])\n",
        "lst_ndvi = np.array(df_average.NDVI)"
      ],
      "metadata": {
        "id": "mzs1kyFosIy3"
      },
      "execution_count": 16,
      "outputs": []
    },
    {
      "cell_type": "code",
      "source": [
        "n_steps_in = 23\n",
        "n_steps_out = 1"
      ],
      "metadata": {
        "id": "oPoOcjJ5s3fQ"
      },
      "execution_count": 17,
      "outputs": []
    },
    {
      "cell_type": "code",
      "source": [
        "scaler = MinMaxScaler()\n",
        "lst_ndvi = scaler.fit_transform(lst_ndvi.reshape(-1, 1))"
      ],
      "metadata": {
        "id": "QRSl_-rus5S5"
      },
      "execution_count": 18,
      "outputs": []
    },
    {
      "cell_type": "markdown",
      "source": [
        "#### Function to restructure the data for the model"
      ],
      "metadata": {
        "id": "bAVn5sAqtepX"
      }
    },
    {
      "cell_type": "code",
      "source": [
        "def prepare_data(data, n_steps_in, n_steps_out):\n",
        "    X, y = [], []\n",
        "    for i in range(len(data) - n_steps_in - n_steps_out):\n",
        "        X.append(data[i:i+n_steps_in])\n",
        "        y.append(data[i+n_steps_in:i+n_steps_in+n_steps_out])\n",
        "    return np.array(X), np.array(y)"
      ],
      "metadata": {
        "id": "zX4unV-1tc0t"
      },
      "execution_count": 19,
      "outputs": []
    },
    {
      "cell_type": "code",
      "source": [
        "X, y = prepare_data(lst_ndvi, n_steps_in, n_steps_out)"
      ],
      "metadata": {
        "id": "WXzTXxustrZd"
      },
      "execution_count": 20,
      "outputs": []
    },
    {
      "cell_type": "markdown",
      "source": [
        "## Keras tune\n",
        "*   Definition of an integer hyperparameter: hp.Int(*hyperparameter*, min_value=#, max_value=#, step=#). This means that the *hyperparameter* will range from *min_value* to *max_value* inclusive with the minimum step for walking through the interval being *step*.\n",
        "\n",
        "### Compile\n",
        "Configures the model for training.\n",
        "\n",
        "**Hyperparameters**\n",
        "* **optimizer**: String (name of optimizer) or optimizer instance. Related to back propagation.\n",
        "* **loss**: Loss function. fn(y_true, y_pred)\n",
        "* **metrics**: List of metrics to be evaluated by the model during training and testing.\n",
        "\n",
        "It looks like loss is for the fitting of the model and metrics is for the final evaluation.\n",
        "\n"
      ],
      "metadata": {
        "id": "1J29P_w2wray"
      }
    },
    {
      "cell_type": "code",
      "source": [
        "def build_model_1layer(hp):\n",
        "    model = Sequential()\n",
        "    model.add(\n",
        "        LSTM(units=hp.Int(f\"units_0\", min_value=10, max_value=100, step=10),\n",
        "             activation='tanh',\n",
        "             input_shape=(n_steps_in, 1)\n",
        "             )\n",
        "        )\n",
        "    model.add(Dense(n_steps_out))\n",
        "    model.compile(\n",
        "        optimizer= Adam(learning_rate = hp.Float(\"lr\", min_value=1e-4, max_value=1e-2, sampling=\"log\")),\n",
        "        loss='mean_squared_error',\n",
        "        metrics = ['root_mean_squared_error']\n",
        "    )\n",
        "    return model"
      ],
      "metadata": {
        "id": "doMeN9lMuVku"
      },
      "execution_count": 21,
      "outputs": []
    },
    {
      "cell_type": "markdown",
      "source": [
        "### To initialize the tuner\n",
        "\n",
        "* **hypermodel**. The model-building function, which is build_model in our case.\n",
        "* **objective**. The name of the objective to optimize.\n",
        "* **max_trials**. The total number of trials to run during the search. Different trials have different hyperparameter values.\n",
        "* **executions_per_trial**. The number of models that should be built and fit for each trial. It is like cross-validation.\n",
        "* **overwrite**. Control whether to overwrite the previous results in the same directory or resume the previous search instead.\n",
        "* **directory**. A path to a directory for storing the search results.\n",
        "* **project_name**. The name of the sub-directory in the directory."
      ],
      "metadata": {
        "id": "UT2s8MmI0QgU"
      }
    },
    {
      "cell_type": "code",
      "source": [
        "!rm -rf /content/lstm_tuning"
      ],
      "metadata": {
        "id": "tvDH8zcWIkFn"
      },
      "execution_count": 64,
      "outputs": []
    },
    {
      "cell_type": "code",
      "source": [
        "tuner_1layer = kt.RandomSearch(\n",
        "    build_model_1layer,\n",
        "    objective='val_loss',\n",
        "    max_trials=40,\n",
        "    executions_per_trial=3,\n",
        "    directory='lstm_tuning',\n",
        "    project_name='1layer'\n",
        ")\n",
        "tuner_1layer.search_space_summary()"
      ],
      "metadata": {
        "id": "WhpLwZnTudpq",
        "outputId": "6f730a5d-5270-4b2b-8608-778295137c9a",
        "colab": {
          "base_uri": "https://localhost:8080/"
        }
      },
      "execution_count": 23,
      "outputs": [
        {
          "output_type": "stream",
          "name": "stdout",
          "text": [
            "Search space summary\n",
            "Default search space size: 2\n",
            "units_0 (Int)\n",
            "{'default': None, 'conditions': [], 'min_value': 10, 'max_value': 100, 'step': 10, 'sampling': 'linear'}\n",
            "lr (Float)\n",
            "{'default': 0.0001, 'conditions': [], 'min_value': 0.0001, 'max_value': 0.01, 'step': None, 'sampling': 'log'}\n"
          ]
        }
      ]
    },
    {
      "cell_type": "code",
      "source": [
        "X_train, X_val, y_train, y_val = train_test_split(X, y, test_size=0.2, random_state=42)\n",
        "X_train.shape"
      ],
      "metadata": {
        "id": "bradpfv71FbR",
        "colab": {
          "base_uri": "https://localhost:8080/"
        },
        "outputId": "1a683d23-f73f-4891-dd34-6d0d4291cc4c"
      },
      "execution_count": 28,
      "outputs": [
        {
          "output_type": "execute_result",
          "data": {
            "text/plain": [
              "(91, 23, 1)"
            ]
          },
          "metadata": {},
          "execution_count": 28
        }
      ]
    },
    {
      "cell_type": "code",
      "source": [
        "early_stop = EarlyStopping(monitor='val_loss', patience=10, restore_best_weights=True)"
      ],
      "metadata": {
        "id": "xrK5TokVTyEQ"
      },
      "execution_count": 61,
      "outputs": []
    },
    {
      "cell_type": "code",
      "source": [
        "tuner_1layer.search(X_train, y_train, epochs=30, validation_data=(X_val, y_val), callbacks=[early_stop])"
      ],
      "metadata": {
        "id": "UP7whisQ1Gwh",
        "outputId": "6272097a-a0f7-47e4-fae9-991f54bff8ac",
        "colab": {
          "base_uri": "https://localhost:8080/"
        }
      },
      "execution_count": 29,
      "outputs": [
        {
          "output_type": "stream",
          "name": "stdout",
          "text": [
            "Trial 40 Complete [00h 00m 30s]\n",
            "val_loss: 0.021605160708228748\n",
            "\n",
            "Best val_loss So Far: 0.01150559913367033\n",
            "Total elapsed time: 00h 16m 16s\n"
          ]
        }
      ]
    },
    {
      "cell_type": "markdown",
      "source": [
        "Show the sumary of the results"
      ],
      "metadata": {
        "id": "P4CV9D3FXMAh"
      }
    },
    {
      "cell_type": "code",
      "source": [
        "tuner_1layer.results_summary()\n"
      ],
      "metadata": {
        "id": "esFteu4xXOSY",
        "outputId": "3092d425-7be9-44d8-b695-927fab5a0b25",
        "colab": {
          "base_uri": "https://localhost:8080/"
        }
      },
      "execution_count": 32,
      "outputs": [
        {
          "output_type": "stream",
          "name": "stdout",
          "text": [
            "Results summary\n",
            "Results in lstm_tuning/1layer\n",
            "Showing 10 best trials\n",
            "Objective(name=\"val_loss\", direction=\"min\")\n",
            "\n",
            "Trial 25 summary\n",
            "Hyperparameters:\n",
            "units_0: 70\n",
            "lr: 0.006184222375640603\n",
            "Score: 0.01150559913367033\n",
            "\n",
            "Trial 16 summary\n",
            "Hyperparameters:\n",
            "units_0: 60\n",
            "lr: 0.006423597973604284\n",
            "Score: 0.013072832487523556\n",
            "\n",
            "Trial 03 summary\n",
            "Hyperparameters:\n",
            "units_0: 40\n",
            "lr: 0.008847108230417601\n",
            "Score: 0.014132944246133169\n",
            "\n",
            "Trial 17 summary\n",
            "Hyperparameters:\n",
            "units_0: 50\n",
            "lr: 0.005594661103196281\n",
            "Score: 0.015145217689375082\n",
            "\n",
            "Trial 14 summary\n",
            "Hyperparameters:\n",
            "units_0: 60\n",
            "lr: 0.003956370567137552\n",
            "Score: 0.015200677948693434\n",
            "\n",
            "Trial 01 summary\n",
            "Hyperparameters:\n",
            "units_0: 30\n",
            "lr: 0.004817411854480006\n",
            "Score: 0.01640612694124381\n",
            "\n",
            "Trial 24 summary\n",
            "Hyperparameters:\n",
            "units_0: 10\n",
            "lr: 0.006156805850411143\n",
            "Score: 0.019989207697411377\n",
            "\n",
            "Trial 13 summary\n",
            "Hyperparameters:\n",
            "units_0: 70\n",
            "lr: 0.002242865877928494\n",
            "Score: 0.0207215982178847\n",
            "\n",
            "Trial 39 summary\n",
            "Hyperparameters:\n",
            "units_0: 90\n",
            "lr: 0.0021418200870065777\n",
            "Score: 0.021605160708228748\n",
            "\n",
            "Trial 37 summary\n",
            "Hyperparameters:\n",
            "units_0: 60\n",
            "lr: 0.0017259745092203106\n",
            "Score: 0.024835215260585148\n"
          ]
        }
      ]
    },
    {
      "cell_type": "markdown",
      "source": [
        "Best result so far:\n",
        "* units: 40\n",
        "* lr: 0.00976844384018483\n",
        "* Score: 0.01515659037977457\n",
        "\n",
        "The other best result is\n",
        "num_layers: 1\n",
        "units_0: 60\n",
        "lr: 0.006429326855520711\n",
        "units_1: 20\n",
        "units_2: 100\n",
        "Score: 0.018751021474599838"
      ],
      "metadata": {
        "id": "mlFRTokKYPtq"
      }
    },
    {
      "cell_type": "code",
      "source": [
        "tuner_1layer.get_best_hyperparameters(1)[0].values"
      ],
      "metadata": {
        "id": "nFTpDp24Wum-",
        "outputId": "0b934438-d269-4703-8bac-50efa9a117c8",
        "colab": {
          "base_uri": "https://localhost:8080/"
        }
      },
      "execution_count": 30,
      "outputs": [
        {
          "output_type": "execute_result",
          "data": {
            "text/plain": [
              "{'units_0': 70, 'lr': 0.006184222375640603}"
            ]
          },
          "metadata": {},
          "execution_count": 30
        }
      ]
    },
    {
      "cell_type": "code",
      "source": [
        "best_model_1layer = tuner_1layer.get_best_models(num_models=1)[0]\n",
        "best_model_1layer.fit(X, y, epochs=30, validation_data=(X_val, y_val), callbacks=[early_stop])"
      ],
      "metadata": {
        "id": "8si84xAv1H6X",
        "outputId": "bab084f8-38d3-4d7c-d32f-1dd797a3c2a2",
        "colab": {
          "base_uri": "https://localhost:8080/"
        }
      },
      "execution_count": 33,
      "outputs": [
        {
          "output_type": "stream",
          "name": "stdout",
          "text": [
            "Epoch 1/30\n"
          ]
        },
        {
          "output_type": "stream",
          "name": "stderr",
          "text": [
            "/usr/local/lib/python3.10/dist-packages/keras/src/layers/rnn/rnn.py:204: UserWarning: Do not pass an `input_shape`/`input_dim` argument to a layer. When using Sequential models, prefer using an `Input(shape)` object as the first layer in the model instead.\n",
            "  super().__init__(**kwargs)\n",
            "/usr/local/lib/python3.10/dist-packages/keras/src/saving/saving_lib.py:576: UserWarning: Skipping variable loading for optimizer 'adam', because it has 2 variables whereas the saved optimizer has 12 variables. \n",
            "  saveable.load_own_variables(weights_store.get(inner_path))\n"
          ]
        },
        {
          "output_type": "stream",
          "name": "stdout",
          "text": [
            "\u001b[1m4/4\u001b[0m \u001b[32m━━━━━━━━━━━━━━━━━━━━\u001b[0m\u001b[37m\u001b[0m \u001b[1m2s\u001b[0m 120ms/step - loss: 0.0483 - root_mean_squared_error: 0.2131 - val_loss: 0.0283 - val_root_mean_squared_error: 0.1682\n",
            "Epoch 2/30\n",
            "\u001b[1m4/4\u001b[0m \u001b[32m━━━━━━━━━━━━━━━━━━━━\u001b[0m\u001b[37m\u001b[0m \u001b[1m0s\u001b[0m 24ms/step - loss: 0.0174 - root_mean_squared_error: 0.1316 - val_loss: 0.0154 - val_root_mean_squared_error: 0.1242\n",
            "Epoch 3/30\n",
            "\u001b[1m4/4\u001b[0m \u001b[32m━━━━━━━━━━━━━━━━━━━━\u001b[0m\u001b[37m\u001b[0m \u001b[1m0s\u001b[0m 25ms/step - loss: 0.0160 - root_mean_squared_error: 0.1266 - val_loss: 0.0226 - val_root_mean_squared_error: 0.1503\n",
            "Epoch 4/30\n",
            "\u001b[1m4/4\u001b[0m \u001b[32m━━━━━━━━━━━━━━━━━━━━\u001b[0m\u001b[37m\u001b[0m \u001b[1m0s\u001b[0m 23ms/step - loss: 0.0161 - root_mean_squared_error: 0.1269 - val_loss: 0.0156 - val_root_mean_squared_error: 0.1249\n",
            "Epoch 5/30\n",
            "\u001b[1m4/4\u001b[0m \u001b[32m━━━━━━━━━━━━━━━━━━━━\u001b[0m\u001b[37m\u001b[0m \u001b[1m0s\u001b[0m 23ms/step - loss: 0.0149 - root_mean_squared_error: 0.1218 - val_loss: 0.0159 - val_root_mean_squared_error: 0.1260\n",
            "Epoch 6/30\n",
            "\u001b[1m4/4\u001b[0m \u001b[32m━━━━━━━━━━━━━━━━━━━━\u001b[0m\u001b[37m\u001b[0m \u001b[1m0s\u001b[0m 22ms/step - loss: 0.0145 - root_mean_squared_error: 0.1203 - val_loss: 0.0165 - val_root_mean_squared_error: 0.1285\n",
            "Epoch 7/30\n",
            "\u001b[1m4/4\u001b[0m \u001b[32m━━━━━━━━━━━━━━━━━━━━\u001b[0m\u001b[37m\u001b[0m \u001b[1m0s\u001b[0m 23ms/step - loss: 0.0116 - root_mean_squared_error: 0.1075 - val_loss: 0.0128 - val_root_mean_squared_error: 0.1131\n",
            "Epoch 8/30\n",
            "\u001b[1m4/4\u001b[0m \u001b[32m━━━━━━━━━━━━━━━━━━━━\u001b[0m\u001b[37m\u001b[0m \u001b[1m0s\u001b[0m 25ms/step - loss: 0.0120 - root_mean_squared_error: 0.1094 - val_loss: 0.0125 - val_root_mean_squared_error: 0.1120\n",
            "Epoch 9/30\n",
            "\u001b[1m4/4\u001b[0m \u001b[32m━━━━━━━━━━━━━━━━━━━━\u001b[0m\u001b[37m\u001b[0m \u001b[1m0s\u001b[0m 28ms/step - loss: 0.0130 - root_mean_squared_error: 0.1139 - val_loss: 0.0152 - val_root_mean_squared_error: 0.1235\n",
            "Epoch 10/30\n",
            "\u001b[1m4/4\u001b[0m \u001b[32m━━━━━━━━━━━━━━━━━━━━\u001b[0m\u001b[37m\u001b[0m \u001b[1m0s\u001b[0m 25ms/step - loss: 0.0130 - root_mean_squared_error: 0.1134 - val_loss: 0.0108 - val_root_mean_squared_error: 0.1038\n",
            "Epoch 11/30\n",
            "\u001b[1m4/4\u001b[0m \u001b[32m━━━━━━━━━━━━━━━━━━━━\u001b[0m\u001b[37m\u001b[0m \u001b[1m0s\u001b[0m 22ms/step - loss: 0.0133 - root_mean_squared_error: 0.1146 - val_loss: 0.0110 - val_root_mean_squared_error: 0.1048\n",
            "Epoch 12/30\n",
            "\u001b[1m4/4\u001b[0m \u001b[32m━━━━━━━━━━━━━━━━━━━━\u001b[0m\u001b[37m\u001b[0m \u001b[1m0s\u001b[0m 29ms/step - loss: 0.0099 - root_mean_squared_error: 0.0995 - val_loss: 0.0122 - val_root_mean_squared_error: 0.1103\n",
            "Epoch 13/30\n",
            "\u001b[1m4/4\u001b[0m \u001b[32m━━━━━━━━━━━━━━━━━━━━\u001b[0m\u001b[37m\u001b[0m \u001b[1m0s\u001b[0m 23ms/step - loss: 0.0100 - root_mean_squared_error: 0.0996 - val_loss: 0.0100 - val_root_mean_squared_error: 0.1002\n",
            "Epoch 14/30\n",
            "\u001b[1m4/4\u001b[0m \u001b[32m━━━━━━━━━━━━━━━━━━━━\u001b[0m\u001b[37m\u001b[0m \u001b[1m0s\u001b[0m 23ms/step - loss: 0.0092 - root_mean_squared_error: 0.0954 - val_loss: 0.0109 - val_root_mean_squared_error: 0.1044\n",
            "Epoch 15/30\n",
            "\u001b[1m4/4\u001b[0m \u001b[32m━━━━━━━━━━━━━━━━━━━━\u001b[0m\u001b[37m\u001b[0m \u001b[1m0s\u001b[0m 23ms/step - loss: 0.0109 - root_mean_squared_error: 0.1042 - val_loss: 0.0110 - val_root_mean_squared_error: 0.1049\n",
            "Epoch 16/30\n",
            "\u001b[1m4/4\u001b[0m \u001b[32m━━━━━━━━━━━━━━━━━━━━\u001b[0m\u001b[37m\u001b[0m \u001b[1m0s\u001b[0m 30ms/step - loss: 0.0099 - root_mean_squared_error: 0.0992 - val_loss: 0.0102 - val_root_mean_squared_error: 0.1011\n",
            "Epoch 17/30\n",
            "\u001b[1m4/4\u001b[0m \u001b[32m━━━━━━━━━━━━━━━━━━━━\u001b[0m\u001b[37m\u001b[0m \u001b[1m0s\u001b[0m 23ms/step - loss: 0.0125 - root_mean_squared_error: 0.1112 - val_loss: 0.0117 - val_root_mean_squared_error: 0.1082\n",
            "Epoch 18/30\n",
            "\u001b[1m4/4\u001b[0m \u001b[32m━━━━━━━━━━━━━━━━━━━━\u001b[0m\u001b[37m\u001b[0m \u001b[1m0s\u001b[0m 23ms/step - loss: 0.0106 - root_mean_squared_error: 0.1025 - val_loss: 0.0099 - val_root_mean_squared_error: 0.0995\n",
            "Epoch 19/30\n",
            "\u001b[1m4/4\u001b[0m \u001b[32m━━━━━━━━━━━━━━━━━━━━\u001b[0m\u001b[37m\u001b[0m \u001b[1m0s\u001b[0m 24ms/step - loss: 0.0111 - root_mean_squared_error: 0.1052 - val_loss: 0.0109 - val_root_mean_squared_error: 0.1042\n",
            "Epoch 20/30\n",
            "\u001b[1m4/4\u001b[0m \u001b[32m━━━━━━━━━━━━━━━━━━━━\u001b[0m\u001b[37m\u001b[0m \u001b[1m0s\u001b[0m 25ms/step - loss: 0.0102 - root_mean_squared_error: 0.1009 - val_loss: 0.0095 - val_root_mean_squared_error: 0.0974\n",
            "Epoch 21/30\n",
            "\u001b[1m4/4\u001b[0m \u001b[32m━━━━━━━━━━━━━━━━━━━━\u001b[0m\u001b[37m\u001b[0m \u001b[1m0s\u001b[0m 23ms/step - loss: 0.0087 - root_mean_squared_error: 0.0921 - val_loss: 0.0097 - val_root_mean_squared_error: 0.0986\n",
            "Epoch 22/30\n",
            "\u001b[1m4/4\u001b[0m \u001b[32m━━━━━━━━━━━━━━━━━━━━\u001b[0m\u001b[37m\u001b[0m \u001b[1m0s\u001b[0m 24ms/step - loss: 0.0090 - root_mean_squared_error: 0.0948 - val_loss: 0.0105 - val_root_mean_squared_error: 0.1027\n",
            "Epoch 23/30\n",
            "\u001b[1m4/4\u001b[0m \u001b[32m━━━━━━━━━━━━━━━━━━━━\u001b[0m\u001b[37m\u001b[0m \u001b[1m0s\u001b[0m 28ms/step - loss: 0.0075 - root_mean_squared_error: 0.0854 - val_loss: 0.0087 - val_root_mean_squared_error: 0.0934\n",
            "Epoch 24/30\n",
            "\u001b[1m4/4\u001b[0m \u001b[32m━━━━━━━━━━━━━━━━━━━━\u001b[0m\u001b[37m\u001b[0m \u001b[1m0s\u001b[0m 26ms/step - loss: 0.0096 - root_mean_squared_error: 0.0978 - val_loss: 0.0141 - val_root_mean_squared_error: 0.1189\n",
            "Epoch 25/30\n",
            "\u001b[1m4/4\u001b[0m \u001b[32m━━━━━━━━━━━━━━━━━━━━\u001b[0m\u001b[37m\u001b[0m \u001b[1m0s\u001b[0m 23ms/step - loss: 0.0122 - root_mean_squared_error: 0.1105 - val_loss: 0.0109 - val_root_mean_squared_error: 0.1042\n",
            "Epoch 26/30\n",
            "\u001b[1m4/4\u001b[0m \u001b[32m━━━━━━━━━━━━━━━━━━━━\u001b[0m\u001b[37m\u001b[0m \u001b[1m0s\u001b[0m 22ms/step - loss: 0.0114 - root_mean_squared_error: 0.1063 - val_loss: 0.0098 - val_root_mean_squared_error: 0.0991\n",
            "Epoch 27/30\n",
            "\u001b[1m4/4\u001b[0m \u001b[32m━━━━━━━━━━━━━━━━━━━━\u001b[0m\u001b[37m\u001b[0m \u001b[1m0s\u001b[0m 35ms/step - loss: 0.0093 - root_mean_squared_error: 0.0961 - val_loss: 0.0119 - val_root_mean_squared_error: 0.1089\n",
            "Epoch 28/30\n",
            "\u001b[1m4/4\u001b[0m \u001b[32m━━━━━━━━━━━━━━━━━━━━\u001b[0m\u001b[37m\u001b[0m \u001b[1m0s\u001b[0m 22ms/step - loss: 0.0086 - root_mean_squared_error: 0.0926 - val_loss: 0.0094 - val_root_mean_squared_error: 0.0968\n"
          ]
        },
        {
          "output_type": "execute_result",
          "data": {
            "text/plain": [
              "<keras.src.callbacks.history.History at 0x7c6b3f411660>"
            ]
          },
          "metadata": {},
          "execution_count": 33
        }
      ]
    },
    {
      "cell_type": "code",
      "source": [
        "print(root_mean_squared_error(y.flatten(), best_model_1layer.predict(X).flatten()))"
      ],
      "metadata": {
        "id": "aSrf692x2tPT",
        "outputId": "2f60f7bf-01e7-4304-d1d5-4809dec799f2",
        "colab": {
          "base_uri": "https://localhost:8080/"
        }
      },
      "execution_count": 35,
      "outputs": [
        {
          "output_type": "stream",
          "name": "stdout",
          "text": [
            "\u001b[1m4/4\u001b[0m \u001b[32m━━━━━━━━━━━━━━━━━━━━\u001b[0m\u001b[37m\u001b[0m \u001b[1m0s\u001b[0m 8ms/step \n",
            "0.10003217577975555\n"
          ]
        }
      ]
    },
    {
      "cell_type": "code",
      "source": [
        "Total_pred = best_model_1layer.predict(X)\n",
        "plt.figure(figsize=(10,3))\n",
        "plt.plot(range(len(lst_ndvi)-len(Total_pred)-1,len(lst_ndvi)-1),Total_pred, label = 'Predicted', c = 'orange')\n",
        "plt.plot(lst_ndvi, label = 'Predicted', c = 'green')\n",
        "#plt.plot(np.concatenate((lst_ndvi,predictions)), label = 'Predicted', c = 'green')\n",
        "plt.show()"
      ],
      "metadata": {
        "id": "w4yAqWXS2dRH",
        "outputId": "30243986-81c0-4329-ac7c-ad026124fa24",
        "colab": {
          "base_uri": "https://localhost:8080/",
          "height": 256
        }
      },
      "execution_count": 36,
      "outputs": [
        {
          "output_type": "stream",
          "name": "stdout",
          "text": [
            "\u001b[1m4/4\u001b[0m \u001b[32m━━━━━━━━━━━━━━━━━━━━\u001b[0m\u001b[37m\u001b[0m \u001b[1m0s\u001b[0m 6ms/step \n"
          ]
        },
        {
          "output_type": "display_data",
          "data": {
            "text/plain": [
              "<Figure size 1000x300 with 1 Axes>"
            ],
            "image/png": "[encoded data removed]"
          },
          "metadata": {}
        }
      ]
    },
    {
      "cell_type": "markdown",
      "source": [
        "## 2 Layers"
      ],
      "metadata": {
        "id": "TuSaw8K2wl-v"
      }
    },
    {
      "cell_type": "code",
      "source": [
        "def build_model_2layer(hp):\n",
        "    model = Sequential()\n",
        "    cells = hp.Int(f\"units_0\", min_value=10, max_value=100, step=10)\n",
        "    model.add(\n",
        "        LSTM(units=cells,\n",
        "             activation='tanh',\n",
        "             input_shape=(n_steps_in, 1),\n",
        "             return_sequences=True\n",
        "             )\n",
        "        )\n",
        "    model.add(\n",
        "        LSTM(units=cells,\n",
        "             activation='tanh'\n",
        "             )\n",
        "        )\n",
        "    model.add(Dense(n_steps_out))\n",
        "    model.compile(\n",
        "        optimizer= Adam(learning_rate = hp.Float(\"lr\", min_value=1e-4, max_value=1e-2, sampling=\"log\")),\n",
        "        loss='mean_squared_error',\n",
        "        metrics = ['root_mean_squared_error']\n",
        "    )\n",
        "    return model\n",
        "\n",
        "\n",
        "tuner_2layer = kt.RandomSearch(\n",
        "    build_model_2layer,\n",
        "    objective='val_loss',\n",
        "    max_trials=40,\n",
        "    executions_per_trial=3,\n",
        "    directory='lstm_tuning',\n",
        "    project_name='2layer'\n",
        ")\n",
        "tuner_2layer.search_space_summary()\n",
        "\n",
        "tuner_2layer.search(X_train, y_train, epochs=30, validation_data=(X_val, y_val), callbacks=[early_stop])\n"
      ],
      "metadata": {
        "colab": {
          "base_uri": "https://localhost:8080/"
        },
        "id": "EoALZPWJwocr",
        "outputId": "71ba464e-6535-47c1-8c30-8ed4ab3377bd"
      },
      "execution_count": null,
      "outputs": [
        {
          "output_type": "stream",
          "name": "stdout",
          "text": [
            "Trial 16 Complete [00h 01m 06s]\n",
            "val_loss: 0.19835267961025238\n",
            "\n",
            "Best val_loss So Far: 0.031407528867324196\n",
            "Total elapsed time: 00h 16m 38s\n",
            "\n",
            "Search: Running Trial #17\n",
            "\n",
            "Value             |Best Value So Far |Hyperparameter\n",
            "100               |80                |units_0\n",
            "0.00069206        |0.0034019         |lr\n",
            "\n"
          ]
        }
      ]
    },
    {
      "cell_type": "code",
      "source": [
        "tuner_2layer.search_space_summary()\n"
      ],
      "metadata": {
        "id": "IGZEhyStFT5z",
        "outputId": "d473e2c8-fdf9-4ab3-fbcb-bd90dbe44c37",
        "colab": {
          "base_uri": "https://localhost:8080/"
        }
      },
      "execution_count": 45,
      "outputs": [
        {
          "output_type": "stream",
          "name": "stdout",
          "text": [
            "Search space summary\n",
            "Default search space size: 2\n",
            "units_0 (Int)\n",
            "{'default': None, 'conditions': [], 'min_value': 10, 'max_value': 100, 'step': 10, 'sampling': 'linear'}\n",
            "lr (Float)\n",
            "{'default': 0.0001, 'conditions': [], 'min_value': 0.0001, 'max_value': 0.01, 'step': None, 'sampling': 'log'}\n"
          ]
        }
      ]
    },
    {
      "cell_type": "code",
      "source": [
        "tuner_2layer.get_best_hyperparameters(1)[0].values\n",
        "best_model_2layer = tuner_2layer.get_best_models(num_models=1)[0]\n",
        "best_model_2layer.fit(X, y, epochs=30, validation_data=(X_val, y_val), callbacks=[early_stop])\n",
        "print(root_mean_squared_error(y.flatten(), best_model_2layer.predict(X).flatten()))"
      ],
      "metadata": {
        "colab": {
          "base_uri": "https://localhost:8080/"
        },
        "id": "097LTdhcxA_n",
        "outputId": "25e61dba-d773-45f9-d87d-12c21982175b"
      },
      "execution_count": 62,
      "outputs": [
        {
          "output_type": "stream",
          "name": "stdout",
          "text": [
            "Epoch 1/30\n"
          ]
        },
        {
          "output_type": "stream",
          "name": "stderr",
          "text": [
            "/usr/local/lib/python3.10/dist-packages/keras/src/layers/rnn/rnn.py:204: UserWarning: Do not pass an `input_shape`/`input_dim` argument to a layer. When using Sequential models, prefer using an `Input(shape)` object as the first layer in the model instead.\n",
            "  super().__init__(**kwargs)\n",
            "/usr/local/lib/python3.10/dist-packages/keras/src/saving/saving_lib.py:576: UserWarning: Skipping variable loading for optimizer 'adam', because it has 2 variables whereas the saved optimizer has 18 variables. \n",
            "  saveable.load_own_variables(weights_store.get(inner_path))\n"
          ]
        },
        {
          "output_type": "stream",
          "name": "stdout",
          "text": [
            "\u001b[1m4/4\u001b[0m \u001b[32m━━━━━━━━━━━━━━━━━━━━\u001b[0m\u001b[37m\u001b[0m \u001b[1m5s\u001b[0m 274ms/step - loss: 0.0743 - root_mean_squared_error: 0.2722 - val_loss: 0.0749 - val_root_mean_squared_error: 0.2737\n",
            "Epoch 2/30\n",
            "\u001b[1m4/4\u001b[0m \u001b[32m━━━━━━━━━━━━━━━━━━━━\u001b[0m\u001b[37m\u001b[0m \u001b[1m0s\u001b[0m 40ms/step - loss: 0.0612 - root_mean_squared_error: 0.2474 - val_loss: 0.0619 - val_root_mean_squared_error: 0.2488\n",
            "Epoch 3/30\n",
            "\u001b[1m4/4\u001b[0m \u001b[32m━━━━━━━━━━━━━━━━━━━━\u001b[0m\u001b[37m\u001b[0m \u001b[1m0s\u001b[0m 44ms/step - loss: 0.0565 - root_mean_squared_error: 0.2375 - val_loss: 0.0612 - val_root_mean_squared_error: 0.2474\n",
            "Epoch 4/30\n",
            "\u001b[1m4/4\u001b[0m \u001b[32m━━━━━━━━━━━━━━━━━━━━\u001b[0m\u001b[37m\u001b[0m \u001b[1m0s\u001b[0m 42ms/step - loss: 0.0541 - root_mean_squared_error: 0.2325 - val_loss: 0.0606 - val_root_mean_squared_error: 0.2462\n",
            "Epoch 5/30\n",
            "\u001b[1m4/4\u001b[0m \u001b[32m━━━━━━━━━━━━━━━━━━━━\u001b[0m\u001b[37m\u001b[0m \u001b[1m0s\u001b[0m 40ms/step - loss: 0.0570 - root_mean_squared_error: 0.2387 - val_loss: 0.0578 - val_root_mean_squared_error: 0.2403\n",
            "Epoch 6/30\n",
            "\u001b[1m4/4\u001b[0m \u001b[32m━━━━━━━━━━━━━━━━━━━━\u001b[0m\u001b[37m\u001b[0m \u001b[1m0s\u001b[0m 45ms/step - loss: 0.0523 - root_mean_squared_error: 0.2285 - val_loss: 0.0538 - val_root_mean_squared_error: 0.2320\n",
            "Epoch 7/30\n",
            "\u001b[1m4/4\u001b[0m \u001b[32m━━━━━━━━━━━━━━━━━━━━\u001b[0m\u001b[37m\u001b[0m \u001b[1m0s\u001b[0m 43ms/step - loss: 0.0489 - root_mean_squared_error: 0.2211 - val_loss: 0.0549 - val_root_mean_squared_error: 0.2343\n",
            "Epoch 8/30\n",
            "\u001b[1m4/4\u001b[0m \u001b[32m━━━━━━━━━━━━━━━━━━━━\u001b[0m\u001b[37m\u001b[0m \u001b[1m0s\u001b[0m 40ms/step - loss: 0.0459 - root_mean_squared_error: 0.2142 - val_loss: 0.0456 - val_root_mean_squared_error: 0.2135\n",
            "Epoch 9/30\n",
            "\u001b[1m4/4\u001b[0m \u001b[32m━━━━━━━━━━━━━━━━━━━━\u001b[0m\u001b[37m\u001b[0m \u001b[1m0s\u001b[0m 47ms/step - loss: 0.0439 - root_mean_squared_error: 0.2096 - val_loss: 0.0522 - val_root_mean_squared_error: 0.2284\n",
            "Epoch 10/30\n",
            "\u001b[1m4/4\u001b[0m \u001b[32m━━━━━━━━━━━━━━━━━━━━\u001b[0m\u001b[37m\u001b[0m \u001b[1m0s\u001b[0m 40ms/step - loss: 0.0415 - root_mean_squared_error: 0.2037 - val_loss: 0.0380 - val_root_mean_squared_error: 0.1949\n",
            "Epoch 11/30\n",
            "\u001b[1m4/4\u001b[0m \u001b[32m━━━━━━━━━━━━━━━━━━━━\u001b[0m\u001b[37m\u001b[0m \u001b[1m0s\u001b[0m 44ms/step - loss: 0.0386 - root_mean_squared_error: 0.1963 - val_loss: 0.0367 - val_root_mean_squared_error: 0.1915\n",
            "Epoch 12/30\n",
            "\u001b[1m4/4\u001b[0m \u001b[32m━━━━━━━━━━━━━━━━━━━━\u001b[0m\u001b[37m\u001b[0m \u001b[1m0s\u001b[0m 40ms/step - loss: 0.0332 - root_mean_squared_error: 0.1822 - val_loss: 0.0351 - val_root_mean_squared_error: 0.1874\n",
            "Epoch 13/30\n",
            "\u001b[1m4/4\u001b[0m \u001b[32m━━━━━━━━━━━━━━━━━━━━\u001b[0m\u001b[37m\u001b[0m \u001b[1m0s\u001b[0m 50ms/step - loss: 0.0305 - root_mean_squared_error: 0.1747 - val_loss: 0.0317 - val_root_mean_squared_error: 0.1781\n",
            "Epoch 14/30\n",
            "\u001b[1m4/4\u001b[0m \u001b[32m━━━━━━━━━━━━━━━━━━━━\u001b[0m\u001b[37m\u001b[0m \u001b[1m0s\u001b[0m 39ms/step - loss: 0.0275 - root_mean_squared_error: 0.1660 - val_loss: 0.0468 - val_root_mean_squared_error: 0.2164\n",
            "Epoch 15/30\n",
            "\u001b[1m4/4\u001b[0m \u001b[32m━━━━━━━━━━━━━━━━━━━━\u001b[0m\u001b[37m\u001b[0m \u001b[1m0s\u001b[0m 40ms/step - loss: 0.0339 - root_mean_squared_error: 0.1834 - val_loss: 0.0267 - val_root_mean_squared_error: 0.1634\n",
            "Epoch 16/30\n",
            "\u001b[1m4/4\u001b[0m \u001b[32m━━━━━━━━━━━━━━━━━━━━\u001b[0m\u001b[37m\u001b[0m \u001b[1m0s\u001b[0m 45ms/step - loss: 0.0241 - root_mean_squared_error: 0.1549 - val_loss: 0.0325 - val_root_mean_squared_error: 0.1803\n",
            "Epoch 17/30\n",
            "\u001b[1m4/4\u001b[0m \u001b[32m━━━━━━━━━━━━━━━━━━━━\u001b[0m\u001b[37m\u001b[0m \u001b[1m0s\u001b[0m 52ms/step - loss: 0.0214 - root_mean_squared_error: 0.1461 - val_loss: 0.0245 - val_root_mean_squared_error: 0.1566\n",
            "Epoch 18/30\n",
            "\u001b[1m4/4\u001b[0m \u001b[32m━━━━━━━━━━━━━━━━━━━━\u001b[0m\u001b[37m\u001b[0m \u001b[1m0s\u001b[0m 41ms/step - loss: 0.0216 - root_mean_squared_error: 0.1469 - val_loss: 0.0288 - val_root_mean_squared_error: 0.1697\n",
            "Epoch 19/30\n",
            "\u001b[1m4/4\u001b[0m \u001b[32m━━━━━━━━━━━━━━━━━━━━\u001b[0m\u001b[37m\u001b[0m \u001b[1m0s\u001b[0m 42ms/step - loss: 0.0240 - root_mean_squared_error: 0.1545 - val_loss: 0.0195 - val_root_mean_squared_error: 0.1397\n",
            "Epoch 20/30\n",
            "\u001b[1m4/4\u001b[0m \u001b[32m━━━━━━━━━━━━━━━━━━━━\u001b[0m\u001b[37m\u001b[0m \u001b[1m0s\u001b[0m 41ms/step - loss: 0.0228 - root_mean_squared_error: 0.1509 - val_loss: 0.0362 - val_root_mean_squared_error: 0.1903\n",
            "Epoch 21/30\n",
            "\u001b[1m4/4\u001b[0m \u001b[32m━━━━━━━━━━━━━━━━━━━━\u001b[0m\u001b[37m\u001b[0m \u001b[1m0s\u001b[0m 39ms/step - loss: 0.0225 - root_mean_squared_error: 0.1498 - val_loss: 0.0259 - val_root_mean_squared_error: 0.1611\n",
            "Epoch 22/30\n",
            "\u001b[1m4/4\u001b[0m \u001b[32m━━━━━━━━━━━━━━━━━━━━\u001b[0m\u001b[37m\u001b[0m \u001b[1m0s\u001b[0m 46ms/step - loss: 0.0259 - root_mean_squared_error: 0.1609 - val_loss: 0.0304 - val_root_mean_squared_error: 0.1743\n",
            "Epoch 23/30\n",
            "\u001b[1m4/4\u001b[0m \u001b[32m━━━━━━━━━━━━━━━━━━━━\u001b[0m\u001b[37m\u001b[0m \u001b[1m0s\u001b[0m 43ms/step - loss: 0.0262 - root_mean_squared_error: 0.1618 - val_loss: 0.0317 - val_root_mean_squared_error: 0.1781\n",
            "Epoch 24/30\n",
            "\u001b[1m4/4\u001b[0m \u001b[32m━━━━━━━━━━━━━━━━━━━━\u001b[0m\u001b[37m\u001b[0m \u001b[1m0s\u001b[0m 39ms/step - loss: 0.0253 - root_mean_squared_error: 0.1591 - val_loss: 0.0261 - val_root_mean_squared_error: 0.1615\n",
            "Epoch 25/30\n",
            "\u001b[1m4/4\u001b[0m \u001b[32m━━━━━━━━━━━━━━━━━━━━\u001b[0m\u001b[37m\u001b[0m \u001b[1m0s\u001b[0m 40ms/step - loss: 0.0222 - root_mean_squared_error: 0.1489 - val_loss: 0.0265 - val_root_mean_squared_error: 0.1627\n",
            "Epoch 26/30\n",
            "\u001b[1m4/4\u001b[0m \u001b[32m━━━━━━━━━━━━━━━━━━━━\u001b[0m\u001b[37m\u001b[0m \u001b[1m0s\u001b[0m 45ms/step - loss: 0.0212 - root_mean_squared_error: 0.1457 - val_loss: 0.0253 - val_root_mean_squared_error: 0.1592\n",
            "Epoch 27/30\n",
            "\u001b[1m4/4\u001b[0m \u001b[32m━━━━━━━━━━━━━━━━━━━━\u001b[0m\u001b[37m\u001b[0m \u001b[1m0s\u001b[0m 40ms/step - loss: 0.0204 - root_mean_squared_error: 0.1427 - val_loss: 0.0193 - val_root_mean_squared_error: 0.1389\n",
            "Epoch 28/30\n",
            "\u001b[1m4/4\u001b[0m \u001b[32m━━━━━━━━━━━━━━━━━━━━\u001b[0m\u001b[37m\u001b[0m \u001b[1m0s\u001b[0m 44ms/step - loss: 0.0218 - root_mean_squared_error: 0.1475 - val_loss: 0.0291 - val_root_mean_squared_error: 0.1705\n",
            "Epoch 29/30\n",
            "\u001b[1m4/4\u001b[0m \u001b[32m━━━━━━━━━━━━━━━━━━━━\u001b[0m\u001b[37m\u001b[0m \u001b[1m0s\u001b[0m 48ms/step - loss: 0.0216 - root_mean_squared_error: 0.1467 - val_loss: 0.0201 - val_root_mean_squared_error: 0.1419\n",
            "Epoch 30/30\n",
            "\u001b[1m4/4\u001b[0m \u001b[32m━━━━━━━━━━━━━━━━━━━━\u001b[0m\u001b[37m\u001b[0m \u001b[1m0s\u001b[0m 43ms/step - loss: 0.0205 - root_mean_squared_error: 0.1433 - val_loss: 0.0230 - val_root_mean_squared_error: 0.1516\n",
            "\u001b[1m4/4\u001b[0m \u001b[32m━━━━━━━━━━━━━━━━━━━━\u001b[0m\u001b[37m\u001b[0m \u001b[1m1s\u001b[0m 108ms/step\n",
            "0.14200004733132254\n"
          ]
        }
      ]
    },
    {
      "cell_type": "code",
      "source": [
        "Total_pred = best_model_2layer.predict(X)\n",
        "plt.figure(figsize=(10,3))\n",
        "plt.plot(range(len(lst_ndvi)-len(Total_pred)-1,len(lst_ndvi)-1),Total_pred, label = 'Predicted', c = 'orange')\n",
        "plt.plot(lst_ndvi, label = 'Predicted', c = 'green')\n",
        "plt.show()"
      ],
      "metadata": {
        "colab": {
          "base_uri": "https://localhost:8080/",
          "height": 256
        },
        "id": "avLv5-0syPsX",
        "outputId": "4ddaa90e-5327-4438-ab8e-db75e3ef9403"
      },
      "execution_count": 63,
      "outputs": [
        {
          "output_type": "stream",
          "name": "stdout",
          "text": [
            "\u001b[1m4/4\u001b[0m \u001b[32m━━━━━━━━━━━━━━━━━━━━\u001b[0m\u001b[37m\u001b[0m \u001b[1m0s\u001b[0m 13ms/step\n"
          ]
        },
        {
          "output_type": "display_data",
          "data": {
            "text/plain": [
              "<Figure size 1000x300 with 1 Axes>"
            ],
            "image/png": "[encoded data removed]"
          },
          "metadata": {}
        }
      ]
    },
    {
      "cell_type": "code",
      "source": [
        "best_model_2layer.summary()\n",
        "tuner_2layer.get_best_hyperparameters(1)[0].values"
      ],
      "metadata": {
        "id": "Nb9m0j6wFWNK",
        "outputId": "7cb96f28-18aa-4016-a2f1-c0963cd7e6b7",
        "colab": {
          "base_uri": "https://localhost:8080/",
          "height": 275
        }
      },
      "execution_count": 51,
      "outputs": [
        {
          "output_type": "display_data",
          "data": {
            "text/plain": [
              "\u001b[1mModel: \"sequential\"\u001b[0m\n"
            ],
            "text/html": [
              "<pre style=\"white-space:pre;overflow-x:auto;line-height:normal;font-family:Menlo,'DejaVu Sans Mono',consolas,'Courier New',monospace\"><span style=\"font-weight: bold\">Model: \"sequential\"</span>\n",
              "</pre>\n"
            ]
          },
          "metadata": {}
        },
        {
          "output_type": "display_data",
          "data": {
            "text/plain": [
              "┏━━━━━━━━━━━━━━━━━━━━━━━━━━━━━━━━━━━━━━┳━━━━━━━━━━━━━━━━━━━━━━━━━━━━━┳━━━━━━━━━━━━━━━━━┓\n",
              "┃\u001b[1m \u001b[0m\u001b[1mLayer (type)                        \u001b[0m\u001b[1m \u001b[0m┃\u001b[1m \u001b[0m\u001b[1mOutput Shape               \u001b[0m\u001b[1m \u001b[0m┃\u001b[1m \u001b[0m\u001b[1m        Param #\u001b[0m\u001b[1m \u001b[0m┃\n",
              "┡━━━━━━━━━━━━━━━━━━━━━━━━━━━━━━━━━━━━━━╇━━━━━━━━━━━━━━━━━━━━━━━━━━━━━╇━━━━━━━━━━━━━━━━━┩\n",
              "│ lstm (\u001b[38;5;33mLSTM\u001b[0m)                          │ (\u001b[38;5;45mNone\u001b[0m, \u001b[38;5;34m23\u001b[0m, \u001b[38;5;34m80\u001b[0m)              │          \u001b[38;5;34m26,240\u001b[0m │\n",
              "├──────────────────────────────────────┼─────────────────────────────┼─────────────────┤\n",
              "│ lstm_1 (\u001b[38;5;33mLSTM\u001b[0m)                        │ (\u001b[38;5;45mNone\u001b[0m, \u001b[38;5;34m80\u001b[0m)                  │          \u001b[38;5;34m51,520\u001b[0m │\n",
              "├──────────────────────────────────────┼─────────────────────────────┼─────────────────┤\n",
              "│ dense (\u001b[38;5;33mDense\u001b[0m)                        │ (\u001b[38;5;45mNone\u001b[0m, \u001b[38;5;34m1\u001b[0m)                   │              \u001b[38;5;34m81\u001b[0m │\n",
              "└──────────────────────────────────────┴─────────────────────────────┴─────────────────┘\n"
            ],
            "text/html": [
              "<pre style=\"white-space:pre;overflow-x:auto;line-height:normal;font-family:Menlo,'DejaVu Sans Mono',consolas,'Courier New',monospace\">┏━━━━━━━━━━━━━━━━━━━━━━━━━━━━━━━━━━━━━━┳━━━━━━━━━━━━━━━━━━━━━━━━━━━━━┳━━━━━━━━━━━━━━━━━┓\n",
              "┃<span style=\"font-weight: bold\"> Layer (type)                         </span>┃<span style=\"font-weight: bold\"> Output Shape                </span>┃<span style=\"font-weight: bold\">         Param # </span>┃\n",
              "┡━━━━━━━━━━━━━━━━━━━━━━━━━━━━━━━━━━━━━━╇━━━━━━━━━━━━━━━━━━━━━━━━━━━━━╇━━━━━━━━━━━━━━━━━┩\n",
              "│ lstm (<span style=\"color: #0087ff; text-decoration-color: #0087ff\">LSTM</span>)                          │ (<span style=\"color: #00d7ff; text-decoration-color: #00d7ff\">None</span>, <span style=\"color: #00af00; text-decoration-color: #00af00\">23</span>, <span style=\"color: #00af00; text-decoration-color: #00af00\">80</span>)              │          <span style=\"color: #00af00; text-decoration-color: #00af00\">26,240</span> │\n",
              "├──────────────────────────────────────┼─────────────────────────────┼─────────────────┤\n",
              "│ lstm_1 (<span style=\"color: #0087ff; text-decoration-color: #0087ff\">LSTM</span>)                        │ (<span style=\"color: #00d7ff; text-decoration-color: #00d7ff\">None</span>, <span style=\"color: #00af00; text-decoration-color: #00af00\">80</span>)                  │          <span style=\"color: #00af00; text-decoration-color: #00af00\">51,520</span> │\n",
              "├──────────────────────────────────────┼─────────────────────────────┼─────────────────┤\n",
              "│ dense (<span style=\"color: #0087ff; text-decoration-color: #0087ff\">Dense</span>)                        │ (<span style=\"color: #00d7ff; text-decoration-color: #00d7ff\">None</span>, <span style=\"color: #00af00; text-decoration-color: #00af00\">1</span>)                   │              <span style=\"color: #00af00; text-decoration-color: #00af00\">81</span> │\n",
              "└──────────────────────────────────────┴─────────────────────────────┴─────────────────┘\n",
              "</pre>\n"
            ]
          },
          "metadata": {}
        },
        {
          "output_type": "display_data",
          "data": {
            "text/plain": [
              "\u001b[1m Total params: \u001b[0m\u001b[38;5;34m233,525\u001b[0m (912.21 KB)\n"
            ],
            "text/html": [
              "<pre style=\"white-space:pre;overflow-x:auto;line-height:normal;font-family:Menlo,'DejaVu Sans Mono',consolas,'Courier New',monospace\"><span style=\"font-weight: bold\"> Total params: </span><span style=\"color: #00af00; text-decoration-color: #00af00\">233,525</span> (912.21 KB)\n",
              "</pre>\n"
            ]
          },
          "metadata": {}
        },
        {
          "output_type": "display_data",
          "data": {
            "text/plain": [
              "\u001b[1m Trainable params: \u001b[0m\u001b[38;5;34m77,841\u001b[0m (304.07 KB)\n"
            ],
            "text/html": [
              "<pre style=\"white-space:pre;overflow-x:auto;line-height:normal;font-family:Menlo,'DejaVu Sans Mono',consolas,'Courier New',monospace\"><span style=\"font-weight: bold\"> Trainable params: </span><span style=\"color: #00af00; text-decoration-color: #00af00\">77,841</span> (304.07 KB)\n",
              "</pre>\n"
            ]
          },
          "metadata": {}
        },
        {
          "output_type": "display_data",
          "data": {
            "text/plain": [
              "\u001b[1m Non-trainable params: \u001b[0m\u001b[38;5;34m0\u001b[0m (0.00 B)\n"
            ],
            "text/html": [
              "<pre style=\"white-space:pre;overflow-x:auto;line-height:normal;font-family:Menlo,'DejaVu Sans Mono',consolas,'Courier New',monospace\"><span style=\"font-weight: bold\"> Non-trainable params: </span><span style=\"color: #00af00; text-decoration-color: #00af00\">0</span> (0.00 B)\n",
              "</pre>\n"
            ]
          },
          "metadata": {}
        },
        {
          "output_type": "display_data",
          "data": {
            "text/plain": [
              "\u001b[1m Optimizer params: \u001b[0m\u001b[38;5;34m155,684\u001b[0m (608.14 KB)\n"
            ],
            "text/html": [
              "<pre style=\"white-space:pre;overflow-x:auto;line-height:normal;font-family:Menlo,'DejaVu Sans Mono',consolas,'Courier New',monospace\"><span style=\"font-weight: bold\"> Optimizer params: </span><span style=\"color: #00af00; text-decoration-color: #00af00\">155,684</span> (608.14 KB)\n",
              "</pre>\n"
            ]
          },
          "metadata": {}
        },
        {
          "output_type": "execute_result",
          "data": {
            "text/plain": [
              "{'units_0': 80, 'lr': 0.0014951135160520678}"
            ]
          },
          "metadata": {},
          "execution_count": 51
        }
      ]
    },
    {
      "cell_type": "markdown",
      "source": [
        "## 3 Layers"
      ],
      "metadata": {
        "id": "QTEIvNT1yLvZ"
      }
    },
    {
      "cell_type": "code",
      "source": [
        "def build_model_3layer(hp):\n",
        "    model = Sequential()\n",
        "    model.add(\n",
        "        LSTM(units=hp.Int(f\"units_0\", min_value=10, max_value=100, step=10),\n",
        "             activation='tanh',\n",
        "             input_shape=(n_steps_in, 1),\n",
        "             return_sequences=True\n",
        "             )\n",
        "        )\n",
        "    model.add(\n",
        "        LSTM(units=hp.Int(f\"units_1\", min_value=10, max_value=100, step=10),\n",
        "             activation='tanh',\n",
        "             return_sequences=True\n",
        "             )\n",
        "        )\n",
        "    model.add(\n",
        "        LSTM(units=hp.Int(f\"units_2\", min_value=10, max_value=100, step=10),\n",
        "             activation='tanh'\n",
        "             )\n",
        "        )\n",
        "    model.add(Dense(n_steps_out))\n",
        "    model.compile(\n",
        "        optimizer= Adam(learning_rate = hp.Float(\"lr\", min_value=1e-4, max_value=1e-2, sampling=\"log\")),\n",
        "        loss='mean_squared_error',\n",
        "        metrics = ['root_mean_squared_error']\n",
        "    )\n",
        "    return model\n",
        "\n",
        "\n",
        "tuner_3layer = kt.RandomSearch(\n",
        "    build_model_3layer,\n",
        "    objective='val_loss',\n",
        "    max_trials=40,\n",
        "    executions_per_trial=3,\n",
        "    directory='lstm_tuning',\n",
        "    project_name='3layer'\n",
        ")\n",
        "tuner_3layer.search_space_summary()\n",
        "\n",
        "tuner_3layer.search(X_train, y_train, epochs=30, validation_data=(X_val, y_val), callbacks=[early_stop])\n"
      ],
      "metadata": {
        "id": "_WeXvpiFybPA"
      },
      "execution_count": null,
      "outputs": []
    },
    {
      "cell_type": "code",
      "source": [
        "tuner_3layer.get_best_hyperparameters(1)[0].values\n",
        "best_model_3layer = tuner_3layer.get_best_models(num_models=1)[0]\n",
        "best_model_3layer.fit(X, y, epochs=30, validation_data=(X_val, y_val), callbacks=[early_stop])\n",
        "print(root_mean_squared_error(y.flatten(), best_model_3layer.predict(X).flatten()))"
      ],
      "metadata": {
        "id": "rG7Ak_qAybPA"
      },
      "execution_count": null,
      "outputs": []
    },
    {
      "cell_type": "code",
      "source": [
        "Total_pred = best_model_3layer.predict(X)\n",
        "plt.figure(figsize=(10,3))\n",
        "plt.plot(range(len(lst_ndvi)-len(Total_pred)-1,len(lst_ndvi)-1),Total_pred, label = 'Predicted', c = 'orange')\n",
        "plt.plot(lst_ndvi, label = 'Predicted', c = 'green')\n",
        "plt.show()"
      ],
      "metadata": {
        "id": "_FVQC_UyybPC"
      },
      "execution_count": null,
      "outputs": []
    },
    {
      "cell_type": "markdown",
      "source": [
        "## Export data"
      ],
      "metadata": {
        "id": "bGHl1UT2yCYV"
      }
    },
    {
      "cell_type": "code",
      "source": [
        "!zip -r folder_name.zip /content/lstm_tuning\n"
      ],
      "metadata": {
        "id": "E2Ja_5j8iVci",
        "outputId": "901701fb-c134-49d7-82bc-d01c40aa6096",
        "colab": {
          "base_uri": "https://localhost:8080/"
        }
      },
      "execution_count": 40,
      "outputs": [
        {
          "output_type": "stream",
          "name": "stdout",
          "text": [
            "  adding: content/lstm_tuning/ (stored 0%)\n",
            "  adding: content/lstm_tuning/1layer/ (stored 0%)\n",
            "  adding: content/lstm_tuning/1layer/trial_25/ (stored 0%)\n",
            "  adding: content/lstm_tuning/1layer/trial_25/build_config.json (stored 0%)\n",
            "  adding: content/lstm_tuning/1layer/trial_25/trial.json (deflated 60%)\n",
            "  adding: content/lstm_tuning/1layer/trial_25/checkpoint.weights.h5 (deflated 12%)\n",
            "  adding: content/lstm_tuning/1layer/trial_31/ (stored 0%)\n",
            "  adding: content/lstm_tuning/1layer/trial_31/build_config.json (stored 0%)\n",
            "  adding: content/lstm_tuning/1layer/trial_31/trial.json (deflated 60%)\n",
            "  adding: content/lstm_tuning/1layer/trial_31/checkpoint.weights.h5 (deflated 13%)\n",
            "  adding: content/lstm_tuning/1layer/trial_22/ (stored 0%)\n",
            "  adding: content/lstm_tuning/1layer/trial_22/build_config.json (stored 0%)\n",
            "  adding: content/lstm_tuning/1layer/trial_22/trial.json (deflated 60%)\n",
            "  adding: content/lstm_tuning/1layer/trial_22/checkpoint.weights.h5 (deflated 20%)\n",
            "  adding: content/lstm_tuning/1layer/trial_04/ (stored 0%)\n",
            "  adding: content/lstm_tuning/1layer/trial_04/build_config.json (stored 0%)\n",
            "  adding: content/lstm_tuning/1layer/trial_04/trial.json (deflated 60%)\n",
            "  adding: content/lstm_tuning/1layer/trial_04/checkpoint.weights.h5 (deflated 44%)\n",
            "  adding: content/lstm_tuning/1layer/trial_35/ (stored 0%)\n",
            "  adding: content/lstm_tuning/1layer/trial_35/build_config.json (stored 0%)\n",
            "  adding: content/lstm_tuning/1layer/trial_35/trial.json (deflated 60%)\n",
            "  adding: content/lstm_tuning/1layer/trial_35/checkpoint.weights.h5 (deflated 27%)\n",
            "  adding: content/lstm_tuning/1layer/trial_10/ (stored 0%)\n",
            "  adding: content/lstm_tuning/1layer/trial_10/build_config.json (stored 0%)\n",
            "  adding: content/lstm_tuning/1layer/trial_10/trial.json (deflated 60%)\n",
            "  adding: content/lstm_tuning/1layer/trial_10/checkpoint.weights.h5 (deflated 15%)\n",
            "  adding: content/lstm_tuning/1layer/trial_28/ (stored 0%)\n",
            "  adding: content/lstm_tuning/1layer/trial_28/build_config.json (stored 0%)\n",
            "  adding: content/lstm_tuning/1layer/trial_28/trial.json (deflated 60%)\n",
            "  adding: content/lstm_tuning/1layer/trial_28/checkpoint.weights.h5 (deflated 27%)\n",
            "  adding: content/lstm_tuning/1layer/trial_05/ (stored 0%)\n",
            "  adding: content/lstm_tuning/1layer/trial_05/build_config.json (stored 0%)\n",
            "  adding: content/lstm_tuning/1layer/trial_05/trial.json (deflated 60%)\n",
            "  adding: content/lstm_tuning/1layer/trial_05/checkpoint.weights.h5 (deflated 20%)\n",
            "  adding: content/lstm_tuning/1layer/trial_39/ (stored 0%)\n",
            "  adding: content/lstm_tuning/1layer/trial_39/build_config.json (stored 0%)\n",
            "  adding: content/lstm_tuning/1layer/trial_39/trial.json (deflated 60%)\n",
            "  adding: content/lstm_tuning/1layer/trial_39/checkpoint.weights.h5 (deflated 10%)\n",
            "  adding: content/lstm_tuning/1layer/trial_01/ (stored 0%)\n",
            "  adding: content/lstm_tuning/1layer/trial_01/build_config.json (stored 0%)\n",
            "  adding: content/lstm_tuning/1layer/trial_01/trial.json (deflated 60%)\n",
            "  adding: content/lstm_tuning/1layer/trial_01/checkpoint.weights.h5 (deflated 27%)\n",
            "  adding: content/lstm_tuning/1layer/trial_15/ (stored 0%)\n",
            "  adding: content/lstm_tuning/1layer/trial_15/build_config.json (stored 0%)\n",
            "  adding: content/lstm_tuning/1layer/trial_15/trial.json (deflated 60%)\n",
            "  adding: content/lstm_tuning/1layer/trial_15/checkpoint.weights.h5 (deflated 20%)\n",
            "  adding: content/lstm_tuning/1layer/trial_03/ (stored 0%)\n",
            "  adding: content/lstm_tuning/1layer/trial_03/build_config.json (stored 0%)\n",
            "  adding: content/lstm_tuning/1layer/trial_03/trial.json (deflated 60%)\n",
            "  adding: content/lstm_tuning/1layer/trial_03/checkpoint.weights.h5 (deflated 20%)\n",
            "  adding: content/lstm_tuning/1layer/trial_18/ (stored 0%)\n",
            "  adding: content/lstm_tuning/1layer/trial_18/build_config.json (stored 0%)\n",
            "  adding: content/lstm_tuning/1layer/trial_18/trial.json (deflated 60%)\n",
            "  adding: content/lstm_tuning/1layer/trial_18/checkpoint.weights.h5 (deflated 11%)\n",
            "  adding: content/lstm_tuning/1layer/trial_20/ (stored 0%)\n",
            "  adding: content/lstm_tuning/1layer/trial_20/build_config.json (stored 0%)\n",
            "  adding: content/lstm_tuning/1layer/trial_20/trial.json (deflated 61%)\n",
            "  adding: content/lstm_tuning/1layer/trial_20/checkpoint.weights.h5 (deflated 15%)\n",
            "  adding: content/lstm_tuning/1layer/trial_06/ (stored 0%)\n",
            "  adding: content/lstm_tuning/1layer/trial_06/build_config.json (stored 0%)\n",
            "  adding: content/lstm_tuning/1layer/trial_06/trial.json (deflated 60%)\n",
            "  adding: content/lstm_tuning/1layer/trial_06/checkpoint.weights.h5 (deflated 15%)\n",
            "  adding: content/lstm_tuning/1layer/trial_38/ (stored 0%)\n",
            "  adding: content/lstm_tuning/1layer/trial_38/build_config.json (stored 0%)\n",
            "  adding: content/lstm_tuning/1layer/trial_38/trial.json (deflated 60%)\n",
            "  adding: content/lstm_tuning/1layer/trial_38/checkpoint.weights.h5 (deflated 27%)\n",
            "  adding: content/lstm_tuning/1layer/trial_23/ (stored 0%)\n",
            "  adding: content/lstm_tuning/1layer/trial_23/build_config.json (stored 0%)\n",
            "  adding: content/lstm_tuning/1layer/trial_23/trial.json (deflated 60%)\n",
            "  adding: content/lstm_tuning/1layer/trial_23/checkpoint.weights.h5 (deflated 10%)\n",
            "  adding: content/lstm_tuning/1layer/trial_30/ (stored 0%)\n",
            "  adding: content/lstm_tuning/1layer/trial_30/build_config.json (stored 0%)\n",
            "  adding: content/lstm_tuning/1layer/trial_30/trial.json (deflated 60%)\n",
            "  adding: content/lstm_tuning/1layer/trial_30/checkpoint.weights.h5 (deflated 11%)\n",
            "  adding: content/lstm_tuning/1layer/trial_33/ (stored 0%)\n",
            "  adding: content/lstm_tuning/1layer/trial_33/build_config.json (stored 0%)\n",
            "  adding: content/lstm_tuning/1layer/trial_33/trial.json (deflated 60%)\n",
            "  adding: content/lstm_tuning/1layer/trial_33/checkpoint.weights.h5 (deflated 44%)\n",
            "  adding: content/lstm_tuning/1layer/trial_24/ (stored 0%)\n",
            "  adding: content/lstm_tuning/1layer/trial_24/build_config.json (stored 0%)\n",
            "  adding: content/lstm_tuning/1layer/trial_24/trial.json (deflated 60%)\n",
            "  adding: content/lstm_tuning/1layer/trial_24/checkpoint.weights.h5 (deflated 69%)\n",
            "  adding: content/lstm_tuning/1layer/trial_19/ (stored 0%)\n",
            "  adding: content/lstm_tuning/1layer/trial_19/build_config.json (stored 0%)\n",
            "  adding: content/lstm_tuning/1layer/trial_19/trial.json (deflated 60%)\n",
            "  adding: content/lstm_tuning/1layer/trial_19/checkpoint.weights.h5 (deflated 13%)\n",
            "  adding: content/lstm_tuning/1layer/trial_17/ (stored 0%)\n",
            "  adding: content/lstm_tuning/1layer/trial_17/build_config.json (stored 0%)\n",
            "  adding: content/lstm_tuning/1layer/trial_17/trial.json (deflated 60%)\n",
            "  adding: content/lstm_tuning/1layer/trial_17/checkpoint.weights.h5 (deflated 15%)\n",
            "  adding: content/lstm_tuning/1layer/trial_36/ (stored 0%)\n",
            "  adding: content/lstm_tuning/1layer/trial_36/build_config.json (stored 0%)\n",
            "  adding: content/lstm_tuning/1layer/trial_36/trial.json (deflated 60%)\n",
            "  adding: content/lstm_tuning/1layer/trial_36/checkpoint.weights.h5 (deflated 15%)\n",
            "  adding: content/lstm_tuning/1layer/trial_13/ (stored 0%)\n",
            "  adding: content/lstm_tuning/1layer/trial_13/build_config.json (stored 0%)\n",
            "  adding: content/lstm_tuning/1layer/trial_13/trial.json (deflated 60%)\n",
            "  adding: content/lstm_tuning/1layer/trial_13/checkpoint.weights.h5 (deflated 12%)\n",
            "  adding: content/lstm_tuning/1layer/trial_12/ (stored 0%)\n",
            "  adding: content/lstm_tuning/1layer/trial_12/build_config.json (stored 0%)\n",
            "  adding: content/lstm_tuning/1layer/trial_12/trial.json (deflated 60%)\n",
            "  adding: content/lstm_tuning/1layer/trial_12/checkpoint.weights.h5 (deflated 13%)\n",
            "  adding: content/lstm_tuning/1layer/trial_34/ (stored 0%)\n",
            "  adding: content/lstm_tuning/1layer/trial_34/build_config.json (stored 0%)\n",
            "  adding: content/lstm_tuning/1layer/trial_34/trial.json (deflated 60%)\n",
            "  adding: content/lstm_tuning/1layer/trial_34/checkpoint.weights.h5 (deflated 10%)\n",
            "  adding: content/lstm_tuning/1layer/trial_00/ (stored 0%)\n",
            "  adding: content/lstm_tuning/1layer/trial_00/build_config.json (stored 0%)\n",
            "  adding: content/lstm_tuning/1layer/trial_00/trial.json (deflated 61%)\n",
            "  adding: content/lstm_tuning/1layer/trial_00/checkpoint.weights.h5 (deflated 9%)\n",
            "  adding: content/lstm_tuning/1layer/trial_29/ (stored 0%)\n",
            "  adding: content/lstm_tuning/1layer/trial_29/build_config.json (stored 0%)\n",
            "  adding: content/lstm_tuning/1layer/trial_29/trial.json (deflated 60%)\n",
            "  adding: content/lstm_tuning/1layer/trial_29/checkpoint.weights.h5 (deflated 9%)\n",
            "  adding: content/lstm_tuning/1layer/trial_11/ (stored 0%)\n",
            "  adding: content/lstm_tuning/1layer/trial_11/build_config.json (stored 0%)\n",
            "  adding: content/lstm_tuning/1layer/trial_11/trial.json (deflated 60%)\n",
            "  adding: content/lstm_tuning/1layer/trial_11/checkpoint.weights.h5 (deflated 9%)\n",
            "  adding: content/lstm_tuning/1layer/trial_09/ (stored 0%)\n",
            "  adding: content/lstm_tuning/1layer/trial_09/build_config.json (stored 0%)\n",
            "  adding: content/lstm_tuning/1layer/trial_09/trial.json (deflated 60%)\n",
            "  adding: content/lstm_tuning/1layer/trial_09/checkpoint.weights.h5 (deflated 11%)\n",
            "  adding: content/lstm_tuning/1layer/trial_08/ (stored 0%)\n",
            "  adding: content/lstm_tuning/1layer/trial_08/build_config.json (stored 0%)\n",
            "  adding: content/lstm_tuning/1layer/trial_08/trial.json (deflated 60%)\n",
            "  adding: content/lstm_tuning/1layer/trial_08/checkpoint.weights.h5 (deflated 27%)\n",
            "  adding: content/lstm_tuning/1layer/trial_16/ (stored 0%)\n",
            "  adding: content/lstm_tuning/1layer/trial_16/build_config.json (stored 0%)\n",
            "  adding: content/lstm_tuning/1layer/trial_16/trial.json (deflated 60%)\n",
            "  adding: content/lstm_tuning/1layer/trial_16/checkpoint.weights.h5 (deflated 13%)\n",
            "  adding: content/lstm_tuning/1layer/trial_37/ (stored 0%)\n",
            "  adding: content/lstm_tuning/1layer/trial_37/build_config.json (stored 0%)\n",
            "  adding: content/lstm_tuning/1layer/trial_37/trial.json (deflated 60%)\n",
            "  adding: content/lstm_tuning/1layer/trial_37/checkpoint.weights.h5 (deflated 13%)\n",
            "  adding: content/lstm_tuning/1layer/trial_07/ (stored 0%)\n",
            "  adding: content/lstm_tuning/1layer/trial_07/build_config.json (stored 0%)\n",
            "  adding: content/lstm_tuning/1layer/trial_07/trial.json (deflated 61%)\n",
            "  adding: content/lstm_tuning/1layer/trial_07/checkpoint.weights.h5 (deflated 69%)\n",
            "  adding: content/lstm_tuning/1layer/oracle.json (deflated 67%)\n",
            "  adding: content/lstm_tuning/1layer/tuner0.json (stored 0%)\n",
            "  adding: content/lstm_tuning/1layer/trial_21/ (stored 0%)\n",
            "  adding: content/lstm_tuning/1layer/trial_21/build_config.json (stored 0%)\n",
            "  adding: content/lstm_tuning/1layer/trial_21/trial.json (deflated 60%)\n",
            "  adding: content/lstm_tuning/1layer/trial_21/checkpoint.weights.h5 (deflated 9%)\n",
            "  adding: content/lstm_tuning/1layer/trial_26/ (stored 0%)\n",
            "  adding: content/lstm_tuning/1layer/trial_26/build_config.json (stored 0%)\n",
            "  adding: content/lstm_tuning/1layer/trial_26/trial.json (deflated 60%)\n",
            "  adding: content/lstm_tuning/1layer/trial_26/checkpoint.weights.h5 (deflated 44%)\n",
            "  adding: content/lstm_tuning/1layer/trial_32/ (stored 0%)\n",
            "  adding: content/lstm_tuning/1layer/trial_32/build_config.json (stored 0%)\n",
            "  adding: content/lstm_tuning/1layer/trial_32/trial.json (deflated 60%)\n",
            "  adding: content/lstm_tuning/1layer/trial_32/checkpoint.weights.h5 (deflated 44%)\n",
            "  adding: content/lstm_tuning/1layer/trial_27/ (stored 0%)\n",
            "  adding: content/lstm_tuning/1layer/trial_27/build_config.json (stored 0%)\n",
            "  adding: content/lstm_tuning/1layer/trial_27/trial.json (deflated 60%)\n",
            "  adding: content/lstm_tuning/1layer/trial_27/checkpoint.weights.h5 (deflated 15%)\n",
            "  adding: content/lstm_tuning/1layer/trial_14/ (stored 0%)\n",
            "  adding: content/lstm_tuning/1layer/trial_14/build_config.json (stored 0%)\n",
            "  adding: content/lstm_tuning/1layer/trial_14/trial.json (deflated 60%)\n",
            "  adding: content/lstm_tuning/1layer/trial_14/checkpoint.weights.h5 (deflated 13%)\n",
            "  adding: content/lstm_tuning/1layer/trial_02/ (stored 0%)\n",
            "  adding: content/lstm_tuning/1layer/trial_02/build_config.json (stored 0%)\n",
            "  adding: content/lstm_tuning/1layer/trial_02/trial.json (deflated 60%)\n",
            "  adding: content/lstm_tuning/1layer/trial_02/checkpoint.weights.h5 (deflated 69%)\n",
            "  adding: content/lstm_tuning/2layer/ (stored 0%)\n",
            "  adding: content/lstm_tuning/2layer/trial_25/ (stored 0%)\n",
            "  adding: content/lstm_tuning/2layer/trial_25/build_config.json (stored 0%)\n",
            "  adding: content/lstm_tuning/2layer/trial_25/trial.json (deflated 65%)\n",
            "  adding: content/lstm_tuning/2layer/trial_25/checkpoint.weights.h5 (deflated 27%)\n",
            "  adding: content/lstm_tuning/2layer/trial_31/ (stored 0%)\n",
            "  adding: content/lstm_tuning/2layer/trial_31/build_config.json (stored 0%)\n",
            "  adding: content/lstm_tuning/2layer/trial_31/trial.json (deflated 65%)\n",
            "  adding: content/lstm_tuning/2layer/trial_31/checkpoint.weights.h5 (deflated 29%)\n",
            "  adding: content/lstm_tuning/2layer/trial_22/ (stored 0%)\n",
            "  adding: content/lstm_tuning/2layer/trial_22/build_config.json (stored 0%)\n",
            "  adding: content/lstm_tuning/2layer/trial_22/trial.json (deflated 66%)\n",
            "  adding: content/lstm_tuning/2layer/trial_22/checkpoint.weights.h5 (deflated 31%)\n",
            "  adding: content/lstm_tuning/2layer/trial_04/ (stored 0%)\n",
            "  adding: content/lstm_tuning/2layer/trial_04/build_config.json (stored 0%)\n",
            "  adding: content/lstm_tuning/2layer/trial_04/trial.json (deflated 65%)\n",
            "  adding: content/lstm_tuning/2layer/trial_04/checkpoint.weights.h5 (deflated 26%)\n",
            "  adding: content/lstm_tuning/2layer/trial_35/ (stored 0%)\n",
            "  adding: content/lstm_tuning/2layer/trial_35/build_config.json (stored 0%)\n",
            "  adding: content/lstm_tuning/2layer/trial_35/trial.json (deflated 65%)\n",
            "  adding: content/lstm_tuning/2layer/trial_35/checkpoint.weights.h5 (deflated 27%)\n",
            "  adding: content/lstm_tuning/2layer/trial_10/ (stored 0%)\n",
            "  adding: content/lstm_tuning/2layer/trial_10/build_config.json (stored 0%)\n",
            "  adding: content/lstm_tuning/2layer/trial_10/trial.json (deflated 65%)\n",
            "  adding: content/lstm_tuning/2layer/trial_10/checkpoint.weights.h5 (deflated 33%)\n",
            "  adding: content/lstm_tuning/2layer/trial_28/ (stored 0%)\n",
            "  adding: content/lstm_tuning/2layer/trial_28/build_config.json (stored 0%)\n",
            "  adding: content/lstm_tuning/2layer/trial_28/trial.json (deflated 65%)\n",
            "  adding: content/lstm_tuning/2layer/trial_28/checkpoint.weights.h5 (deflated 27%)\n",
            "  adding: content/lstm_tuning/2layer/trial_05/ (stored 0%)\n",
            "  adding: content/lstm_tuning/2layer/trial_05/build_config.json (stored 0%)\n",
            "  adding: content/lstm_tuning/2layer/trial_05/trial.json (deflated 65%)\n",
            "  adding: content/lstm_tuning/2layer/trial_05/checkpoint.weights.h5 (deflated 31%)\n",
            "  adding: content/lstm_tuning/2layer/trial_39/ (stored 0%)\n",
            "  adding: content/lstm_tuning/2layer/trial_39/build_config.json (stored 0%)\n",
            "  adding: content/lstm_tuning/2layer/trial_39/trial.json (deflated 65%)\n",
            "  adding: content/lstm_tuning/2layer/trial_39/checkpoint.weights.h5 (deflated 27%)\n",
            "  adding: content/lstm_tuning/2layer/trial_01/ (stored 0%)\n",
            "  adding: content/lstm_tuning/2layer/trial_01/build_config.json (stored 0%)\n",
            "  adding: content/lstm_tuning/2layer/trial_01/trial.json (deflated 65%)\n",
            "  adding: content/lstm_tuning/2layer/trial_01/checkpoint.weights.h5 (deflated 29%)\n",
            "  adding: content/lstm_tuning/2layer/trial_15/ (stored 0%)\n",
            "  adding: content/lstm_tuning/2layer/trial_15/build_config.json (stored 0%)\n",
            "  adding: content/lstm_tuning/2layer/trial_15/trial.json (deflated 65%)\n",
            "  adding: content/lstm_tuning/2layer/trial_15/checkpoint.weights.h5 (deflated 31%)\n",
            "  adding: content/lstm_tuning/2layer/trial_03/ (stored 0%)\n",
            "  adding: content/lstm_tuning/2layer/trial_03/build_config.json (stored 0%)\n",
            "  adding: content/lstm_tuning/2layer/trial_03/trial.json (deflated 66%)\n",
            "  adding: content/lstm_tuning/2layer/trial_03/checkpoint.weights.h5 (deflated 27%)\n",
            "  adding: content/lstm_tuning/2layer/trial_18/ (stored 0%)\n",
            "  adding: content/lstm_tuning/2layer/trial_18/build_config.json (stored 0%)\n",
            "  adding: content/lstm_tuning/2layer/trial_18/trial.json (deflated 66%)\n",
            "  adding: content/lstm_tuning/2layer/trial_18/checkpoint.weights.h5 (deflated 26%)\n",
            "  adding: content/lstm_tuning/2layer/trial_20/ (stored 0%)\n",
            "  adding: content/lstm_tuning/2layer/trial_20/build_config.json (stored 0%)\n",
            "  adding: content/lstm_tuning/2layer/trial_20/trial.json (deflated 65%)\n",
            "  adding: content/lstm_tuning/2layer/trial_20/checkpoint.weights.h5 (deflated 30%)\n",
            "  adding: content/lstm_tuning/2layer/trial_06/ (stored 0%)\n",
            "  adding: content/lstm_tuning/2layer/trial_06/build_config.json (stored 0%)\n",
            "  adding: content/lstm_tuning/2layer/trial_06/trial.json (deflated 65%)\n",
            "  adding: content/lstm_tuning/2layer/trial_06/checkpoint.weights.h5 (deflated 22%)\n",
            "  adding: content/lstm_tuning/2layer/trial_38/ (stored 0%)\n",
            "  adding: content/lstm_tuning/2layer/trial_38/build_config.json (stored 0%)\n",
            "  adding: content/lstm_tuning/2layer/trial_38/trial.json (deflated 66%)\n",
            "  adding: content/lstm_tuning/2layer/trial_38/checkpoint.weights.h5 (deflated 66%)\n",
            "  adding: content/lstm_tuning/2layer/trial_23/ (stored 0%)\n",
            "  adding: content/lstm_tuning/2layer/trial_23/build_config.json (stored 0%)\n",
            "  adding: content/lstm_tuning/2layer/trial_23/trial.json (deflated 65%)\n",
            "  adding: content/lstm_tuning/2layer/trial_23/checkpoint.weights.h5 (deflated 27%)\n",
            "  adding: content/lstm_tuning/2layer/trial_30/ (stored 0%)\n",
            "  adding: content/lstm_tuning/2layer/trial_30/build_config.json (stored 0%)\n",
            "  adding: content/lstm_tuning/2layer/trial_30/trial.json (deflated 65%)\n",
            "  adding: content/lstm_tuning/2layer/trial_30/checkpoint.weights.h5 (deflated 26%)\n",
            "  adding: content/lstm_tuning/2layer/trial_33/ (stored 0%)\n",
            "  adding: content/lstm_tuning/2layer/trial_33/build_config.json (stored 0%)\n",
            "  adding: content/lstm_tuning/2layer/trial_33/trial.json (deflated 65%)\n",
            "  adding: content/lstm_tuning/2layer/trial_33/checkpoint.weights.h5 (deflated 27%)\n",
            "  adding: content/lstm_tuning/2layer/trial_24/ (stored 0%)\n",
            "  adding: content/lstm_tuning/2layer/trial_24/build_config.json (stored 0%)\n",
            "  adding: content/lstm_tuning/2layer/trial_24/trial.json (deflated 65%)\n",
            "  adding: content/lstm_tuning/2layer/trial_24/checkpoint.weights.h5 (deflated 24%)\n",
            "  adding: content/lstm_tuning/2layer/trial_19/ (stored 0%)\n",
            "  adding: content/lstm_tuning/2layer/trial_19/build_config.json (stored 0%)\n",
            "  adding: content/lstm_tuning/2layer/trial_19/trial.json (deflated 65%)\n",
            "  adding: content/lstm_tuning/2layer/trial_19/checkpoint.weights.h5 (deflated 28%)\n",
            "  adding: content/lstm_tuning/2layer/trial_17/ (stored 0%)\n",
            "  adding: content/lstm_tuning/2layer/trial_17/build_config.json (stored 0%)\n",
            "  adding: content/lstm_tuning/2layer/trial_17/trial.json (deflated 65%)\n",
            "  adding: content/lstm_tuning/2layer/trial_17/checkpoint.weights.h5 (deflated 29%)\n",
            "  adding: content/lstm_tuning/2layer/trial_36/ (stored 0%)\n",
            "  adding: content/lstm_tuning/2layer/trial_36/build_config.json (stored 0%)\n",
            "  adding: content/lstm_tuning/2layer/trial_36/trial.json (deflated 65%)\n",
            "  adding: content/lstm_tuning/2layer/trial_36/checkpoint.weights.h5 (deflated 42%)\n",
            "  adding: content/lstm_tuning/2layer/trial_13/ (stored 0%)\n",
            "  adding: content/lstm_tuning/2layer/trial_13/build_config.json (stored 0%)\n",
            "  adding: content/lstm_tuning/2layer/trial_13/trial.json (deflated 65%)\n",
            "  adding: content/lstm_tuning/2layer/trial_13/checkpoint.weights.h5 (deflated 29%)\n",
            "  adding: content/lstm_tuning/2layer/trial_12/ (stored 0%)\n",
            "  adding: content/lstm_tuning/2layer/trial_12/build_config.json (stored 0%)\n",
            "  adding: content/lstm_tuning/2layer/trial_12/trial.json (deflated 65%)\n",
            "  adding: content/lstm_tuning/2layer/trial_12/checkpoint.weights.h5 (deflated 27%)\n",
            "  adding: content/lstm_tuning/2layer/trial_34/ (stored 0%)\n",
            "  adding: content/lstm_tuning/2layer/trial_34/build_config.json (stored 0%)\n",
            "  adding: content/lstm_tuning/2layer/trial_34/trial.json (deflated 65%)\n",
            "  adding: content/lstm_tuning/2layer/trial_34/checkpoint.weights.h5 (deflated 28%)\n",
            "  adding: content/lstm_tuning/2layer/trial_00/ (stored 0%)\n",
            "  adding: content/lstm_tuning/2layer/trial_00/build_config.json (stored 0%)\n",
            "  adding: content/lstm_tuning/2layer/trial_00/trial.json (deflated 65%)\n",
            "  adding: content/lstm_tuning/2layer/trial_00/checkpoint.weights.h5 (deflated 27%)\n",
            "  adding: content/lstm_tuning/2layer/trial_29/ (stored 0%)\n",
            "  adding: content/lstm_tuning/2layer/trial_29/build_config.json (stored 0%)\n",
            "  adding: content/lstm_tuning/2layer/trial_29/trial.json (deflated 65%)\n",
            "  adding: content/lstm_tuning/2layer/trial_29/checkpoint.weights.h5 (deflated 30%)\n",
            "  adding: content/lstm_tuning/2layer/trial_11/ (stored 0%)\n",
            "  adding: content/lstm_tuning/2layer/trial_11/build_config.json (stored 0%)\n",
            "  adding: content/lstm_tuning/2layer/trial_11/trial.json (deflated 65%)\n",
            "  adding: content/lstm_tuning/2layer/trial_11/checkpoint.weights.h5 (deflated 21%)\n",
            "  adding: content/lstm_tuning/2layer/trial_09/ (stored 0%)\n",
            "  adding: content/lstm_tuning/2layer/trial_09/build_config.json (stored 0%)\n",
            "  adding: content/lstm_tuning/2layer/trial_09/trial.json (deflated 65%)\n",
            "  adding: content/lstm_tuning/2layer/trial_09/checkpoint.weights.h5 (deflated 33%)\n",
            "  adding: content/lstm_tuning/2layer/trial_08/ (stored 0%)\n",
            "  adding: content/lstm_tuning/2layer/trial_08/build_config.json (stored 0%)\n",
            "  adding: content/lstm_tuning/2layer/trial_08/trial.json (deflated 65%)\n",
            "  adding: content/lstm_tuning/2layer/trial_08/checkpoint.weights.h5 (deflated 33%)\n",
            "  adding: content/lstm_tuning/2layer/trial_16/ (stored 0%)\n",
            "  adding: content/lstm_tuning/2layer/trial_16/build_config.json (stored 0%)\n",
            "  adding: content/lstm_tuning/2layer/trial_16/trial.json (deflated 65%)\n",
            "  adding: content/lstm_tuning/2layer/trial_16/checkpoint.weights.h5 (deflated 29%)\n",
            "  adding: content/lstm_tuning/2layer/trial_37/ (stored 0%)\n",
            "  adding: content/lstm_tuning/2layer/trial_37/build_config.json (stored 0%)\n",
            "  adding: content/lstm_tuning/2layer/trial_37/trial.json (deflated 65%)\n",
            "  adding: content/lstm_tuning/2layer/trial_37/checkpoint.weights.h5 (deflated 22%)\n",
            "  adding: content/lstm_tuning/2layer/trial_07/ (stored 0%)\n",
            "  adding: content/lstm_tuning/2layer/trial_07/build_config.json (stored 0%)\n",
            "  adding: content/lstm_tuning/2layer/trial_07/trial.json (deflated 65%)\n",
            "  adding: content/lstm_tuning/2layer/trial_07/checkpoint.weights.h5 (deflated 34%)\n",
            "  adding: content/lstm_tuning/2layer/oracle.json (deflated 68%)\n",
            "  adding: content/lstm_tuning/2layer/tuner0.json (stored 0%)\n",
            "  adding: content/lstm_tuning/2layer/trial_21/ (stored 0%)\n",
            "  adding: content/lstm_tuning/2layer/trial_21/build_config.json (stored 0%)\n",
            "  adding: content/lstm_tuning/2layer/trial_21/trial.json (deflated 65%)\n",
            "  adding: content/lstm_tuning/2layer/trial_21/checkpoint.weights.h5 (deflated 34%)\n",
            "  adding: content/lstm_tuning/2layer/trial_26/ (stored 0%)\n",
            "  adding: content/lstm_tuning/2layer/trial_26/build_config.json (stored 0%)\n",
            "  adding: content/lstm_tuning/2layer/trial_26/trial.json (deflated 65%)\n",
            "  adding: content/lstm_tuning/2layer/trial_26/checkpoint.weights.h5 (deflated 28%)\n",
            "  adding: content/lstm_tuning/2layer/trial_32/ (stored 0%)\n",
            "  adding: content/lstm_tuning/2layer/trial_32/build_config.json (stored 0%)\n",
            "  adding: content/lstm_tuning/2layer/trial_32/trial.json (deflated 65%)\n",
            "  adding: content/lstm_tuning/2layer/trial_32/checkpoint.weights.h5 (deflated 20%)\n",
            "  adding: content/lstm_tuning/2layer/trial_27/ (stored 0%)\n",
            "  adding: content/lstm_tuning/2layer/trial_27/build_config.json (stored 0%)\n",
            "  adding: content/lstm_tuning/2layer/trial_27/trial.json (deflated 65%)\n",
            "  adding: content/lstm_tuning/2layer/trial_27/checkpoint.weights.h5 (deflated 26%)\n",
            "  adding: content/lstm_tuning/2layer/trial_14/ (stored 0%)\n",
            "  adding: content/lstm_tuning/2layer/trial_14/build_config.json (stored 0%)\n",
            "  adding: content/lstm_tuning/2layer/trial_14/trial.json (deflated 65%)\n",
            "  adding: content/lstm_tuning/2layer/trial_14/checkpoint.weights.h5 (deflated 42%)\n",
            "  adding: content/lstm_tuning/2layer/trial_02/ (stored 0%)\n",
            "  adding: content/lstm_tuning/2layer/trial_02/build_config.json (stored 0%)\n",
            "  adding: content/lstm_tuning/2layer/trial_02/trial.json (deflated 66%)\n",
            "  adding: content/lstm_tuning/2layer/trial_02/checkpoint.weights.h5 (deflated 39%)\n"
          ]
        }
      ]
    },
    {
      "cell_type": "code",
      "source": [
        "from google.colab import files\n",
        "files.download('folder_name.zip')"
      ],
      "metadata": {
        "id": "A_WNrjMojRtU"
      },
      "execution_count": null,
      "outputs": []
    },
    {
      "cell_type": "code",
      "source": [
        "from google.colab import drive\n",
        "drive.mount('/content/drive')\n"
      ],
      "metadata": {
        "id": "K6QJJDNXB251",
        "outputId": "655c8972-d90f-4f12-b0a4-31ab46546885",
        "colab": {
          "base_uri": "https://localhost:8080/"
        }
      },
      "execution_count": 41,
      "outputs": [
        {
          "output_type": "stream",
          "name": "stdout",
          "text": [
            "Mounted at /content/drive\n"
          ]
        }
      ]
    },
    {
      "cell_type": "code",
      "source": [
        "model.load(\"/content/drive/MyDrive/Master\")"
      ],
      "metadata": {
        "id": "r85iagzGCSq8"
      },
      "execution_count": null,
      "outputs": []
    }
  ],
  "metadata": {
    "kernelspec": {
      "display_name": "general",
      "language": "python",
      "name": "python3"
    },
    "language_info": {
      "name": "python",
      "version": "3.11.7"
    },
    "colab": {
      "provenance": []
    }
  },
  "nbformat": 4,
  "nbformat_minor": 0
}
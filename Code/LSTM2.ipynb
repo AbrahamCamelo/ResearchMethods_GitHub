{
  "cells": [
    {
      "cell_type": "code",
      "source": [
        "!git clone https://github.com/AbrahamCamelo/ResearchMethods_GitHub.git"
      ],
      "metadata": {
        "id": "yiiPYpMIr_nP",
        "outputId": "7d8f23f4-8e0e-47b2-9a8a-6b175c4b82f7",
        "colab": {
          "base_uri": "https://localhost:8080/"
        }
      },
      "execution_count": 1,
      "outputs": [
        {
          "output_type": "stream",
          "name": "stdout",
          "text": [
            "Cloning into 'ResearchMethods_GitHub'...\n",
            "remote: Enumerating objects: 503, done.\u001b[K\n",
            "remote: Counting objects: 100% (503/503), done.\u001b[K\n",
            "remote: Compressing objects: 100% (107/107), done.\u001b[K\n",
            "remote: Total 503 (delta 418), reused 451 (delta 395), pack-reused 0 (from 0)\u001b[K\n",
            "Receiving objects: 100% (503/503), 2.55 MiB | 6.48 MiB/s, done.\n",
            "Resolving deltas: 100% (418/418), done.\n"
          ]
        }
      ]
    },
    {
      "cell_type": "code",
      "source": [
        "!pip install -q -U keras-tuner"
      ],
      "metadata": {
        "id": "0KViTMZ5shtT",
        "outputId": "8f6e031f-4d63-4f72-b6c1-230ad43ecb2b",
        "colab": {
          "base_uri": "https://localhost:8080/"
        }
      },
      "execution_count": 2,
      "outputs": [
        {
          "output_type": "stream",
          "name": "stdout",
          "text": [
            "\u001b[?25l   \u001b[90m━━━━━━━━━━━━━━━━━━━━━━━━━━━━━━━━━━━━━━━━\u001b[0m \u001b[32m0.0/129.1 kB\u001b[0m \u001b[31m?\u001b[0m eta \u001b[36m-:--:--\u001b[0m\r\u001b[2K   \u001b[91m━━━━━━━━━━━━━━━━━━━━━━━━━━━━━━━━━━━━━━\u001b[0m\u001b[90m╺\u001b[0m\u001b[90m━\u001b[0m \u001b[32m122.9/129.1 kB\u001b[0m \u001b[31m4.4 MB/s\u001b[0m eta \u001b[36m0:00:01\u001b[0m\r\u001b[2K   \u001b[90m━━━━━━━━━━━━━━━━━━━━━━━━━━━━━━━━━━━━━━━━\u001b[0m \u001b[32m129.1/129.1 kB\u001b[0m \u001b[31m3.3 MB/s\u001b[0m eta \u001b[36m0:00:00\u001b[0m\n",
            "\u001b[?25h"
          ]
        }
      ]
    },
    {
      "cell_type": "code",
      "source": [
        "from google.colab import drive\n",
        "drive.mount('/content/drive')"
      ],
      "metadata": {
        "id": "N4V3vic5g-1W"
      },
      "execution_count": null,
      "outputs": []
    },
    {
      "cell_type": "code",
      "execution_count": 3,
      "metadata": {
        "id": "EEssjBJJr9Oz"
      },
      "outputs": [],
      "source": [
        "import pandas as pd\n",
        "import numpy as np\n",
        "import tensorflow as tf\n",
        "from tensorflow.keras.models import Sequential\n",
        "from tensorflow.keras.layers import LSTM, Dense\n",
        "from tensorflow.keras.callbacks import EarlyStopping\n",
        "from tensorflow.keras.optimizers import Adam\n",
        "import keras_tuner as kt\n",
        "from sklearn.preprocessing import MinMaxScaler\n",
        "from sklearn.metrics import r2_score,root_mean_squared_error\n",
        "import matplotlib.pyplot as plt\n",
        "from sklearn.model_selection import train_test_split\n"
      ]
    },
    {
      "cell_type": "markdown",
      "source": [
        "Import the dataset"
      ],
      "metadata": {
        "id": "vUbZuXcXso-z"
      }
    },
    {
      "cell_type": "code",
      "source": [
        "df_average = pd.read_csv('ResearchMethods_GitHub/ndvi_data/average_ndvi.csv')\n",
        "df_average['date'] = pd.to_datetime(df_average.date)\n",
        "df_average = df_average.drop(columns=['Unnamed: 0'])\n",
        "lst_ndvi = np.array(df_average.NDVI)"
      ],
      "metadata": {
        "id": "mzs1kyFosIy3"
      },
      "execution_count": 4,
      "outputs": []
    },
    {
      "cell_type": "code",
      "source": [
        "n_steps_in = 23\n",
        "n_steps_out = 1"
      ],
      "metadata": {
        "id": "oPoOcjJ5s3fQ"
      },
      "execution_count": 5,
      "outputs": []
    },
    {
      "cell_type": "code",
      "source": [
        "scaler = MinMaxScaler()\n",
        "lst_ndvi = scaler.fit_transform(lst_ndvi.reshape(-1, 1))"
      ],
      "metadata": {
        "id": "QRSl_-rus5S5"
      },
      "execution_count": 6,
      "outputs": []
    },
    {
      "cell_type": "markdown",
      "source": [
        "#### Function to restructure the data for the model"
      ],
      "metadata": {
        "id": "bAVn5sAqtepX"
      }
    },
    {
      "cell_type": "code",
      "source": [
        "def prepare_data(data, n_steps_in, n_steps_out):\n",
        "    X, y = [], []\n",
        "    for i in range(len(data) - n_steps_in - n_steps_out):\n",
        "        X.append(data[i:i+n_steps_in])\n",
        "        y.append(data[i+n_steps_in:i+n_steps_in+n_steps_out])\n",
        "    return np.array(X), np.array(y)"
      ],
      "metadata": {
        "id": "zX4unV-1tc0t"
      },
      "execution_count": 7,
      "outputs": []
    },
    {
      "cell_type": "code",
      "source": [
        "X, y = prepare_data(lst_ndvi, n_steps_in, n_steps_out)"
      ],
      "metadata": {
        "id": "WXzTXxustrZd"
      },
      "execution_count": 8,
      "outputs": []
    },
    {
      "cell_type": "markdown",
      "source": [
        "## Keras tune\n",
        "*   Definition of an integer hyperparameter: hp.Int(*hyperparameter*, min_value=#, max_value=#, step=#). This means that the *hyperparameter* will range from *min_value* to *max_value* inclusive with the minimum step for walking through the interval being *step*.\n",
        "\n",
        "### Compile\n",
        "Configures the model for training.\n",
        "\n",
        "**Hyperparameters**\n",
        "* **optimizer**: String (name of optimizer) or optimizer instance. Related to back propagation.\n",
        "* **loss**: Loss function. fn(y_true, y_pred)\n",
        "* **metrics**: List of metrics to be evaluated by the model during training and testing.\n",
        "\n",
        "It looks like loss is for the fitting of the model and metrics is for the final evaluation.\n",
        "\n"
      ],
      "metadata": {
        "id": "1J29P_w2wray"
      }
    },
    {
      "cell_type": "code",
      "source": [
        "def build_model_1layer(hp):\n",
        "    model = Sequential()\n",
        "    model.add(\n",
        "        LSTM(units=hp.Int(f\"units_0\", min_value=10, max_value=100, step=10),\n",
        "             activation='tanh',\n",
        "             input_shape=(n_steps_in, 1)\n",
        "             )\n",
        "        )\n",
        "    model.add(Dense(n_steps_out))\n",
        "    model.compile(\n",
        "        optimizer= Adam(learning_rate = hp.Float(\"lr\", min_value=1e-4, max_value=1e-2, sampling=\"log\")),\n",
        "        loss='mean_squared_error',\n",
        "        metrics = ['root_mean_squared_error']\n",
        "    )\n",
        "    return model"
      ],
      "metadata": {
        "id": "doMeN9lMuVku"
      },
      "execution_count": 9,
      "outputs": []
    },
    {
      "cell_type": "markdown",
      "source": [
        "### To initialize the tuner\n",
        "\n",
        "* **hypermodel**. The model-building function, which is build_model in our case.\n",
        "* **objective**. The name of the objective to optimize.\n",
        "* **max_trials**. The total number of trials to run during the search. Different trials have different hyperparameter values.\n",
        "* **executions_per_trial**. The number of models that should be built and fit for each trial. It is like cross-validation.\n",
        "* **overwrite**. Control whether to overwrite the previous results in the same directory or resume the previous search instead.\n",
        "* **directory**. A path to a directory for storing the search results.\n",
        "* **project_name**. The name of the sub-directory in the directory."
      ],
      "metadata": {
        "id": "UT2s8MmI0QgU"
      }
    },
    {
      "cell_type": "code",
      "source": [
        "!rm -rf /content/lstm_tuning"
      ],
      "metadata": {
        "id": "tvDH8zcWIkFn"
      },
      "execution_count": null,
      "outputs": []
    },
    {
      "cell_type": "code",
      "source": [
        "tuner_1layer = kt.RandomSearch(\n",
        "    build_model_1layer,\n",
        "    objective='val_loss',\n",
        "    max_trials=50,\n",
        "    executions_per_trial=3,\n",
        "    directory='lstm_tuning',\n",
        "    project_name='1layer'\n",
        ")\n",
        "tuner_1layer.search_space_summary()"
      ],
      "metadata": {
        "id": "WhpLwZnTudpq",
        "outputId": "d798fe0b-0201-44db-aeed-4aeebac9e3d4",
        "colab": {
          "base_uri": "https://localhost:8080/"
        }
      },
      "execution_count": 10,
      "outputs": [
        {
          "output_type": "stream",
          "name": "stdout",
          "text": [
            "Search space summary\n",
            "Default search space size: 2\n",
            "units_0 (Int)\n",
            "{'default': None, 'conditions': [], 'min_value': 10, 'max_value': 100, 'step': 10, 'sampling': 'linear'}\n",
            "lr (Float)\n",
            "{'default': 0.0001, 'conditions': [], 'min_value': 0.0001, 'max_value': 0.01, 'step': None, 'sampling': 'log'}\n"
          ]
        },
        {
          "output_type": "stream",
          "name": "stderr",
          "text": [
            "/usr/local/lib/python3.10/dist-packages/keras/src/layers/rnn/rnn.py:204: UserWarning: Do not pass an `input_shape`/`input_dim` argument to a layer. When using Sequential models, prefer using an `Input(shape)` object as the first layer in the model instead.\n",
            "  super().__init__(**kwargs)\n"
          ]
        }
      ]
    },
    {
      "cell_type": "code",
      "source": [
        "X_train, X_val, y_train, y_val = train_test_split(X, y, test_size=0.2, random_state=42)\n",
        "X_train.shape"
      ],
      "metadata": {
        "id": "bradpfv71FbR",
        "colab": {
          "base_uri": "https://localhost:8080/"
        },
        "outputId": "0ba777d1-881b-4083-edd3-5775262d2347"
      },
      "execution_count": 11,
      "outputs": [
        {
          "output_type": "execute_result",
          "data": {
            "text/plain": [
              "(91, 23, 1)"
            ]
          },
          "metadata": {},
          "execution_count": 11
        }
      ]
    },
    {
      "cell_type": "code",
      "source": [
        "early_stop = EarlyStopping(monitor='val_loss', patience=14, restore_best_weights=True)"
      ],
      "metadata": {
        "id": "xrK5TokVTyEQ"
      },
      "execution_count": 12,
      "outputs": []
    },
    {
      "cell_type": "code",
      "source": [
        "tuner_1layer.search(X_train, y_train, epochs=40, validation_data=(X_val, y_val), callbacks=[early_stop])"
      ],
      "metadata": {
        "id": "UP7whisQ1Gwh"
      },
      "execution_count": 15,
      "outputs": []
    },
    {
      "cell_type": "markdown",
      "source": [
        "Show the sumary of the results"
      ],
      "metadata": {
        "id": "P4CV9D3FXMAh"
      }
    },
    {
      "cell_type": "code",
      "source": [
        "a = tuner_1layer.results_summary()\n",
        "#print(type(a))\n"
      ],
      "metadata": {
        "id": "esFteu4xXOSY",
        "outputId": "4d5ac565-33d0-474c-e54f-ac474db259c2",
        "colab": {
          "base_uri": "https://localhost:8080/"
        }
      },
      "execution_count": 49,
      "outputs": [
        {
          "output_type": "stream",
          "name": "stdout",
          "text": [
            "Results summary\n",
            "Results in lstm_tuning/1layer\n",
            "Showing 10 best trials\n",
            "Objective(name=\"val_loss\", direction=\"min\")\n",
            "\n",
            "Trial 29 summary\n",
            "Hyperparameters:\n",
            "units_0: 80\n",
            "lr: 0.008223713071187294\n",
            "Score: 0.010433348516623179\n",
            "\n",
            "Trial 06 summary\n",
            "Hyperparameters:\n",
            "units_0: 50\n",
            "lr: 0.005664964099532701\n",
            "Score: 0.010719900640348593\n",
            "\n",
            "Trial 22 summary\n",
            "Hyperparameters:\n",
            "units_0: 100\n",
            "lr: 0.007386760578782742\n",
            "Score: 0.011130868767698606\n",
            "\n",
            "Trial 19 summary\n",
            "Hyperparameters:\n",
            "units_0: 50\n",
            "lr: 0.005813110971528378\n",
            "Score: 0.011199558464189371\n",
            "\n",
            "Trial 46 summary\n",
            "Hyperparameters:\n",
            "units_0: 90\n",
            "lr: 0.007305354737589493\n",
            "Score: 0.011426099576056004\n",
            "\n",
            "Trial 01 summary\n",
            "Hyperparameters:\n",
            "units_0: 20\n",
            "lr: 0.0089052720290065\n",
            "Score: 0.011427219646672407\n",
            "\n",
            "Trial 13 summary\n",
            "Hyperparameters:\n",
            "units_0: 30\n",
            "lr: 0.006336077696202977\n",
            "Score: 0.012124338497718176\n",
            "\n",
            "Trial 45 summary\n",
            "Hyperparameters:\n",
            "units_0: 20\n",
            "lr: 0.006759509436305564\n",
            "Score: 0.013716522293786207\n",
            "\n",
            "Trial 33 summary\n",
            "Hyperparameters:\n",
            "units_0: 90\n",
            "lr: 0.0023699044940759216\n",
            "Score: 0.014792371851702532\n",
            "\n",
            "Trial 34 summary\n",
            "Hyperparameters:\n",
            "units_0: 60\n",
            "lr: 0.003041963621230303\n",
            "Score: 0.014818913613756498\n"
          ]
        }
      ]
    },
    {
      "cell_type": "markdown",
      "source": [
        "Best result so far:\n",
        "* units: 40\n",
        "* lr: 0.00976844384018483\n",
        "* Score: 0.01515659037977457\n",
        "\n",
        "The other best result is\n",
        "num_layers: 1\n",
        "units_0: 60\n",
        "lr: 0.006429326855520711\n",
        "units_1: 20\n",
        "units_2: 100\n",
        "Score: 0.018751021474599838"
      ],
      "metadata": {
        "id": "mlFRTokKYPtq"
      }
    },
    {
      "cell_type": "code",
      "source": [
        "# Retrieve all trials from the tuner\n",
        "trials = tuner_1layer.oracle.get_best_trials(num_trials=50)\n",
        "\n",
        "# Initialize lists for hyperparameters and scores\n",
        "units_0_list = []\n",
        "lr_list = []\n",
        "score_list = []\n",
        "\n",
        "# Loop through each trial to extract information\n",
        "for trial in trials:\n",
        "    hyperparameters = trial.hyperparameters.values\n",
        "    units_0_list.append(hyperparameters.get(\"units_0\"))\n",
        "    lr_list.append(hyperparameters.get(\"lr\"))\n",
        "    score_list.append(trial.score)\n",
        "\n",
        "# The lists are now in order of the trials\n",
        "print(\"Units_0:\", units_0_list)\n",
        "print(\"Learning Rates:\", lr_list)\n",
        "print(\"Scores:\", score_list)"
      ],
      "metadata": {
        "id": "nFTpDp24Wum-",
        "outputId": "42b4d08d-38b1-4395-9966-7219563b7e09",
        "colab": {
          "base_uri": "https://localhost:8080/"
        }
      },
      "execution_count": 54,
      "outputs": [
        {
          "output_type": "stream",
          "name": "stdout",
          "text": [
            "Units_0: [80, 50, 100, 50, 90, 20, 30, 20, 90, 60, 30, 80, 50, 60, 30, 100, 40, 50, 30, 80, 40, 90, 10, 10, 50, 20, 10, 80, 40, 30, 90, 40, 60, 60, 60, 40, 30, 60, 20, 50, 80, 90, 100, 80, 20, 80, 50, 20, 20, 20]\n",
            "Learning Rates: [0.008223713071187294, 0.005664964099532701, 0.007386760578782742, 0.005813110971528378, 0.007305354737589493, 0.0089052720290065, 0.006336077696202977, 0.006759509436305564, 0.0023699044940759216, 0.003041963621230303, 0.0048429955437811825, 0.002386422384928134, 0.0025783877510808387, 0.002250984658023531, 0.0027925570846360714, 0.0019218776960015956, 0.0025510751612212845, 0.002053040292245905, 0.0018516174658228268, 0.0017845434584725045, 0.0016528518972563707, 0.0012008601894291048, 0.004545416702014981, 0.0030235992106009313, 0.001030132438265666, 0.0009869107559338007, 0.0023889707765900976, 0.0005276965876741727, 0.0007341550068485831, 0.0007938551864387135, 0.00047197417583353795, 0.0005367136238614067, 0.00034268604008720995, 0.0004375332735893259, 0.0004600317448706459, 0.0005290651376327243, 0.0006564307435068998, 0.0003698447422318572, 0.000665448233667236, 0.0003379886371533295, 0.00028045052802594774, 0.00011920136569643455, 0.00019790313757520978, 0.00019991331489546387, 0.0004816603466007292, 0.00010342039040771425, 0.0001157452518760688, 0.0002693387023501433, 0.00027443661347535144, 0.00015978705252452907]\n",
            "Scores: [0.010433348516623179, 0.010719900640348593, 0.011130868767698606, 0.011199558464189371, 0.011426099576056004, 0.011427219646672407, 0.012124338497718176, 0.013716522293786207, 0.014792371851702532, 0.014818913613756498, 0.015166310283044973, 0.016205062468846638, 0.016226496547460556, 0.017045188695192337, 0.017132254938284557, 0.01750005843738715, 0.018475720658898354, 0.01903429441154003, 0.01907182236512502, 0.01988057668010394, 0.020232183237870533, 0.021030609185496967, 0.022431991373499233, 0.022848269591728847, 0.026836860924959183, 0.03098594956099987, 0.033275993540883064, 0.03646444280942281, 0.03681565262377262, 0.038152214139699936, 0.03990513707200686, 0.04181108127037684, 0.045472318927447, 0.04612123593688011, 0.04652422418196996, 0.0465538464486599, 0.04759682218233744, 0.05132571359475454, 0.05139614890019099, 0.052224153031905494, 0.05264818420012792, 0.05618636185924212, 0.057719748467206955, 0.05852988983194033, 0.05918203418453535, 0.06247715651988983, 0.06283765534559886, 0.06606024131178856, 0.07263274242480595, 0.09803929924964905]\n"
          ]
        }
      ]
    },
    {
      "cell_type": "code",
      "source": [
        "pd.DataFrame({u'units_0': units_0_list, u'lr': lr_list, u'score': score_list}).to_csv('/content/models1_layer.csv', index=False)\n"
      ],
      "metadata": {
        "id": "of-BHDKZUSfp"
      },
      "execution_count": 59,
      "outputs": []
    },
    {
      "cell_type": "code",
      "source": [
        "best_model_1layer = tuner_1layer.get_best_models(num_models=1)[0]\n",
        "best_model_1layer.fit(X, y, epochs=50, validation_data=(X_val, y_val), callbacks=[early_stop])"
      ],
      "metadata": {
        "id": "8si84xAv1H6X",
        "outputId": "2dbc0de8-46b1-4e7c-fc2e-ce9f41af27e9",
        "colab": {
          "base_uri": "https://localhost:8080/"
        }
      },
      "execution_count": null,
      "outputs": [
        {
          "output_type": "stream",
          "name": "stdout",
          "text": [
            "Epoch 1/30\n"
          ]
        },
        {
          "output_type": "stream",
          "name": "stderr",
          "text": [
            "/usr/local/lib/python3.10/dist-packages/keras/src/saving/saving_lib.py:576: UserWarning: Skipping variable loading for optimizer 'adam', because it has 2 variables whereas the saved optimizer has 12 variables. \n",
            "  saveable.load_own_variables(weights_store.get(inner_path))\n"
          ]
        },
        {
          "output_type": "stream",
          "name": "stdout",
          "text": [
            "\u001b[1m4/4\u001b[0m \u001b[32m━━━━━━━━━━━━━━━━━━━━\u001b[0m\u001b[37m\u001b[0m \u001b[1m3s\u001b[0m 183ms/step - loss: 0.0213 - root_mean_squared_error: 0.1441 - val_loss: 0.0202 - val_root_mean_squared_error: 0.1421\n",
            "Epoch 2/30\n",
            "\u001b[1m4/4\u001b[0m \u001b[32m━━━━━━━━━━━━━━━━━━━━\u001b[0m\u001b[37m\u001b[0m \u001b[1m0s\u001b[0m 42ms/step - loss: 0.0142 - root_mean_squared_error: 0.1189 - val_loss: 0.0136 - val_root_mean_squared_error: 0.1168\n",
            "Epoch 3/30\n",
            "\u001b[1m4/4\u001b[0m \u001b[32m━━━━━━━━━━━━━━━━━━━━\u001b[0m\u001b[37m\u001b[0m \u001b[1m0s\u001b[0m 40ms/step - loss: 0.0138 - root_mean_squared_error: 0.1173 - val_loss: 0.0142 - val_root_mean_squared_error: 0.1190\n",
            "Epoch 4/30\n",
            "\u001b[1m4/4\u001b[0m \u001b[32m━━━━━━━━━━━━━━━━━━━━\u001b[0m\u001b[37m\u001b[0m \u001b[1m0s\u001b[0m 42ms/step - loss: 0.0116 - root_mean_squared_error: 0.1066 - val_loss: 0.0112 - val_root_mean_squared_error: 0.1057\n",
            "Epoch 5/30\n",
            "\u001b[1m4/4\u001b[0m \u001b[32m━━━━━━━━━━━━━━━━━━━━\u001b[0m\u001b[37m\u001b[0m \u001b[1m0s\u001b[0m 44ms/step - loss: 0.0108 - root_mean_squared_error: 0.1039 - val_loss: 0.0101 - val_root_mean_squared_error: 0.1006\n",
            "Epoch 6/30\n",
            "\u001b[1m4/4\u001b[0m \u001b[32m━━━━━━━━━━━━━━━━━━━━\u001b[0m\u001b[37m\u001b[0m \u001b[1m0s\u001b[0m 26ms/step - loss: 0.0107 - root_mean_squared_error: 0.1032 - val_loss: 0.0134 - val_root_mean_squared_error: 0.1157\n",
            "Epoch 7/30\n",
            "\u001b[1m4/4\u001b[0m \u001b[32m━━━━━━━━━━━━━━━━━━━━\u001b[0m\u001b[37m\u001b[0m \u001b[1m0s\u001b[0m 21ms/step - loss: 0.0098 - root_mean_squared_error: 0.0988 - val_loss: 0.0097 - val_root_mean_squared_error: 0.0984\n",
            "Epoch 8/30\n",
            "\u001b[1m4/4\u001b[0m \u001b[32m━━━━━━━━━━━━━━━━━━━━\u001b[0m\u001b[37m\u001b[0m \u001b[1m0s\u001b[0m 21ms/step - loss: 0.0103 - root_mean_squared_error: 0.1012 - val_loss: 0.0107 - val_root_mean_squared_error: 0.1035\n",
            "Epoch 9/30\n",
            "\u001b[1m4/4\u001b[0m \u001b[32m━━━━━━━━━━━━━━━━━━━━\u001b[0m\u001b[37m\u001b[0m \u001b[1m0s\u001b[0m 28ms/step - loss: 0.0104 - root_mean_squared_error: 0.1018 - val_loss: 0.0100 - val_root_mean_squared_error: 0.1000\n",
            "Epoch 10/30\n",
            "\u001b[1m4/4\u001b[0m \u001b[32m━━━━━━━━━━━━━━━━━━━━\u001b[0m\u001b[37m\u001b[0m \u001b[1m0s\u001b[0m 21ms/step - loss: 0.0090 - root_mean_squared_error: 0.0948 - val_loss: 0.0100 - val_root_mean_squared_error: 0.0998\n",
            "Epoch 11/30\n",
            "\u001b[1m4/4\u001b[0m \u001b[32m━━━━━━━━━━━━━━━━━━━━\u001b[0m\u001b[37m\u001b[0m \u001b[1m0s\u001b[0m 24ms/step - loss: 0.0109 - root_mean_squared_error: 0.1041 - val_loss: 0.0126 - val_root_mean_squared_error: 0.1123\n",
            "Epoch 12/30\n",
            "\u001b[1m4/4\u001b[0m \u001b[32m━━━━━━━━━━━━━━━━━━━━\u001b[0m\u001b[37m\u001b[0m \u001b[1m0s\u001b[0m 22ms/step - loss: 0.0109 - root_mean_squared_error: 0.1041 - val_loss: 0.0104 - val_root_mean_squared_error: 0.1017\n",
            "Epoch 13/30\n",
            "\u001b[1m4/4\u001b[0m \u001b[32m━━━━━━━━━━━━━━━━━━━━\u001b[0m\u001b[37m\u001b[0m \u001b[1m0s\u001b[0m 22ms/step - loss: 0.0079 - root_mean_squared_error: 0.0886 - val_loss: 0.0110 - val_root_mean_squared_error: 0.1049\n",
            "Epoch 14/30\n",
            "\u001b[1m4/4\u001b[0m \u001b[32m━━━━━━━━━━━━━━━━━━━━\u001b[0m\u001b[37m\u001b[0m \u001b[1m0s\u001b[0m 21ms/step - loss: 0.0096 - root_mean_squared_error: 0.0978 - val_loss: 0.0104 - val_root_mean_squared_error: 0.1022\n",
            "Epoch 15/30\n",
            "\u001b[1m4/4\u001b[0m \u001b[32m━━━━━━━━━━━━━━━━━━━━\u001b[0m\u001b[37m\u001b[0m \u001b[1m0s\u001b[0m 23ms/step - loss: 0.0102 - root_mean_squared_error: 0.1008 - val_loss: 0.0104 - val_root_mean_squared_error: 0.1022\n",
            "Epoch 16/30\n",
            "\u001b[1m4/4\u001b[0m \u001b[32m━━━━━━━━━━━━━━━━━━━━\u001b[0m\u001b[37m\u001b[0m \u001b[1m0s\u001b[0m 22ms/step - loss: 0.0083 - root_mean_squared_error: 0.0909 - val_loss: 0.0108 - val_root_mean_squared_error: 0.1039\n",
            "Epoch 17/30\n",
            "\u001b[1m4/4\u001b[0m \u001b[32m━━━━━━━━━━━━━━━━━━━━\u001b[0m\u001b[37m\u001b[0m \u001b[1m0s\u001b[0m 26ms/step - loss: 0.0104 - root_mean_squared_error: 0.1020 - val_loss: 0.0107 - val_root_mean_squared_error: 0.1032\n"
          ]
        },
        {
          "output_type": "execute_result",
          "data": {
            "text/plain": [
              "<keras.src.callbacks.history.History at 0x786ae6d16950>"
            ]
          },
          "metadata": {},
          "execution_count": 16
        }
      ]
    },
    {
      "cell_type": "code",
      "source": [
        "print(root_mean_squared_error(y.flatten(), best_model_1layer.predict(X).flatten()))"
      ],
      "metadata": {
        "id": "aSrf692x2tPT",
        "outputId": "6d8569c0-d34c-4660-e87d-36072283b3a1",
        "colab": {
          "base_uri": "https://localhost:8080/"
        }
      },
      "execution_count": null,
      "outputs": [
        {
          "output_type": "stream",
          "name": "stdout",
          "text": [
            "\u001b[1m4/4\u001b[0m \u001b[32m━━━━━━━━━━━━━━━━━━━━\u001b[0m\u001b[37m\u001b[0m \u001b[1m0s\u001b[0m 62ms/step\n",
            "0.09866268624830435\n"
          ]
        }
      ]
    },
    {
      "cell_type": "code",
      "source": [
        "Total_pred = best_model_1layer.predict(X)\n",
        "plt.figure(figsize=(10,3))\n",
        "plt.plot(range(len(lst_ndvi)-len(Total_pred)-1,len(lst_ndvi)-1),Total_pred, label = 'Predicted', c = 'orange')\n",
        "plt.plot(lst_ndvi, label = 'Predicted', c = 'green')\n",
        "#plt.plot(np.concatenate((lst_ndvi,predictions)), label = 'Predicted', c = 'green')\n",
        "plt.show()"
      ],
      "metadata": {
        "id": "w4yAqWXS2dRH",
        "outputId": "1d1f2822-6f8c-4365-cd69-115a79438a75",
        "colab": {
          "base_uri": "https://localhost:8080/",
          "height": 256
        }
      },
      "execution_count": null,
      "outputs": [
        {
          "output_type": "stream",
          "name": "stdout",
          "text": [
            "\u001b[1m4/4\u001b[0m \u001b[32m━━━━━━━━━━━━━━━━━━━━\u001b[0m\u001b[37m\u001b[0m \u001b[1m0s\u001b[0m 8ms/step \n"
          ]
        },
        {
          "output_type": "display_data",
          "data": {
            "text/plain": [
              "<Figure size 1000x300 with 1 Axes>"
            ],
            "image/png": "[encoded data removed]"
          },
          "metadata": {}
        }
      ]
    },
    {
      "cell_type": "markdown",
      "source": [
        "## 2 Layers"
      ],
      "metadata": {
        "id": "TuSaw8K2wl-v"
      }
    },
    {
      "cell_type": "code",
      "source": [
        "def build_model_2layer(hp):\n",
        "    model = Sequential()\n",
        "    cells = hp.Int(f\"units_0\", min_value=10, max_value=100, step=10)\n",
        "    model.add(\n",
        "        LSTM(units=cells,\n",
        "             activation='tanh',\n",
        "             input_shape=(n_steps_in, 1),\n",
        "             return_sequences=True\n",
        "             )\n",
        "        )\n",
        "    model.add(\n",
        "        LSTM(units=cells,\n",
        "             activation='tanh'\n",
        "             )\n",
        "        )\n",
        "    model.add(Dense(n_steps_out))\n",
        "    model.compile(\n",
        "        optimizer= Adam(learning_rate = hp.Float(\"lr\", min_value=1e-4, max_value=1e-2, sampling=\"log\")),\n",
        "        loss='mean_squared_error',\n",
        "        metrics = ['root_mean_squared_error']\n",
        "    )\n",
        "    return model\n",
        "\n",
        "\n",
        "tuner_2layer = kt.RandomSearch(\n",
        "    build_model_2layer,\n",
        "    objective='val_loss',\n",
        "    max_trials=40,\n",
        "    executions_per_trial=3,\n",
        "    directory='lstm_tuning',\n",
        "    project_name='2layer'\n",
        ")\n",
        "tuner_2layer.search_space_summary()\n",
        "\n",
        "tuner_2layer.search(X_train, y_train, epochs=30, validation_data=(X_val, y_val), callbacks=[early_stop])\n"
      ],
      "metadata": {
        "colab": {
          "base_uri": "https://localhost:8080/"
        },
        "id": "EoALZPWJwocr",
        "outputId": "ea5cbeed-3337-464d-9342-6664260d752b"
      },
      "execution_count": null,
      "outputs": [
        {
          "output_type": "stream",
          "name": "stdout",
          "text": [
            "Trial 40 Complete [00h 00m 40s]\n",
            "val_loss: 0.05589477593700091\n",
            "\n",
            "Best val_loss So Far: 0.01904242734114329\n",
            "Total elapsed time: 00h 23m 26s\n"
          ]
        }
      ]
    },
    {
      "cell_type": "code",
      "source": [
        "tuner_2layer.search_space_summary()\n"
      ],
      "metadata": {
        "id": "IGZEhyStFT5z",
        "outputId": "699d9c93-3a09-4187-acdb-7eace59f400c",
        "colab": {
          "base_uri": "https://localhost:8080/"
        }
      },
      "execution_count": null,
      "outputs": [
        {
          "output_type": "stream",
          "name": "stdout",
          "text": [
            "Search space summary\n",
            "Default search space size: 2\n",
            "units_0 (Int)\n",
            "{'default': None, 'conditions': [], 'min_value': 10, 'max_value': 100, 'step': 10, 'sampling': 'linear'}\n",
            "lr (Float)\n",
            "{'default': 0.0001, 'conditions': [], 'min_value': 0.0001, 'max_value': 0.01, 'step': None, 'sampling': 'log'}\n"
          ]
        }
      ]
    },
    {
      "cell_type": "code",
      "source": [
        "tuner_2layer.get_best_hyperparameters(1)[0].values\n",
        "best_model_2layer = tuner_2layer.get_best_models(num_models=1)[0]\n",
        "best_model_2layer.fit(X, y, epochs=30, validation_data=(X_val, y_val), callbacks=[early_stop])\n",
        "print(root_mean_squared_error(y.flatten(), best_model_2layer.predict(X).flatten()))"
      ],
      "metadata": {
        "colab": {
          "base_uri": "https://localhost:8080/"
        },
        "id": "097LTdhcxA_n",
        "outputId": "781b91ab-7942-40bc-e720-84bd631e50a4"
      },
      "execution_count": null,
      "outputs": [
        {
          "output_type": "stream",
          "name": "stdout",
          "text": [
            "Epoch 1/30\n"
          ]
        },
        {
          "output_type": "stream",
          "name": "stderr",
          "text": [
            "/usr/local/lib/python3.10/dist-packages/keras/src/saving/saving_lib.py:576: UserWarning: Skipping variable loading for optimizer 'adam', because it has 2 variables whereas the saved optimizer has 18 variables. \n",
            "  saveable.load_own_variables(weights_store.get(inner_path))\n"
          ]
        },
        {
          "output_type": "stream",
          "name": "stdout",
          "text": [
            "\u001b[1m4/4\u001b[0m \u001b[32m━━━━━━━━━━━━━━━━━━━━\u001b[0m\u001b[37m\u001b[0m \u001b[1m5s\u001b[0m 257ms/step - loss: 0.0296 - root_mean_squared_error: 0.1692 - val_loss: 0.0372 - val_root_mean_squared_error: 0.1928\n",
            "Epoch 2/30\n",
            "\u001b[1m4/4\u001b[0m \u001b[32m━━━━━━━━━━━━━━━━━━━━\u001b[0m\u001b[37m\u001b[0m \u001b[1m1s\u001b[0m 33ms/step - loss: 0.0407 - root_mean_squared_error: 0.2006 - val_loss: 0.0296 - val_root_mean_squared_error: 0.1720\n",
            "Epoch 3/30\n",
            "\u001b[1m4/4\u001b[0m \u001b[32m━━━━━━━━━━━━━━━━━━━━\u001b[0m\u001b[37m\u001b[0m \u001b[1m0s\u001b[0m 32ms/step - loss: 0.0181 - root_mean_squared_error: 0.1344 - val_loss: 0.0191 - val_root_mean_squared_error: 0.1384\n",
            "Epoch 4/30\n",
            "\u001b[1m4/4\u001b[0m \u001b[32m━━━━━━━━━━━━━━━━━━━━\u001b[0m\u001b[37m\u001b[0m \u001b[1m0s\u001b[0m 36ms/step - loss: 0.0182 - root_mean_squared_error: 0.1348 - val_loss: 0.0245 - val_root_mean_squared_error: 0.1565\n",
            "Epoch 5/30\n",
            "\u001b[1m4/4\u001b[0m \u001b[32m━━━━━━━━━━━━━━━━━━━━\u001b[0m\u001b[37m\u001b[0m \u001b[1m0s\u001b[0m 35ms/step - loss: 0.0152 - root_mean_squared_error: 0.1234 - val_loss: 0.0121 - val_root_mean_squared_error: 0.1099\n",
            "Epoch 6/30\n",
            "\u001b[1m4/4\u001b[0m \u001b[32m━━━━━━━━━━━━━━━━━━━━\u001b[0m\u001b[37m\u001b[0m \u001b[1m0s\u001b[0m 32ms/step - loss: 0.0147 - root_mean_squared_error: 0.1212 - val_loss: 0.0143 - val_root_mean_squared_error: 0.1197\n",
            "Epoch 7/30\n",
            "\u001b[1m4/4\u001b[0m \u001b[32m━━━━━━━━━━━━━━━━━━━━\u001b[0m\u001b[37m\u001b[0m \u001b[1m0s\u001b[0m 32ms/step - loss: 0.0138 - root_mean_squared_error: 0.1176 - val_loss: 0.0150 - val_root_mean_squared_error: 0.1227\n",
            "Epoch 8/30\n",
            "\u001b[1m4/4\u001b[0m \u001b[32m━━━━━━━━━━━━━━━━━━━━\u001b[0m\u001b[37m\u001b[0m \u001b[1m0s\u001b[0m 42ms/step - loss: 0.0124 - root_mean_squared_error: 0.1114 - val_loss: 0.0111 - val_root_mean_squared_error: 0.1051\n",
            "Epoch 9/30\n",
            "\u001b[1m4/4\u001b[0m \u001b[32m━━━━━━━━━━━━━━━━━━━━\u001b[0m\u001b[37m\u001b[0m \u001b[1m0s\u001b[0m 32ms/step - loss: 0.0120 - root_mean_squared_error: 0.1091 - val_loss: 0.0118 - val_root_mean_squared_error: 0.1087\n",
            "Epoch 10/30\n",
            "\u001b[1m4/4\u001b[0m \u001b[32m━━━━━━━━━━━━━━━━━━━━\u001b[0m\u001b[37m\u001b[0m \u001b[1m0s\u001b[0m 32ms/step - loss: 0.0082 - root_mean_squared_error: 0.0885 - val_loss: 0.0109 - val_root_mean_squared_error: 0.1043\n",
            "\u001b[1m4/4\u001b[0m \u001b[32m━━━━━━━━━━━━━━━━━━━━\u001b[0m\u001b[37m\u001b[0m \u001b[1m1s\u001b[0m 109ms/step\n",
            "0.21825103301680454\n"
          ]
        }
      ]
    },
    {
      "cell_type": "code",
      "source": [
        "Total_pred = best_model_2layer.predict(X)\n",
        "plt.figure(figsize=(10,3))\n",
        "plt.plot(range(len(lst_ndvi)-len(Total_pred)-1,len(lst_ndvi)-1),Total_pred, label = 'Predicted', c = 'orange')\n",
        "plt.plot(lst_ndvi, label = 'Predicted', c = 'green')\n",
        "plt.show()"
      ],
      "metadata": {
        "colab": {
          "base_uri": "https://localhost:8080/",
          "height": 256
        },
        "id": "avLv5-0syPsX",
        "outputId": "9b34ae91-fc73-49c8-ae03-bed5a80dee86"
      },
      "execution_count": null,
      "outputs": [
        {
          "output_type": "stream",
          "name": "stdout",
          "text": [
            "\u001b[1m4/4\u001b[0m \u001b[32m━━━━━━━━━━━━━━━━━━━━\u001b[0m\u001b[37m\u001b[0m \u001b[1m0s\u001b[0m 8ms/step \n"
          ]
        },
        {
          "output_type": "display_data",
          "data": {
            "text/plain": [
              "<Figure size 1000x300 with 1 Axes>"
            ],
            "image/png": "[encoded data removed]"
          },
          "metadata": {}
        }
      ]
    },
    {
      "cell_type": "code",
      "source": [
        "best_model_2layer.summary()\n",
        "tuner_2layer.get_best_hyperparameters(1)[0].values"
      ],
      "metadata": {
        "id": "Nb9m0j6wFWNK",
        "outputId": "7cb96f28-18aa-4016-a2f1-c0963cd7e6b7",
        "colab": {
          "base_uri": "https://localhost:8080/",
          "height": 275
        }
      },
      "execution_count": null,
      "outputs": [
        {
          "output_type": "display_data",
          "data": {
            "text/plain": [
              "\u001b[1mModel: \"sequential\"\u001b[0m\n"
            ],
            "text/html": [
              "<pre style=\"white-space:pre;overflow-x:auto;line-height:normal;font-family:Menlo,'DejaVu Sans Mono',consolas,'Courier New',monospace\"><span style=\"font-weight: bold\">Model: \"sequential\"</span>\n",
              "</pre>\n"
            ]
          },
          "metadata": {}
        },
        {
          "output_type": "display_data",
          "data": {
            "text/plain": [
              "┏━━━━━━━━━━━━━━━━━━━━━━━━━━━━━━━━━━━━━━┳━━━━━━━━━━━━━━━━━━━━━━━━━━━━━┳━━━━━━━━━━━━━━━━━┓\n",
              "┃\u001b[1m \u001b[0m\u001b[1mLayer (type)                        \u001b[0m\u001b[1m \u001b[0m┃\u001b[1m \u001b[0m\u001b[1mOutput Shape               \u001b[0m\u001b[1m \u001b[0m┃\u001b[1m \u001b[0m\u001b[1m        Param #\u001b[0m\u001b[1m \u001b[0m┃\n",
              "┡━━━━━━━━━━━━━━━━━━━━━━━━━━━━━━━━━━━━━━╇━━━━━━━━━━━━━━━━━━━━━━━━━━━━━╇━━━━━━━━━━━━━━━━━┩\n",
              "│ lstm (\u001b[38;5;33mLSTM\u001b[0m)                          │ (\u001b[38;5;45mNone\u001b[0m, \u001b[38;5;34m23\u001b[0m, \u001b[38;5;34m80\u001b[0m)              │          \u001b[38;5;34m26,240\u001b[0m │\n",
              "├──────────────────────────────────────┼─────────────────────────────┼─────────────────┤\n",
              "│ lstm_1 (\u001b[38;5;33mLSTM\u001b[0m)                        │ (\u001b[38;5;45mNone\u001b[0m, \u001b[38;5;34m80\u001b[0m)                  │          \u001b[38;5;34m51,520\u001b[0m │\n",
              "├──────────────────────────────────────┼─────────────────────────────┼─────────────────┤\n",
              "│ dense (\u001b[38;5;33mDense\u001b[0m)                        │ (\u001b[38;5;45mNone\u001b[0m, \u001b[38;5;34m1\u001b[0m)                   │              \u001b[38;5;34m81\u001b[0m │\n",
              "└──────────────────────────────────────┴─────────────────────────────┴─────────────────┘\n"
            ],
            "text/html": [
              "<pre style=\"white-space:pre;overflow-x:auto;line-height:normal;font-family:Menlo,'DejaVu Sans Mono',consolas,'Courier New',monospace\">┏━━━━━━━━━━━━━━━━━━━━━━━━━━━━━━━━━━━━━━┳━━━━━━━━━━━━━━━━━━━━━━━━━━━━━┳━━━━━━━━━━━━━━━━━┓\n",
              "┃<span style=\"font-weight: bold\"> Layer (type)                         </span>┃<span style=\"font-weight: bold\"> Output Shape                </span>┃<span style=\"font-weight: bold\">         Param # </span>┃\n",
              "┡━━━━━━━━━━━━━━━━━━━━━━━━━━━━━━━━━━━━━━╇━━━━━━━━━━━━━━━━━━━━━━━━━━━━━╇━━━━━━━━━━━━━━━━━┩\n",
              "│ lstm (<span style=\"color: #0087ff; text-decoration-color: #0087ff\">LSTM</span>)                          │ (<span style=\"color: #00d7ff; text-decoration-color: #00d7ff\">None</span>, <span style=\"color: #00af00; text-decoration-color: #00af00\">23</span>, <span style=\"color: #00af00; text-decoration-color: #00af00\">80</span>)              │          <span style=\"color: #00af00; text-decoration-color: #00af00\">26,240</span> │\n",
              "├──────────────────────────────────────┼─────────────────────────────┼─────────────────┤\n",
              "│ lstm_1 (<span style=\"color: #0087ff; text-decoration-color: #0087ff\">LSTM</span>)                        │ (<span style=\"color: #00d7ff; text-decoration-color: #00d7ff\">None</span>, <span style=\"color: #00af00; text-decoration-color: #00af00\">80</span>)                  │          <span style=\"color: #00af00; text-decoration-color: #00af00\">51,520</span> │\n",
              "├──────────────────────────────────────┼─────────────────────────────┼─────────────────┤\n",
              "│ dense (<span style=\"color: #0087ff; text-decoration-color: #0087ff\">Dense</span>)                        │ (<span style=\"color: #00d7ff; text-decoration-color: #00d7ff\">None</span>, <span style=\"color: #00af00; text-decoration-color: #00af00\">1</span>)                   │              <span style=\"color: #00af00; text-decoration-color: #00af00\">81</span> │\n",
              "└──────────────────────────────────────┴─────────────────────────────┴─────────────────┘\n",
              "</pre>\n"
            ]
          },
          "metadata": {}
        },
        {
          "output_type": "display_data",
          "data": {
            "text/plain": [
              "\u001b[1m Total params: \u001b[0m\u001b[38;5;34m233,525\u001b[0m (912.21 KB)\n"
            ],
            "text/html": [
              "<pre style=\"white-space:pre;overflow-x:auto;line-height:normal;font-family:Menlo,'DejaVu Sans Mono',consolas,'Courier New',monospace\"><span style=\"font-weight: bold\"> Total params: </span><span style=\"color: #00af00; text-decoration-color: #00af00\">233,525</span> (912.21 KB)\n",
              "</pre>\n"
            ]
          },
          "metadata": {}
        },
        {
          "output_type": "display_data",
          "data": {
            "text/plain": [
              "\u001b[1m Trainable params: \u001b[0m\u001b[38;5;34m77,841\u001b[0m (304.07 KB)\n"
            ],
            "text/html": [
              "<pre style=\"white-space:pre;overflow-x:auto;line-height:normal;font-family:Menlo,'DejaVu Sans Mono',consolas,'Courier New',monospace\"><span style=\"font-weight: bold\"> Trainable params: </span><span style=\"color: #00af00; text-decoration-color: #00af00\">77,841</span> (304.07 KB)\n",
              "</pre>\n"
            ]
          },
          "metadata": {}
        },
        {
          "output_type": "display_data",
          "data": {
            "text/plain": [
              "\u001b[1m Non-trainable params: \u001b[0m\u001b[38;5;34m0\u001b[0m (0.00 B)\n"
            ],
            "text/html": [
              "<pre style=\"white-space:pre;overflow-x:auto;line-height:normal;font-family:Menlo,'DejaVu Sans Mono',consolas,'Courier New',monospace\"><span style=\"font-weight: bold\"> Non-trainable params: </span><span style=\"color: #00af00; text-decoration-color: #00af00\">0</span> (0.00 B)\n",
              "</pre>\n"
            ]
          },
          "metadata": {}
        },
        {
          "output_type": "display_data",
          "data": {
            "text/plain": [
              "\u001b[1m Optimizer params: \u001b[0m\u001b[38;5;34m155,684\u001b[0m (608.14 KB)\n"
            ],
            "text/html": [
              "<pre style=\"white-space:pre;overflow-x:auto;line-height:normal;font-family:Menlo,'DejaVu Sans Mono',consolas,'Courier New',monospace\"><span style=\"font-weight: bold\"> Optimizer params: </span><span style=\"color: #00af00; text-decoration-color: #00af00\">155,684</span> (608.14 KB)\n",
              "</pre>\n"
            ]
          },
          "metadata": {}
        },
        {
          "output_type": "execute_result",
          "data": {
            "text/plain": [
              "{'units_0': 80, 'lr': 0.0014951135160520678}"
            ]
          },
          "metadata": {},
          "execution_count": 51
        }
      ]
    },
    {
      "cell_type": "markdown",
      "source": [
        "## 3 Layers"
      ],
      "metadata": {
        "id": "QTEIvNT1yLvZ"
      }
    },
    {
      "cell_type": "code",
      "source": [
        "def build_model_3layer(hp):\n",
        "    model = Sequential()\n",
        "    model.add(\n",
        "        LSTM(units=hp.Int(f\"units_0\", min_value=10, max_value=100, step=10),\n",
        "             activation='tanh',\n",
        "             input_shape=(n_steps_in, 1),\n",
        "             return_sequences=True\n",
        "             )\n",
        "        )\n",
        "    model.add(\n",
        "        LSTM(units=hp.Int(f\"units_1\", min_value=10, max_value=100, step=10),\n",
        "             activation='tanh',\n",
        "             return_sequences=True\n",
        "             )\n",
        "        )\n",
        "    model.add(\n",
        "        LSTM(units=hp.Int(f\"units_2\", min_value=10, max_value=100, step=10),\n",
        "             activation='tanh'\n",
        "             )\n",
        "        )\n",
        "    model.add(Dense(n_steps_out))\n",
        "    model.compile(\n",
        "        optimizer= Adam(learning_rate = hp.Float(\"lr\", min_value=1e-4, max_value=1e-2, sampling=\"log\")),\n",
        "        loss='mean_squared_error',\n",
        "        metrics = ['root_mean_squared_error']\n",
        "    )\n",
        "    return model\n",
        "\n",
        "\n",
        "tuner_3layer = kt.RandomSearch(\n",
        "    build_model_3layer,\n",
        "    objective='val_loss',\n",
        "    max_trials=40,\n",
        "    executions_per_trial=3,\n",
        "    directory='lstm_tuning',\n",
        "    project_name='3layer'\n",
        ")\n",
        "tuner_3layer.search_space_summary()\n",
        "\n",
        "tuner_3layer.search(X_train, y_train, epochs=30, validation_data=(X_val, y_val), callbacks=[early_stop])\n"
      ],
      "metadata": {
        "id": "_WeXvpiFybPA"
      },
      "execution_count": null,
      "outputs": []
    },
    {
      "cell_type": "code",
      "source": [
        "tuner_3layer.get_best_hyperparameters(1)[0].values\n",
        "best_model_3layer = tuner_3layer.get_best_models(num_models=1)[0]\n",
        "best_model_3layer.fit(X, y, epochs=30, validation_data=(X_val, y_val), callbacks=[early_stop])\n",
        "print(root_mean_squared_error(y.flatten(), best_model_3layer.predict(X).flatten()))"
      ],
      "metadata": {
        "id": "rG7Ak_qAybPA"
      },
      "execution_count": null,
      "outputs": []
    },
    {
      "cell_type": "code",
      "source": [
        "Total_pred = best_model_3layer.predict(X)\n",
        "plt.figure(figsize=(10,3))\n",
        "plt.plot(range(len(lst_ndvi)-len(Total_pred)-1,len(lst_ndvi)-1),Total_pred, label = 'Predicted', c = 'orange')\n",
        "plt.plot(lst_ndvi, label = 'Predicted', c = 'green')\n",
        "plt.show()"
      ],
      "metadata": {
        "id": "_FVQC_UyybPC"
      },
      "execution_count": null,
      "outputs": []
    },
    {
      "cell_type": "markdown",
      "source": [
        "## Export data"
      ],
      "metadata": {
        "id": "bGHl1UT2yCYV"
      }
    },
    {
      "cell_type": "code",
      "source": [],
      "metadata": {
        "id": "K6QJJDNXB251",
        "outputId": "d9509474-61f2-4219-b457-f06d37aacbcc",
        "colab": {
          "base_uri": "https://localhost:8080/",
          "height": 53
        }
      },
      "execution_count": 64,
      "outputs": [
        {
          "output_type": "stream",
          "name": "stdout",
          "text": [
            "Drive already mounted at /content/drive; to attempt to forcibly remount, call drive.mount(\"/content/drive\", force_remount=True).\n"
          ]
        },
        {
          "output_type": "execute_result",
          "data": {
            "text/plain": [
              "'/content/drive/My Drive/Master/lstm_tuning'"
            ],
            "application/vnd.google.colaboratory.intrinsic+json": {
              "type": "string"
            }
          },
          "metadata": {},
          "execution_count": 64
        }
      ]
    }
  ],
  "metadata": {
    "kernelspec": {
      "display_name": "general",
      "language": "python",
      "name": "python3"
    },
    "language_info": {
      "name": "python",
      "version": "3.11.7"
    },
    "colab": {
      "provenance": []
    }
  },
  "nbformat": 4,
  "nbformat_minor": 0
}
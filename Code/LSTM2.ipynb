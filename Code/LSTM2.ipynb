{
  "cells": [
    {
      "cell_type": "code",
      "source": [
        "!git clone https://github.com/AbrahamCamelo/ResearchMethods_GitHub.git"
      ],
      "metadata": {
        "id": "yiiPYpMIr_nP",
        "outputId": "987f9b68-438b-4cf8-9956-bb1b1c372720",
        "colab": {
          "base_uri": "https://localhost:8080/"
        }
      },
      "execution_count": null,
      "outputs": [
        {
          "output_type": "stream",
          "name": "stdout",
          "text": [
            "Cloning into 'ResearchMethods_GitHub'...\n",
            "remote: Enumerating objects: 483, done.\u001b[K\n",
            "remote: Counting objects: 100% (483/483), done.\u001b[K\n",
            "remote: Compressing objects: 100% (87/87), done.\u001b[K\n",
            "remote: Total 483 (delta 408), reused 452 (delta 395), pack-reused 0 (from 0)\u001b[K\n",
            "Receiving objects: 100% (483/483), 2.21 MiB | 8.48 MiB/s, done.\n",
            "Resolving deltas: 100% (408/408), done.\n"
          ]
        }
      ]
    },
    {
      "cell_type": "code",
      "source": [
        "!pip install -q -U keras-tuner"
      ],
      "metadata": {
        "id": "0KViTMZ5shtT",
        "outputId": "ecc72e18-5103-4461-b4e7-4b349405f695",
        "colab": {
          "base_uri": "https://localhost:8080/"
        }
      },
      "execution_count": null,
      "outputs": [
        {
          "output_type": "stream",
          "name": "stdout",
          "text": [
            "\u001b[?25l   \u001b[90m━━━━━━━━━━━━━━━━━━━━━━━━━━━━━━━━━━━━━━━━\u001b[0m \u001b[32m0.0/129.1 kB\u001b[0m \u001b[31m?\u001b[0m eta \u001b[36m-:--:--\u001b[0m\r\u001b[2K   \u001b[91m━━━━━━━━━━━━━━━━━━━━━━━━━━━━━━━━━━━━━━\u001b[0m\u001b[90m╺\u001b[0m\u001b[90m━\u001b[0m \u001b[32m122.9/129.1 kB\u001b[0m \u001b[31m3.7 MB/s\u001b[0m eta \u001b[36m0:00:01\u001b[0m\r\u001b[2K   \u001b[90m━━━━━━━━━━━━━━━━━━━━━━━━━━━━━━━━━━━━━━━━\u001b[0m \u001b[32m129.1/129.1 kB\u001b[0m \u001b[31m2.7 MB/s\u001b[0m eta \u001b[36m0:00:00\u001b[0m\n",
            "\u001b[?25h"
          ]
        }
      ]
    },
    {
      "cell_type": "code",
      "execution_count": 87,
      "metadata": {
        "id": "EEssjBJJr9Oz"
      },
      "outputs": [],
      "source": [
        "import pandas as pd\n",
        "import numpy as np\n",
        "import tensorflow as tf\n",
        "from tensorflow.keras.models import Sequential\n",
        "from tensorflow.keras.layers import LSTM, Dense\n",
        "from tensorflow.keras.callbacks import EarlyStopping\n",
        "from tensorflow.keras.optimizers import Adam\n",
        "import keras_tuner as kt\n",
        "from sklearn.preprocessing import MinMaxScaler\n",
        "from sklearn.metrics import r2_score,root_mean_squared_error\n",
        "import matplotlib.pyplot as plt"
      ]
    },
    {
      "cell_type": "markdown",
      "source": [
        "Import the dataset"
      ],
      "metadata": {
        "id": "vUbZuXcXso-z"
      }
    },
    {
      "cell_type": "code",
      "source": [
        "df_average = pd.read_csv('ResearchMethods_GitHub/ndvi_data/average_ndvi.csv')\n",
        "df_average['date'] = pd.to_datetime(df_average.date)\n",
        "df_average = df_average.drop(columns=['Unnamed: 0'])\n",
        "lst_ndvi = np.array(df_average.NDVI)"
      ],
      "metadata": {
        "id": "mzs1kyFosIy3"
      },
      "execution_count": 45,
      "outputs": []
    },
    {
      "cell_type": "code",
      "source": [
        "n_steps_in = 30\n",
        "n_steps_out = 1"
      ],
      "metadata": {
        "id": "oPoOcjJ5s3fQ"
      },
      "execution_count": 62,
      "outputs": []
    },
    {
      "cell_type": "code",
      "source": [
        "scaler = MinMaxScaler()\n",
        "lst_ndvi = scaler.fit_transform(lst_ndvi.reshape(-1, 1))"
      ],
      "metadata": {
        "id": "QRSl_-rus5S5"
      },
      "execution_count": 63,
      "outputs": []
    },
    {
      "cell_type": "markdown",
      "source": [
        "#### Function to restructure the data for the model"
      ],
      "metadata": {
        "id": "bAVn5sAqtepX"
      }
    },
    {
      "cell_type": "code",
      "source": [
        "def prepare_data(data, n_steps_in, n_steps_out):\n",
        "    X, y = [], []\n",
        "    for i in range(len(data) - n_steps_in - n_steps_out):\n",
        "        X.append(data[i:i+n_steps_in])\n",
        "        y.append(data[i+n_steps_in:i+n_steps_in+n_steps_out])\n",
        "    return np.array(X), np.array(y)"
      ],
      "metadata": {
        "id": "zX4unV-1tc0t"
      },
      "execution_count": 64,
      "outputs": []
    },
    {
      "cell_type": "code",
      "source": [
        "X, y = prepare_data(lst_ndvi, n_steps_in, n_steps_out)"
      ],
      "metadata": {
        "id": "WXzTXxustrZd"
      },
      "execution_count": 65,
      "outputs": []
    },
    {
      "cell_type": "markdown",
      "source": [
        "## Keras tune\n",
        "*   Definition of an integer hyperparameter: hp.Int(*hyperparameter*, min_value=#, max_value=#, step=#). This means that the *hyperparameter* will range from *min_value* to *max_value* inclusive with the minimum step for walking through the interval being *step*.\n",
        "\n",
        "### Compile\n",
        "Configures the model for training.\n",
        "\n",
        "**Hyperparameters**\n",
        "* **optimizer**: String (name of optimizer) or optimizer instance. Related to back propagation.\n",
        "* **loss**: Loss function. fn(y_true, y_pred)\n",
        "* **metrics**: List of metrics to be evaluated by the model during training and testing.\n",
        "\n",
        "It looks like loss is for the fitting of the model and metrics is for the final evaluation.\n",
        "\n"
      ],
      "metadata": {
        "id": "1J29P_w2wray"
      }
    },
    {
      "cell_type": "code",
      "source": [
        "def build_model(hp):\n",
        "    model = Sequential()\n",
        "    for i in range(hp.Int(\"num_layers\", 1, 3)):\n",
        "      model.add(\n",
        "          LSTM(units=hp.Int(f\"units_{i}\", min_value=10, max_value=100, step=10),\n",
        "              activation='tanh',\n",
        "              input_shape=(n_steps_in, 1) if i == 0 else None,\n",
        "               return_sequences =(i < hp.get(\"num_layers\") - 1)\n",
        "              )\n",
        "          )\n",
        "    model.add(Dense(n_steps_out))\n",
        "    model.compile(\n",
        "        optimizer= Adam(learning_rate = hp.Float(\"lr\", min_value=1e-4, max_value=1e-2, sampling=\"log\")),\n",
        "        loss='mean_squared_error',\n",
        "        metrics = ['root_mean_squared_error']\n",
        "    )\n",
        "    return model"
      ],
      "metadata": {
        "id": "doMeN9lMuVku"
      },
      "execution_count": 140,
      "outputs": []
    },
    {
      "cell_type": "markdown",
      "source": [
        "### To initialize the tuner\n",
        "\n",
        "* **hypermodel**. The model-building function, which is build_model in our case.\n",
        "* **objective**. The name of the objective to optimize.\n",
        "* **max_trials**. The total number of trials to run during the search. Different trials have different hyperparameter values.\n",
        "* **executions_per_trial**. The number of models that should be built and fit for each trial. It is like cross-validation.\n",
        "* **overwrite**. Control whether to overwrite the previous results in the same directory or resume the previous search instead.\n",
        "* **directory**. A path to a directory for storing the search results.\n",
        "* **project_name**. The name of the sub-directory in the directory."
      ],
      "metadata": {
        "id": "UT2s8MmI0QgU"
      }
    },
    {
      "cell_type": "code",
      "source": [
        "!rm -rf /content/lstm_tuning"
      ],
      "metadata": {
        "id": "tvDH8zcWIkFn"
      },
      "execution_count": 142,
      "outputs": []
    },
    {
      "cell_type": "code",
      "source": [
        "tuner = kt.RandomSearch(\n",
        "    build_model,\n",
        "    objective='val_loss',\n",
        "    max_trials=30,\n",
        "    executions_per_trial=3,\n",
        "    directory='lstm_tuning',\n",
        "    project_name='time_series_forecasting'\n",
        ")\n",
        "tuner.search_space_summary()"
      ],
      "metadata": {
        "id": "WhpLwZnTudpq",
        "outputId": "b1f620f6-6d1f-4267-c847-40ba01369832",
        "colab": {
          "base_uri": "https://localhost:8080/"
        }
      },
      "execution_count": 143,
      "outputs": [
        {
          "output_type": "stream",
          "name": "stdout",
          "text": [
            "Search space summary\n",
            "Default search space size: 3\n",
            "num_layers (Int)\n",
            "{'default': None, 'conditions': [], 'min_value': 1, 'max_value': 3, 'step': 1, 'sampling': 'linear'}\n",
            "units_0 (Int)\n",
            "{'default': None, 'conditions': [], 'min_value': 10, 'max_value': 100, 'step': 10, 'sampling': 'linear'}\n",
            "lr (Float)\n",
            "{'default': 0.0001, 'conditions': [], 'min_value': 0.0001, 'max_value': 0.01, 'step': None, 'sampling': 'log'}\n"
          ]
        },
        {
          "output_type": "stream",
          "name": "stderr",
          "text": [
            "/usr/local/lib/python3.10/dist-packages/keras/src/layers/rnn/rnn.py:204: UserWarning: Do not pass an `input_shape`/`input_dim` argument to a layer. When using Sequential models, prefer using an `Input(shape)` object as the first layer in the model instead.\n",
            "  super().__init__(**kwargs)\n"
          ]
        }
      ]
    },
    {
      "cell_type": "code",
      "source": [
        "split = int(0.8 * len(X))\n",
        "X_train, X_val = X[:split], X[split:]\n",
        "y_train, y_val = y[:split], y[split:]\n",
        "X_train.shape"
      ],
      "metadata": {
        "id": "bradpfv71FbR",
        "outputId": "05cacee5-0908-4084-a7b0-9637b333aef0",
        "colab": {
          "base_uri": "https://localhost:8080/"
        }
      },
      "execution_count": 144,
      "outputs": [
        {
          "output_type": "execute_result",
          "data": {
            "text/plain": [
              "(85, 30, 1)"
            ]
          },
          "metadata": {},
          "execution_count": 144
        }
      ]
    },
    {
      "cell_type": "code",
      "source": [
        "early_stop = EarlyStopping(monitor='val_loss', patience=5, restore_best_weights=True)\n",
        "tuner.search(X_train, y_train, epochs=50, validation_data=(X_val, y_val), callbacks=[early_stop])"
      ],
      "metadata": {
        "id": "UP7whisQ1Gwh",
        "outputId": "49756053-2ff6-4ec2-d636-9936c76ca7be",
        "colab": {
          "base_uri": "https://localhost:8080/"
        }
      },
      "execution_count": 145,
      "outputs": [
        {
          "output_type": "stream",
          "name": "stdout",
          "text": [
            "Trial 30 Complete [00h 00m 30s]\n",
            "val_loss: 0.02148790347079436\n",
            "\n",
            "Best val_loss So Far: 0.018751021474599838\n",
            "Total elapsed time: 00h 17m 24s\n"
          ]
        }
      ]
    },
    {
      "cell_type": "markdown",
      "source": [
        "Show the sumary of the results"
      ],
      "metadata": {
        "id": "P4CV9D3FXMAh"
      }
    },
    {
      "cell_type": "code",
      "source": [
        "tuner.results_summary()\n"
      ],
      "metadata": {
        "id": "esFteu4xXOSY",
        "outputId": "a1d9071f-16f4-4c13-ab72-caae760dc861",
        "colab": {
          "base_uri": "https://localhost:8080/"
        }
      },
      "execution_count": 146,
      "outputs": [
        {
          "output_type": "stream",
          "name": "stdout",
          "text": [
            "Results summary\n",
            "Results in lstm_tuning/time_series_forecasting\n",
            "Showing 10 best trials\n",
            "Objective(name=\"val_loss\", direction=\"min\")\n",
            "\n",
            "Trial 15 summary\n",
            "Hyperparameters:\n",
            "num_layers: 1\n",
            "units_0: 60\n",
            "lr: 0.006429326855520711\n",
            "units_1: 20\n",
            "units_2: 100\n",
            "Score: 0.018751021474599838\n",
            "\n",
            "Trial 14 summary\n",
            "Hyperparameters:\n",
            "num_layers: 1\n",
            "units_0: 40\n",
            "lr: 0.004127702183794183\n",
            "units_1: 60\n",
            "units_2: 10\n",
            "Score: 0.018812987332542736\n",
            "\n",
            "Trial 19 summary\n",
            "Hyperparameters:\n",
            "num_layers: 1\n",
            "units_0: 40\n",
            "lr: 0.000508254369808113\n",
            "units_1: 20\n",
            "units_2: 70\n",
            "Score: 0.020082493002216022\n",
            "\n",
            "Trial 27 summary\n",
            "Hyperparameters:\n",
            "num_layers: 2\n",
            "units_0: 60\n",
            "lr: 0.004918860745687648\n",
            "units_1: 60\n",
            "units_2: 90\n",
            "Score: 0.02038283459842205\n",
            "\n",
            "Trial 25 summary\n",
            "Hyperparameters:\n",
            "num_layers: 2\n",
            "units_0: 100\n",
            "lr: 0.0026263512824869465\n",
            "units_1: 90\n",
            "units_2: 50\n",
            "Score: 0.020583937565485638\n",
            "\n",
            "Trial 20 summary\n",
            "Hyperparameters:\n",
            "num_layers: 1\n",
            "units_0: 100\n",
            "lr: 0.000250228668797638\n",
            "units_1: 60\n",
            "units_2: 80\n",
            "Score: 0.020692937076091766\n",
            "\n",
            "Trial 12 summary\n",
            "Hyperparameters:\n",
            "num_layers: 1\n",
            "units_0: 60\n",
            "lr: 0.0005524057662598867\n",
            "units_1: 50\n",
            "units_2: 90\n",
            "Score: 0.02076364556948344\n",
            "\n",
            "Trial 08 summary\n",
            "Hyperparameters:\n",
            "num_layers: 1\n",
            "units_0: 20\n",
            "lr: 0.0017939747724180148\n",
            "units_1: 70\n",
            "units_2: 50\n",
            "Score: 0.02091766024629275\n",
            "\n",
            "Trial 17 summary\n",
            "Hyperparameters:\n",
            "num_layers: 2\n",
            "units_0: 60\n",
            "lr: 0.0048237811908727465\n",
            "units_1: 70\n",
            "units_2: 10\n",
            "Score: 0.020979858934879303\n",
            "\n",
            "Trial 01 summary\n",
            "Hyperparameters:\n",
            "num_layers: 1\n",
            "units_0: 40\n",
            "lr: 0.00015596159477600306\n",
            "Score: 0.02114129749437173\n"
          ]
        }
      ]
    },
    {
      "cell_type": "markdown",
      "source": [
        "Best result so far:\n",
        "* units: 40\n",
        "* lr: 0.00976844384018483\n",
        "* Score: 0.01515659037977457"
      ],
      "metadata": {
        "id": "mlFRTokKYPtq"
      }
    },
    {
      "cell_type": "code",
      "source": [
        "tuner.get_best_hyperparameters(5)[0].values"
      ],
      "metadata": {
        "id": "nFTpDp24Wum-",
        "outputId": "0fd3b77b-cae2-4ff8-cc80-1364bca5ffca",
        "colab": {
          "base_uri": "https://localhost:8080/"
        }
      },
      "execution_count": 147,
      "outputs": [
        {
          "output_type": "execute_result",
          "data": {
            "text/plain": [
              "{'num_layers': 1,\n",
              " 'units_0': 60,\n",
              " 'lr': 0.006429326855520711,\n",
              " 'units_1': 20,\n",
              " 'units_2': 100}"
            ]
          },
          "metadata": {},
          "execution_count": 147
        }
      ]
    },
    {
      "cell_type": "code",
      "source": [
        "best_model = tuner.get_best_models(num_models=1)[0]\n",
        "best_model.fit(X, y, epochs=50, validation_data=(X_val, y_val), callbacks=[early_stop])"
      ],
      "metadata": {
        "id": "8si84xAv1H6X",
        "outputId": "7a66330a-427c-47ec-836a-464dfaba0fa2",
        "colab": {
          "base_uri": "https://localhost:8080/"
        }
      },
      "execution_count": 148,
      "outputs": [
        {
          "output_type": "stream",
          "name": "stdout",
          "text": [
            "Epoch 1/50\n"
          ]
        },
        {
          "output_type": "stream",
          "name": "stderr",
          "text": [
            "/usr/local/lib/python3.10/dist-packages/keras/src/saving/saving_lib.py:576: UserWarning: Skipping variable loading for optimizer 'adam', because it has 2 variables whereas the saved optimizer has 12 variables. \n",
            "  saveable.load_own_variables(weights_store.get(inner_path))\n"
          ]
        },
        {
          "output_type": "stream",
          "name": "stdout",
          "text": [
            "\u001b[1m4/4\u001b[0m \u001b[32m━━━━━━━━━━━━━━━━━━━━\u001b[0m\u001b[37m\u001b[0m \u001b[1m3s\u001b[0m 124ms/step - loss: 0.0293 - root_mean_squared_error: 0.1697 - val_loss: 0.0155 - val_root_mean_squared_error: 0.1245\n",
            "Epoch 2/50\n",
            "\u001b[1m4/4\u001b[0m \u001b[32m━━━━━━━━━━━━━━━━━━━━\u001b[0m\u001b[37m\u001b[0m \u001b[1m0s\u001b[0m 29ms/step - loss: 0.0288 - root_mean_squared_error: 0.1697 - val_loss: 0.0172 - val_root_mean_squared_error: 0.1311\n",
            "Epoch 3/50\n",
            "\u001b[1m4/4\u001b[0m \u001b[32m━━━━━━━━━━━━━━━━━━━━\u001b[0m\u001b[37m\u001b[0m \u001b[1m0s\u001b[0m 25ms/step - loss: 0.0195 - root_mean_squared_error: 0.1397 - val_loss: 0.0203 - val_root_mean_squared_error: 0.1424\n",
            "Epoch 4/50\n",
            "\u001b[1m4/4\u001b[0m \u001b[32m━━━━━━━━━━━━━━━━━━━━\u001b[0m\u001b[37m\u001b[0m \u001b[1m0s\u001b[0m 23ms/step - loss: 0.0174 - root_mean_squared_error: 0.1317 - val_loss: 0.0157 - val_root_mean_squared_error: 0.1254\n",
            "Epoch 5/50\n",
            "\u001b[1m4/4\u001b[0m \u001b[32m━━━━━━━━━━━━━━━━━━━━\u001b[0m\u001b[37m\u001b[0m \u001b[1m0s\u001b[0m 24ms/step - loss: 0.0177 - root_mean_squared_error: 0.1322 - val_loss: 0.0165 - val_root_mean_squared_error: 0.1286\n",
            "Epoch 6/50\n",
            "\u001b[1m4/4\u001b[0m \u001b[32m━━━━━━━━━━━━━━━━━━━━\u001b[0m\u001b[37m\u001b[0m \u001b[1m0s\u001b[0m 25ms/step - loss: 0.0141 - root_mean_squared_error: 0.1187 - val_loss: 0.0154 - val_root_mean_squared_error: 0.1243\n",
            "Epoch 7/50\n",
            "\u001b[1m4/4\u001b[0m \u001b[32m━━━━━━━━━━━━━━━━━━━━\u001b[0m\u001b[37m\u001b[0m \u001b[1m0s\u001b[0m 26ms/step - loss: 0.0126 - root_mean_squared_error: 0.1122 - val_loss: 0.0145 - val_root_mean_squared_error: 0.1202\n",
            "Epoch 8/50\n",
            "\u001b[1m4/4\u001b[0m \u001b[32m━━━━━━━━━━━━━━━━━━━━\u001b[0m\u001b[37m\u001b[0m \u001b[1m0s\u001b[0m 42ms/step - loss: 0.0107 - root_mean_squared_error: 0.1031 - val_loss: 0.0142 - val_root_mean_squared_error: 0.1191\n",
            "Epoch 9/50\n",
            "\u001b[1m4/4\u001b[0m \u001b[32m━━━━━━━━━━━━━━━━━━━━\u001b[0m\u001b[37m\u001b[0m \u001b[1m0s\u001b[0m 24ms/step - loss: 0.0126 - root_mean_squared_error: 0.1120 - val_loss: 0.0130 - val_root_mean_squared_error: 0.1141\n",
            "Epoch 10/50\n",
            "\u001b[1m4/4\u001b[0m \u001b[32m━━━━━━━━━━━━━━━━━━━━\u001b[0m\u001b[37m\u001b[0m \u001b[1m0s\u001b[0m 24ms/step - loss: 0.0107 - root_mean_squared_error: 0.1034 - val_loss: 0.0126 - val_root_mean_squared_error: 0.1121\n",
            "Epoch 11/50\n",
            "\u001b[1m4/4\u001b[0m \u001b[32m━━━━━━━━━━━━━━━━━━━━\u001b[0m\u001b[37m\u001b[0m \u001b[1m0s\u001b[0m 24ms/step - loss: 0.0098 - root_mean_squared_error: 0.0987 - val_loss: 0.0117 - val_root_mean_squared_error: 0.1084\n",
            "Epoch 12/50\n",
            "\u001b[1m4/4\u001b[0m \u001b[32m━━━━━━━━━━━━━━━━━━━━\u001b[0m\u001b[37m\u001b[0m \u001b[1m0s\u001b[0m 25ms/step - loss: 0.0109 - root_mean_squared_error: 0.1043 - val_loss: 0.0130 - val_root_mean_squared_error: 0.1140\n",
            "Epoch 13/50\n",
            "\u001b[1m4/4\u001b[0m \u001b[32m━━━━━━━━━━━━━━━━━━━━\u001b[0m\u001b[37m\u001b[0m \u001b[1m0s\u001b[0m 25ms/step - loss: 0.0110 - root_mean_squared_error: 0.1047 - val_loss: 0.0111 - val_root_mean_squared_error: 0.1054\n",
            "Epoch 14/50\n",
            "\u001b[1m4/4\u001b[0m \u001b[32m━━━━━━━━━━━━━━━━━━━━\u001b[0m\u001b[37m\u001b[0m \u001b[1m0s\u001b[0m 30ms/step - loss: 0.0105 - root_mean_squared_error: 0.1026 - val_loss: 0.0136 - val_root_mean_squared_error: 0.1166\n",
            "Epoch 15/50\n",
            "\u001b[1m4/4\u001b[0m \u001b[32m━━━━━━━━━━━━━━━━━━━━\u001b[0m\u001b[37m\u001b[0m \u001b[1m0s\u001b[0m 36ms/step - loss: 0.0108 - root_mean_squared_error: 0.1040 - val_loss: 0.0111 - val_root_mean_squared_error: 0.1051\n",
            "Epoch 16/50\n",
            "\u001b[1m4/4\u001b[0m \u001b[32m━━━━━━━━━━━━━━━━━━━━\u001b[0m\u001b[37m\u001b[0m \u001b[1m0s\u001b[0m 28ms/step - loss: 0.0100 - root_mean_squared_error: 0.1000 - val_loss: 0.0112 - val_root_mean_squared_error: 0.1057\n",
            "Epoch 17/50\n",
            "\u001b[1m4/4\u001b[0m \u001b[32m━━━━━━━━━━━━━━━━━━━━\u001b[0m\u001b[37m\u001b[0m \u001b[1m0s\u001b[0m 29ms/step - loss: 0.0095 - root_mean_squared_error: 0.0972 - val_loss: 0.0108 - val_root_mean_squared_error: 0.1040\n",
            "Epoch 18/50\n",
            "\u001b[1m4/4\u001b[0m \u001b[32m━━━━━━━━━━━━━━━━━━━━\u001b[0m\u001b[37m\u001b[0m \u001b[1m0s\u001b[0m 29ms/step - loss: 0.0092 - root_mean_squared_error: 0.0957 - val_loss: 0.0107 - val_root_mean_squared_error: 0.1035\n",
            "Epoch 19/50\n",
            "\u001b[1m4/4\u001b[0m \u001b[32m━━━━━━━━━━━━━━━━━━━━\u001b[0m\u001b[37m\u001b[0m \u001b[1m0s\u001b[0m 38ms/step - loss: 0.0093 - root_mean_squared_error: 0.0966 - val_loss: 0.0105 - val_root_mean_squared_error: 0.1026\n",
            "Epoch 20/50\n",
            "\u001b[1m4/4\u001b[0m \u001b[32m━━━━━━━━━━━━━━━━━━━━\u001b[0m\u001b[37m\u001b[0m \u001b[1m0s\u001b[0m 47ms/step - loss: 0.0106 - root_mean_squared_error: 0.1027 - val_loss: 0.0100 - val_root_mean_squared_error: 0.1002\n",
            "Epoch 21/50\n",
            "\u001b[1m4/4\u001b[0m \u001b[32m━━━━━━━━━━━━━━━━━━━━\u001b[0m\u001b[37m\u001b[0m \u001b[1m0s\u001b[0m 31ms/step - loss: 0.0099 - root_mean_squared_error: 0.0991 - val_loss: 0.0100 - val_root_mean_squared_error: 0.1002\n",
            "Epoch 22/50\n",
            "\u001b[1m4/4\u001b[0m \u001b[32m━━━━━━━━━━━━━━━━━━━━\u001b[0m\u001b[37m\u001b[0m \u001b[1m0s\u001b[0m 24ms/step - loss: 0.0082 - root_mean_squared_error: 0.0906 - val_loss: 0.0107 - val_root_mean_squared_error: 0.1036\n",
            "Epoch 23/50\n",
            "\u001b[1m4/4\u001b[0m \u001b[32m━━━━━━━━━━━━━━━━━━━━\u001b[0m\u001b[37m\u001b[0m \u001b[1m0s\u001b[0m 26ms/step - loss: 0.0091 - root_mean_squared_error: 0.0955 - val_loss: 0.0096 - val_root_mean_squared_error: 0.0979\n",
            "Epoch 24/50\n",
            "\u001b[1m4/4\u001b[0m \u001b[32m━━━━━━━━━━━━━━━━━━━━\u001b[0m\u001b[37m\u001b[0m \u001b[1m0s\u001b[0m 25ms/step - loss: 0.0084 - root_mean_squared_error: 0.0915 - val_loss: 0.0098 - val_root_mean_squared_error: 0.0989\n",
            "Epoch 25/50\n",
            "\u001b[1m4/4\u001b[0m \u001b[32m━━━━━━━━━━━━━━━━━━━━\u001b[0m\u001b[37m\u001b[0m \u001b[1m0s\u001b[0m 25ms/step - loss: 0.0091 - root_mean_squared_error: 0.0952 - val_loss: 0.0096 - val_root_mean_squared_error: 0.0979\n",
            "Epoch 26/50\n",
            "\u001b[1m4/4\u001b[0m \u001b[32m━━━━━━━━━━━━━━━━━━━━\u001b[0m\u001b[37m\u001b[0m \u001b[1m0s\u001b[0m 30ms/step - loss: 0.0092 - root_mean_squared_error: 0.0958 - val_loss: 0.0095 - val_root_mean_squared_error: 0.0977\n",
            "Epoch 27/50\n",
            "\u001b[1m4/4\u001b[0m \u001b[32m━━━━━━━━━━━━━━━━━━━━\u001b[0m\u001b[37m\u001b[0m \u001b[1m0s\u001b[0m 34ms/step - loss: 0.0086 - root_mean_squared_error: 0.0928 - val_loss: 0.0095 - val_root_mean_squared_error: 0.0976\n",
            "Epoch 28/50\n",
            "\u001b[1m4/4\u001b[0m \u001b[32m━━━━━━━━━━━━━━━━━━━━\u001b[0m\u001b[37m\u001b[0m \u001b[1m0s\u001b[0m 31ms/step - loss: 0.0085 - root_mean_squared_error: 0.0922 - val_loss: 0.0096 - val_root_mean_squared_error: 0.0981\n",
            "Epoch 29/50\n",
            "\u001b[1m4/4\u001b[0m \u001b[32m━━━━━━━━━━━━━━━━━━━━\u001b[0m\u001b[37m\u001b[0m \u001b[1m0s\u001b[0m 33ms/step - loss: 0.0084 - root_mean_squared_error: 0.0913 - val_loss: 0.0090 - val_root_mean_squared_error: 0.0949\n",
            "Epoch 30/50\n",
            "\u001b[1m4/4\u001b[0m \u001b[32m━━━━━━━━━━━━━━━━━━━━\u001b[0m\u001b[37m\u001b[0m \u001b[1m0s\u001b[0m 29ms/step - loss: 0.0099 - root_mean_squared_error: 0.0993 - val_loss: 0.0093 - val_root_mean_squared_error: 0.0964\n",
            "Epoch 31/50\n",
            "\u001b[1m4/4\u001b[0m \u001b[32m━━━━━━━━━━━━━━━━━━━━\u001b[0m\u001b[37m\u001b[0m \u001b[1m0s\u001b[0m 39ms/step - loss: 0.0094 - root_mean_squared_error: 0.0968 - val_loss: 0.0092 - val_root_mean_squared_error: 0.0959\n",
            "Epoch 32/50\n",
            "\u001b[1m4/4\u001b[0m \u001b[32m━━━━━━━━━━━━━━━━━━━━\u001b[0m\u001b[37m\u001b[0m \u001b[1m0s\u001b[0m 36ms/step - loss: 0.0083 - root_mean_squared_error: 0.0910 - val_loss: 0.0098 - val_root_mean_squared_error: 0.0992\n",
            "Epoch 33/50\n",
            "\u001b[1m4/4\u001b[0m \u001b[32m━━━━━━━━━━━━━━━━━━━━\u001b[0m\u001b[37m\u001b[0m \u001b[1m0s\u001b[0m 32ms/step - loss: 0.0087 - root_mean_squared_error: 0.0933 - val_loss: 0.0095 - val_root_mean_squared_error: 0.0977\n",
            "Epoch 34/50\n",
            "\u001b[1m4/4\u001b[0m \u001b[32m━━━━━━━━━━━━━━━━━━━━\u001b[0m\u001b[37m\u001b[0m \u001b[1m0s\u001b[0m 33ms/step - loss: 0.0086 - root_mean_squared_error: 0.0924 - val_loss: 0.0093 - val_root_mean_squared_error: 0.0963\n"
          ]
        },
        {
          "output_type": "execute_result",
          "data": {
            "text/plain": [
              "<keras.src.callbacks.history.History at 0x7ef1abc865c0>"
            ]
          },
          "metadata": {},
          "execution_count": 148
        }
      ]
    },
    {
      "cell_type": "code",
      "source": [
        "def forecast(model, input_sequence, n_steps_out):\n",
        "    input_sequence = input_sequence.reshape((1, n_steps_in, 1))\n",
        "    predictions = model.predict(input_sequence)\n",
        "    return predictions[0]"
      ],
      "metadata": {
        "id": "m629X-fP1L6m"
      },
      "execution_count": 149,
      "outputs": []
    },
    {
      "cell_type": "code",
      "source": [
        "input_sequence = lst_ndvi[-n_steps_in:]\n",
        "predictions = forecast(best_model, input_sequence, n_steps_out)\n",
        "predictions = scaler.inverse_transform(predictions.reshape(-1, 1))\n",
        "\n",
        "print(\"Predictions for the next 6 steps:\", predictions.flatten())"
      ],
      "metadata": {
        "id": "2I0YcYkp1N1h",
        "outputId": "ffb0789a-794a-4829-c99f-606ee83e0996",
        "colab": {
          "base_uri": "https://localhost:8080/"
        }
      },
      "execution_count": 150,
      "outputs": [
        {
          "output_type": "stream",
          "name": "stdout",
          "text": [
            "\u001b[1m1/1\u001b[0m \u001b[32m━━━━━━━━━━━━━━━━━━━━\u001b[0m\u001b[37m\u001b[0m \u001b[1m0s\u001b[0m 276ms/step\n",
            "Predictions for the next 6 steps: [0.04911879]\n"
          ]
        }
      ]
    },
    {
      "cell_type": "code",
      "source": [
        "print(root_mean_squared_error(y.flatten(), best_model.predict(X).flatten()))"
      ],
      "metadata": {
        "id": "aSrf692x2tPT",
        "outputId": "f5a9333f-cdeb-469d-bc79-86327ce9e0c2",
        "colab": {
          "base_uri": "https://localhost:8080/"
        }
      },
      "execution_count": 151,
      "outputs": [
        {
          "output_type": "stream",
          "name": "stdout",
          "text": [
            "\u001b[1m4/4\u001b[0m \u001b[32m━━━━━━━━━━━━━━━━━━━━\u001b[0m\u001b[37m\u001b[0m \u001b[1m0s\u001b[0m 7ms/step  \n",
            "0.09247472722595848\n"
          ]
        }
      ]
    },
    {
      "cell_type": "code",
      "source": [
        "plt.figure(figsize=(10,3))\n",
        "plt.plot(range(len(lst_ndvi),len(lst_ndvi)+len(predictions)), predictions, label = 'Predicted', c = 'orange')\n",
        "plt.plot(lst_ndvi, label = 'Predicted', c = 'green')\n",
        "plt.show()"
      ],
      "metadata": {
        "id": "sIsrjUxM2OaY",
        "outputId": "b931d2fb-b25a-4a6c-9501-823fa0097670",
        "colab": {
          "base_uri": "https://localhost:8080/",
          "height": 291
        }
      },
      "execution_count": 152,
      "outputs": [
        {
          "output_type": "display_data",
          "data": {
            "text/plain": [
              "<Figure size 1000x300 with 1 Axes>"
            ],
            "image/png": "[encoded data removed]"
          },
          "metadata": {}
        }
      ]
    },
    {
      "cell_type": "code",
      "source": [
        "Total_pred = best_model.predict(X)\n",
        "plt.figure(figsize=(10,3))\n",
        "plt.plot(range(len(lst_ndvi)-len(Total_pred)-1,len(lst_ndvi)-1),Total_pred, label = 'Predicted', c = 'orange')\n",
        "plt.plot(lst_ndvi, label = 'Predicted', c = 'green')\n",
        "#plt.plot(np.concatenate((lst_ndvi,predictions)), label = 'Predicted', c = 'green')\n",
        "plt.show()"
      ],
      "metadata": {
        "id": "w4yAqWXS2dRH",
        "outputId": "32f39cbd-ce67-43e1-a1d6-bb1d9fefe53c",
        "colab": {
          "base_uri": "https://localhost:8080/",
          "height": 308
        }
      },
      "execution_count": 153,
      "outputs": [
        {
          "output_type": "stream",
          "name": "stdout",
          "text": [
            "\u001b[1m4/4\u001b[0m \u001b[32m━━━━━━━━━━━━━━━━━━━━\u001b[0m\u001b[37m\u001b[0m \u001b[1m0s\u001b[0m 7ms/step \n"
          ]
        },
        {
          "output_type": "display_data",
          "data": {
            "text/plain": [
              "<Figure size 1000x300 with 1 Axes>"
            ],
            "image/png": "[encoded data removed]"
          },
          "metadata": {}
        }
      ]
    }
  ],
  "metadata": {
    "kernelspec": {
      "display_name": "general",
      "language": "python",
      "name": "python3"
    },
    "language_info": {
      "name": "python",
      "version": "3.11.7"
    },
    "colab": {
      "provenance": []
    }
  },
  "nbformat": 4,
  "nbformat_minor": 0
}
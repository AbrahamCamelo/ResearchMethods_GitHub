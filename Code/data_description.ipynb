{
 "cells": [
  {
   "cell_type": "markdown",
   "metadata": {},
   "source": [
    "# Descriptive statistics and EDA"
   ]
  },
  {
   "cell_type": "code",
   "execution_count": 13,
   "metadata": {},
   "outputs": [],
   "source": [
    "import pandas as pd\n",
    "import matplotlib.pyplot as plt\n",
    "import os\n",
    "import math\n",
    "import scipy\n",
    "import numpy as np"
   ]
  },
  {
   "cell_type": "code",
   "execution_count": 14,
   "metadata": {},
   "outputs": [
    {
     "data": {
      "text/html": [
       "<style type=\"text/css\">\n",
       "</style>\n",
       "<table id=\"T_88504\">\n",
       "  <thead>\n",
       "    <tr>\n",
       "      <th class=\"blank level0\" >&nbsp;</th>\n",
       "      <th id=\"T_88504_level0_col0\" class=\"col_heading level0 col0\" >system:index</th>\n",
       "      <th id=\"T_88504_level0_col1\" class=\"col_heading level0 col1\" >NDVI</th>\n",
       "      <th id=\"T_88504_level0_col2\" class=\"col_heading level0 col2\" >longitude</th>\n",
       "      <th id=\"T_88504_level0_col3\" class=\"col_heading level0 col3\" >latitud</th>\n",
       "      <th id=\"T_88504_level0_col4\" class=\"col_heading level0 col4\" >QA_general</th>\n",
       "      <th id=\"T_88504_level0_col5\" class=\"col_heading level0 col5\" >QA_usefulness</th>\n",
       "      <th id=\"T_88504_level0_col6\" class=\"col_heading level0 col6\" >QA_aerosol</th>\n",
       "      <th id=\"T_88504_level0_col7\" class=\"col_heading level0 col7\" >QA_adjacent_cloud</th>\n",
       "      <th id=\"T_88504_level0_col8\" class=\"col_heading level0 col8\" >QA_water</th>\n",
       "      <th id=\"T_88504_level0_col9\" class=\"col_heading level0 col9\" >date</th>\n",
       "    </tr>\n",
       "  </thead>\n",
       "  <tbody>\n",
       "    <tr>\n",
       "      <th id=\"T_88504_level0_row0\" class=\"row_heading level0 row0\" >0</th>\n",
       "      <td id=\"T_88504_row0_col0\" class=\"data row0 col0\" >0</td>\n",
       "      <td id=\"T_88504_row0_col1\" class=\"data row0 col1\" >0.465100</td>\n",
       "      <td id=\"T_88504_row0_col2\" class=\"data row0 col2\" >-36.535336</td>\n",
       "      <td id=\"T_88504_row0_col3\" class=\"data row0 col3\" >-6.842893</td>\n",
       "      <td id=\"T_88504_row0_col4\" class=\"data row0 col4\" >goodQA</td>\n",
       "      <td id=\"T_88504_row0_col5\" class=\"data row0 col5\" >highest</td>\n",
       "      <td id=\"T_88504_row0_col6\" class=\"data row0 col6\" >low</td>\n",
       "      <td id=\"T_88504_row0_col7\" class=\"data row0 col7\" >no</td>\n",
       "      <td id=\"T_88504_row0_col8\" class=\"data row0 col8\" >land</td>\n",
       "      <td id=\"T_88504_row0_col9\" class=\"data row0 col9\" >2010-01-01 00:00:00</td>\n",
       "    </tr>\n",
       "    <tr>\n",
       "      <th id=\"T_88504_level0_row1\" class=\"row_heading level0 row1\" >1</th>\n",
       "      <td id=\"T_88504_row1_col0\" class=\"data row1 col0\" >1</td>\n",
       "      <td id=\"T_88504_row1_col1\" class=\"data row1 col1\" >0.467900</td>\n",
       "      <td id=\"T_88504_row1_col2\" class=\"data row1 col2\" >-36.526278</td>\n",
       "      <td id=\"T_88504_row1_col3\" class=\"data row1 col3\" >-6.842893</td>\n",
       "      <td id=\"T_88504_row1_col4\" class=\"data row1 col4\" >goodQA</td>\n",
       "      <td id=\"T_88504_row1_col5\" class=\"data row1 col5\" >highest</td>\n",
       "      <td id=\"T_88504_row1_col6\" class=\"data row1 col6\" >low</td>\n",
       "      <td id=\"T_88504_row1_col7\" class=\"data row1 col7\" >no</td>\n",
       "      <td id=\"T_88504_row1_col8\" class=\"data row1 col8\" >land</td>\n",
       "      <td id=\"T_88504_row1_col9\" class=\"data row1 col9\" >2010-01-01 00:00:00</td>\n",
       "    </tr>\n",
       "    <tr>\n",
       "      <th id=\"T_88504_level0_row2\" class=\"row_heading level0 row2\" >2</th>\n",
       "      <td id=\"T_88504_row2_col0\" class=\"data row2 col0\" >2</td>\n",
       "      <td id=\"T_88504_row2_col1\" class=\"data row2 col1\" >0.510400</td>\n",
       "      <td id=\"T_88504_row2_col2\" class=\"data row2 col2\" >-36.490047</td>\n",
       "      <td id=\"T_88504_row2_col3\" class=\"data row2 col3\" >-6.842893</td>\n",
       "      <td id=\"T_88504_row2_col4\" class=\"data row2 col4\" >goodQA</td>\n",
       "      <td id=\"T_88504_row2_col5\" class=\"data row2 col5\" >lower</td>\n",
       "      <td id=\"T_88504_row2_col6\" class=\"data row2 col6\" >low</td>\n",
       "      <td id=\"T_88504_row2_col7\" class=\"data row2 col7\" >no</td>\n",
       "      <td id=\"T_88504_row2_col8\" class=\"data row2 col8\" >land</td>\n",
       "      <td id=\"T_88504_row2_col9\" class=\"data row2 col9\" >2010-01-01 00:00:00</td>\n",
       "    </tr>\n",
       "    <tr>\n",
       "      <th id=\"T_88504_level0_row3\" class=\"row_heading level0 row3\" >3</th>\n",
       "      <td id=\"T_88504_row3_col0\" class=\"data row3 col0\" >3</td>\n",
       "      <td id=\"T_88504_row3_col1\" class=\"data row3 col1\" >0.460000</td>\n",
       "      <td id=\"T_88504_row3_col2\" class=\"data row3 col2\" >-36.526966</td>\n",
       "      <td id=\"T_88504_row3_col3\" class=\"data row3 col3\" >-6.851886</td>\n",
       "      <td id=\"T_88504_row3_col4\" class=\"data row3 col4\" >goodQA</td>\n",
       "      <td id=\"T_88504_row3_col5\" class=\"data row3 col5\" >highest</td>\n",
       "      <td id=\"T_88504_row3_col6\" class=\"data row3 col6\" >low</td>\n",
       "      <td id=\"T_88504_row3_col7\" class=\"data row3 col7\" >no</td>\n",
       "      <td id=\"T_88504_row3_col8\" class=\"data row3 col8\" >land</td>\n",
       "      <td id=\"T_88504_row3_col9\" class=\"data row3 col9\" >2010-01-01 00:00:00</td>\n",
       "    </tr>\n",
       "    <tr>\n",
       "      <th id=\"T_88504_level0_row4\" class=\"row_heading level0 row4\" >4</th>\n",
       "      <td id=\"T_88504_row4_col0\" class=\"data row4 col0\" >4</td>\n",
       "      <td id=\"T_88504_row4_col1\" class=\"data row4 col1\" >0.442200</td>\n",
       "      <td id=\"T_88504_row4_col2\" class=\"data row4 col2\" >-36.517909</td>\n",
       "      <td id=\"T_88504_row4_col3\" class=\"data row4 col3\" >-6.851886</td>\n",
       "      <td id=\"T_88504_row4_col4\" class=\"data row4 col4\" >goodQA</td>\n",
       "      <td id=\"T_88504_row4_col5\" class=\"data row4 col5\" >highest</td>\n",
       "      <td id=\"T_88504_row4_col6\" class=\"data row4 col6\" >low</td>\n",
       "      <td id=\"T_88504_row4_col7\" class=\"data row4 col7\" >no</td>\n",
       "      <td id=\"T_88504_row4_col8\" class=\"data row4 col8\" >land</td>\n",
       "      <td id=\"T_88504_row4_col9\" class=\"data row4 col9\" >2010-01-01 00:00:00</td>\n",
       "    </tr>\n",
       "  </tbody>\n",
       "</table>\n"
      ],
      "text/plain": [
       "<pandas.io.formats.style.Styler at 0x21d490a3410>"
      ]
     },
     "execution_count": 14,
     "metadata": {},
     "output_type": "execute_result"
    }
   ],
   "source": [
    "df_all_data = pd.DataFrame()\n",
    "for file in os.listdir('../ndvi_data/new_columns_data/'):\n",
    "    df_modified = pd.read_csv('../ndvi_data/new_columns_data/'+file)\n",
    "    df_modified['date'] = pd.to_datetime(file[:-4], format= \"%Y-%m-%d\")\n",
    "    df_all_data = pd.concat([df_all_data,df_modified], ignore_index=True)\n",
    "df_all_data.head().style"
   ]
  },
  {
   "cell_type": "code",
   "execution_count": 16,
   "metadata": {},
   "outputs": [
    {
     "data": {
      "text/plain": [
       "system:index                  int64\n",
       "NDVI                        float64\n",
       "longitude                   float64\n",
       "latitud                     float64\n",
       "QA_general                   object\n",
       "QA_usefulness                object\n",
       "QA_aerosol                   object\n",
       "QA_adjacent_cloud            object\n",
       "QA_water                     object\n",
       "date                 datetime64[ns]\n",
       "dtype: object"
      ]
     },
     "execution_count": 16,
     "metadata": {},
     "output_type": "execute_result"
    }
   ],
   "source": [
    "df_all_data.dtypes"
   ]
  },
  {
   "cell_type": "markdown",
   "metadata": {},
   "source": [
    "## Univariate"
   ]
  },
  {
   "cell_type": "markdown",
   "metadata": {},
   "source": [
    "### NDVI"
   ]
  },
  {
   "cell_type": "markdown",
   "metadata": {},
   "source": [
    "Distribution of the data:\n",
    "\n",
    "- Positively skewed distribution. Hence median should be used for describe the data.\n",
    "- Considering Q3 at least than 75% of the data seems to represent areas with sparse vegetation. \n",
    "\n",
    "\n",
    "According to the USGA (https://www.usgs.gov/special-topics/remote-sensing-phenology/science/ndvi-foundation-remote-sensing-phenology#overview):\n",
    "      NDVI < 0.1 - barren rock, sand, or snow.\n",
    "0.2 < NDVI > 0.5 - sparse vegetation\n",
    "0.6 < NDVI > 0.9 - dense vegetation "
   ]
  },
  {
   "cell_type": "code",
   "execution_count": 17,
   "metadata": {},
   "outputs": [
    {
     "data": {
      "image/png": "[encoded data removed]",
      "text/plain": [
       "<Figure size 1000x300 with 1 Axes>"
      ]
     },
     "metadata": {},
     "output_type": "display_data"
    }
   ],
   "source": [
    "plt.figure(figsize=(10,3), facecolor='black')\n",
    "ax = plt.axes()\n",
    "ax.set_facecolor('black')\n",
    "\n",
    "plt.hist(df_all_data.NDVI, bins = 50, color = 'green', edgecolor='darkgreen')\n",
    "\n",
    "plt.title('NDVI Histogram (31428 values)',color='white')\n",
    "plt.xlabel('NDVI values', color='white')\n",
    "plt.ylabel('count', color= 'white')\n",
    "\n",
    "ax.tick_params(colors= 'white')\n",
    "ax.spines['bottom'].set_color('grey')\n",
    "ax.spines['left'].set_color('grey')\n",
    "\n",
    "ax.vlines(x= df_all_data.NDVI.describe()['mean'],color='grey',ymax=2000, ymin=0, label='mean')\n",
    "ax.text(x= df_all_data.NDVI.describe()['mean'], y= 2000, s='mean', color='lightgrey', ha ='right', va = 'top', rotation='vertical')\n",
    "\n",
    "ax.vlines(x= df_all_data.NDVI.median(), color='grey',ymax=2000, ymin=0, label='mean')\n",
    "ax.text(x= df_all_data.NDVI.median(), y= 2000, s='median', color='lightgrey', ha ='right', va = 'top', rotation='vertical')\n",
    "\n",
    "ax.vlines(x= df_all_data.NDVI.describe()['25%'],color='grey',ymax=2000, ymin=0, label='mean', ls='--')\n",
    "ax.text(x= df_all_data.NDVI.describe()['25%'], y= 2000, s='Q1', color='lightgrey', ha ='right', va = 'top', rotation='vertical')\n",
    "\n",
    "ax.vlines(x = df_all_data.NDVI.describe()['75%'],color='grey',ymax=2000, ymin=0, label='mean',ls='--')\n",
    "ax.text(x= df_all_data.NDVI.describe()['75%'], y= 2000, s='Q3', color='lightgrey', ha ='right', va = 'top', rotation='vertical')\n",
    "\n",
    "plt.show()"
   ]
  },
  {
   "cell_type": "markdown",
   "metadata": {},
   "source": [
    "Stats"
   ]
  },
  {
   "cell_type": "code",
   "execution_count": 18,
   "metadata": {},
   "outputs": [
    {
     "name": "stdout",
     "output_type": "stream",
     "text": [
      "count    31428.000000\n",
      "mean         0.397059\n",
      "std          0.140065\n",
      "min          0.072300\n",
      "25%          0.283000\n",
      "50%          0.361800\n",
      "75%          0.490625\n",
      "max          0.887500\n",
      "Name: NDVI, dtype: float64\n",
      "median 0.3618\n"
     ]
    }
   ],
   "source": [
    "print(df_all_data.NDVI.describe())\n",
    "print('median', df_all_data.NDVI.median())"
   ]
  },
  {
   "cell_type": "markdown",
   "metadata": {},
   "source": [
    "### Date"
   ]
  },
  {
   "cell_type": "markdown",
   "metadata": {},
   "source": [
    "From 2011, there has been correcitons of the dates of the data regarding the first day of the year.\n",
    "The data that has 14 days of gap is due the previous bussextile year.\n",
    "\n",
    "What happened with previous years?\n",
    "2010 is th only previous data we currently have."
   ]
  },
  {
   "cell_type": "code",
   "execution_count": 19,
   "metadata": {},
   "outputs": [
    {
     "name": "stdout",
     "output_type": "stream",
     "text": [
      "diff_days\n",
      "16 days    132\n",
      "13 days      4\n",
      "14 days      1\n",
      "Name: count, dtype: int64\n"
     ]
    }
   ],
   "source": [
    "df_date = df_all_data.copy()[['date']].drop_duplicates().reset_index(drop = True)\n",
    "df_date['diff_days'] = df_date.date.diff() \n",
    "\n",
    "print(df_date['diff_days'].value_counts())"
   ]
  },
  {
   "cell_type": "code",
   "execution_count": 20,
   "metadata": {},
   "outputs": [
    {
     "data": {
      "text/html": [
       "<style type=\"text/css\">\n",
       "</style>\n",
       "<table id=\"T_6d1da\">\n",
       "  <thead>\n",
       "    <tr>\n",
       "      <th class=\"blank level0\" >&nbsp;</th>\n",
       "      <th id=\"T_6d1da_level0_col0\" class=\"col_heading level0 col0\" >date</th>\n",
       "      <th id=\"T_6d1da_level0_col1\" class=\"col_heading level0 col1\" >diff_days</th>\n",
       "    </tr>\n",
       "  </thead>\n",
       "  <tbody>\n",
       "    <tr>\n",
       "      <th id=\"T_6d1da_level0_row0\" class=\"row_heading level0 row0\" >23</th>\n",
       "      <td id=\"T_6d1da_row0_col0\" class=\"data row0 col0\" >2011-01-01 00:00:00</td>\n",
       "      <td id=\"T_6d1da_row0_col1\" class=\"data row0 col1\" >13 days 00:00:00</td>\n",
       "    </tr>\n",
       "    <tr>\n",
       "      <th id=\"T_6d1da_level0_row1\" class=\"row_heading level0 row1\" >46</th>\n",
       "      <td id=\"T_6d1da_row1_col0\" class=\"data row1 col0\" >2012-01-01 00:00:00</td>\n",
       "      <td id=\"T_6d1da_row1_col1\" class=\"data row1 col1\" >13 days 00:00:00</td>\n",
       "    </tr>\n",
       "    <tr>\n",
       "      <th id=\"T_6d1da_level0_row2\" class=\"row_heading level0 row2\" >92</th>\n",
       "      <td id=\"T_6d1da_row2_col0\" class=\"data row2 col0\" >2014-01-01 00:00:00</td>\n",
       "      <td id=\"T_6d1da_row2_col1\" class=\"data row2 col1\" >13 days 00:00:00</td>\n",
       "    </tr>\n",
       "    <tr>\n",
       "      <th id=\"T_6d1da_level0_row3\" class=\"row_heading level0 row3\" >115</th>\n",
       "      <td id=\"T_6d1da_row3_col0\" class=\"data row3 col0\" >2015-01-01 00:00:00</td>\n",
       "      <td id=\"T_6d1da_row3_col1\" class=\"data row3 col1\" >13 days 00:00:00</td>\n",
       "    </tr>\n",
       "  </tbody>\n",
       "</table>\n"
      ],
      "text/plain": [
       "<pandas.io.formats.style.Styler at 0x21d46dff6d0>"
      ]
     },
     "execution_count": 20,
     "metadata": {},
     "output_type": "execute_result"
    }
   ],
   "source": [
    "df_date.loc[df_date['diff_days'] == pd.Timedelta('13 days'),:].style"
   ]
  },
  {
   "cell_type": "code",
   "execution_count": 21,
   "metadata": {},
   "outputs": [
    {
     "data": {
      "text/html": [
       "<style type=\"text/css\">\n",
       "</style>\n",
       "<table id=\"T_a649f\">\n",
       "  <thead>\n",
       "    <tr>\n",
       "      <th class=\"blank level0\" >&nbsp;</th>\n",
       "      <th id=\"T_a649f_level0_col0\" class=\"col_heading level0 col0\" >date</th>\n",
       "      <th id=\"T_a649f_level0_col1\" class=\"col_heading level0 col1\" >diff_days</th>\n",
       "    </tr>\n",
       "  </thead>\n",
       "  <tbody>\n",
       "    <tr>\n",
       "      <th id=\"T_a649f_level0_row0\" class=\"row_heading level0 row0\" >69</th>\n",
       "      <td id=\"T_a649f_row0_col0\" class=\"data row0 col0\" >2013-01-01 00:00:00</td>\n",
       "      <td id=\"T_a649f_row0_col1\" class=\"data row0 col1\" >14 days 00:00:00</td>\n",
       "    </tr>\n",
       "  </tbody>\n",
       "</table>\n"
      ],
      "text/plain": [
       "<pandas.io.formats.style.Styler at 0x21d49070190>"
      ]
     },
     "execution_count": 21,
     "metadata": {},
     "output_type": "execute_result"
    }
   ],
   "source": [
    "df_date.loc[df_date['diff_days'] == pd.Timedelta('14 days'),:].style"
   ]
  },
  {
   "cell_type": "markdown",
   "metadata": {},
   "source": [
    "#### Time series"
   ]
  },
  {
   "cell_type": "code",
   "execution_count": 22,
   "metadata": {},
   "outputs": [
    {
     "data": {
      "text/plain": [
       "{(-36.53536976649717, -6.843337985549752),\n",
       " (-36.53533571462549, -6.842892998725961),\n",
       " (-36.535301665021024, -6.842448011902168),\n",
       " (-36.527000535459294, -6.8523311914723495),\n",
       " (-36.52696644621816, -6.851886204648558),\n",
       " (-36.52693235924388, -6.851441217824767),\n",
       " (-36.52631203022179, -6.843337985549752),\n",
       " (-36.52627798679213, -6.842892998725961),\n",
       " (-36.52624394562914, -6.842448011902168),\n",
       " (-36.519322074546885, -6.870317603317545),\n",
       " (-36.51928790214605, -6.869872616493754),\n",
       " (-36.51925373201195, -6.8694276296699615),\n",
       " (-36.51863188862085, -6.861324397394947),\n",
       " (-36.5185977620287, -6.860879410571156),\n",
       " (-36.51856363770306, -6.860434423747364),\n",
       " (-36.51794262844948, -6.8523311914723495),\n",
       " (-36.51790854766173, -6.851886204648558),\n",
       " (-36.51787446914029, -6.851441217824767),\n",
       " (-36.51095476572329, -6.879310809240143),\n",
       " (-36.51092055599697, -6.878865822416351),\n",
       " (-36.51088634853703, -6.87842083559256),\n",
       " (-36.51026382537939, -6.870317603317545),\n",
       " (-36.510229661454666, -6.869872616493754),\n",
       " (-36.510195499796126, -6.8694276296699615),\n",
       " (-36.509573810647, -6.861324397394947),\n",
       " (-36.5095396925196, -6.860879410571156),\n",
       " (-36.50950557665816, -6.860434423747364),\n",
       " (-36.50888472143966, -6.8523311914723495),\n",
       " (-36.508850649105305, -6.851886204648558),\n",
       " (-36.5088165790367, -6.851441217824767),\n",
       " (-36.50328065946575, -6.8972972210853385),\n",
       " (-36.503246366633576, -6.896852234261547),\n",
       " (-36.50321207606763, -6.896407247437755),\n",
       " (-36.50258803952156, -6.88830401516274),\n",
       " (-36.50255379248819, -6.88785902833895),\n",
       " (-36.50251954772086, -6.887414041515157),\n",
       " (-36.501896345132494, -6.879310809240143),\n",
       " (-36.50186214389366, -6.878865822416351),\n",
       " (-36.50182794492064, -6.87842083559256),\n",
       " (-36.50120557621189, -6.870317603317545),\n",
       " (-36.50117142076329, -6.869872616493754),\n",
       " (-36.5011372675803, -6.8694276296699615),\n",
       " (-36.50051573267316, -6.861324397394947),\n",
       " (-36.50048162301052, -6.860879410571156),\n",
       " (-36.50044751561328, -6.860434423747364),\n",
       " (-36.49982681442984, -6.8523311914723495),\n",
       " (-36.499792750548885, -6.851886204648558),\n",
       " (-36.49975868893311, -6.851441217824767),\n",
       " (-36.49491526881312, -6.906290427007936),\n",
       " (-36.49488093869942, -6.9058454401841445),\n",
       " (-36.49484661085159, -6.905400453360353),\n",
       " (-36.49422189533933, -6.8972972210853385),\n",
       " (-36.49418761101737, -6.896852234261547),\n",
       " (-36.49415332896108, -6.896407247437755),\n",
       " (-36.49352944727779, -6.88830401516274),\n",
       " (-36.49349520874328, -6.88785902833895),\n",
       " (-36.49346097247423, -6.887414041515157),\n",
       " (-36.492837924541696, -6.879310809240143),\n",
       " (-36.492803731790346, -6.878865822416351),\n",
       " (-36.49276954130425, -6.87842083559256),\n",
       " (-36.49214732704439, -6.870317603317545),\n",
       " (-36.49211318007191, -6.869872616493754),\n",
       " (-36.49207903536448, -6.8694276296699615),\n",
       " (-36.4914576546993, -6.861324397394947),\n",
       " (-36.49142355350143, -6.860879410571156),\n",
       " (-36.49138945456837, -6.860434423747364),\n",
       " (-36.49076890742001, -6.8523311914723495),\n",
       " (-36.49073485199246, -6.851886204648558),\n",
       " (-36.49070079882952, -6.851441217824767),\n",
       " (-36.4900810851202, -6.843337985549752),\n",
       " (-36.4900470754587, -6.842892998725961),\n",
       " (-36.49001306806159, -6.842448011902168),\n",
       " (-36.487245511192526, -6.924276838853132),\n",
       " (-36.48721109802671, -6.92383185202934),\n",
       " (-36.487176687126656, -6.923386865205549),\n",
       " (-36.48655045920521, -6.915283632930533),\n",
       " (-36.48651609182839, -6.914838646106743),\n",
       " (-36.48648172671712, -6.914393659282951),\n",
       " (-36.48585633257435, -6.906290427007936),\n",
       " (-36.48582201098222, -6.9058454401841445),\n",
       " (-36.48578769165542, -6.905400453360353),\n",
       " (-36.48516313121292, -6.8972972210853385),\n",
       " (-36.48512885540117, -6.896852234261547),\n",
       " (-36.48509458185453, -6.896407247437755),\n",
       " (-36.484470855034026, -6.88830401516274),\n",
       " (-36.48443662499837, -6.88785902833895),\n",
       " (-36.484402397227605, -6.887414041515157),\n",
       " (-36.483779503950906, -6.879310809240143),\n",
       " (-36.48374531968704, -6.878865822416351),\n",
       " (-36.483711137687855, -6.87842083559256),\n",
       " (-36.4830890778769, -6.870317603317545),\n",
       " (-36.48305493938053, -6.869872616493754),\n",
       " (-36.48302080314866, -6.8694276296699615),\n",
       " (-36.48239957672546, -6.861324397394947),\n",
       " (-36.48236548399234, -6.860879410571156),\n",
       " (-36.48233139352348, -6.860434423747364),\n",
       " (-36.4817110004102, -6.8523311914723495),\n",
       " (-36.48167695343603, -6.851886204648558),\n",
       " (-36.48164290872593, -6.851441217824767),\n",
       " (-36.47950977448561, -6.941373277050745),\n",
       " (-36.47888203466907, -6.933270044775729),\n",
       " (-36.47884758426565, -6.932825057951938),\n",
       " (-36.47881313612761, -6.932380071128147),\n",
       " (-36.47818623003981, -6.924276838853132),\n",
       " (-36.47815182541832, -6.92383185202934),\n",
       " (-36.47811742306202, -6.923386865205549),\n",
       " (-36.47749135062436, -6.915283632930533),\n",
       " (-36.47745699178048, -6.914838646106743),\n",
       " (-36.47742263520159, -6.914393659282951),\n",
       " (-36.476797396335584, -6.906290427007936),\n",
       " (-36.47676308326503, -6.9058454401841445),\n",
       " (-36.47672877245924, -6.905400453360353),\n",
       " (-36.47610436708651, -6.8972972210853385),\n",
       " (-36.47607009978498, -6.896852234261547),\n",
       " (-36.47603583474799, -6.896407247437755),\n",
       " (-36.47541226279027, -6.88830401516274),\n",
       " (-36.47537804125346, -6.88785902833895),\n",
       " (-36.47534382198098, -6.887414041515157),\n",
       " (-36.47472108336011, -6.879310809240143),\n",
       " (-36.47468690758373, -6.878865822416351),\n",
       " (-36.47465273407147, -6.87842083559256),\n",
       " (-36.4740308287094, -6.870317603317545),\n",
       " (-36.47399669868916, -6.869872616493754),\n",
       " (-36.473962570932834, -6.8694276296699615),\n",
       " (-36.47334149875162, -6.861324397394947),\n",
       " (-36.47330741448325, -6.860879410571156),\n",
       " (-36.47327333247859, -6.860434423747364),\n",
       " (-36.47265309340038, -6.8523311914723495),\n",
       " (-36.47261905487961, -6.851886204648558),\n",
       " (-36.47258501862233, -6.851441217824767),\n",
       " (-36.4719150269745, -6.960249662543523),\n",
       " (-36.47188044778912, -6.959804675719732),\n",
       " (-36.47184587086922, -6.95935968889594),\n",
       " (-36.47121661967105, -6.951256456620926),\n",
       " (-36.4711820862692, -6.9508114697971335),\n",
       " (-36.47114755513263, -6.950366482973342),\n",
       " (-36.47051913761361, -6.942263250698327),\n",
       " (-36.47048464999097, -6.941818263874536),\n",
       " (-36.47045016463339, -6.941373277050745),\n",
       " (-36.469822580714734, -6.933270044775729),\n",
       " (-36.46978813886698, -6.932825057951938),\n",
       " (-36.46975369928408, -6.932380071128147),\n",
       " (-36.46912694888709, -6.924276838853132),\n",
       " (-36.469092552809904, -6.92383185202934),\n",
       " (-36.46905815899736, -6.923386865205549),\n",
       " (-36.46843224204348, -6.915283632930533),\n",
       " (-36.46839789173256, -6.914838646106743),\n",
       " (-36.468363543686046, -6.914393659282951),\n",
       " (-36.4677384600968, -6.906290427007936),\n",
       " (-36.46770415554783, -6.9058454401841445),\n",
       " (-36.467669853263054, -6.905400453360353),\n",
       " (-36.4670456029601, -6.8972972210853385),\n",
       " (-36.467011344168775, -6.896852234261547),\n",
       " (-36.46697708764144, -6.896407247437755),\n",
       " (-36.46635367054651, -6.88830401516274),\n",
       " (-36.46631945750855, -6.88785902833895),\n",
       " (-36.46628524673435, -6.887414041515157),\n",
       " (-36.46566266276931, -6.879310809240143),\n",
       " (-36.46562849548041, -6.878865822416351),\n",
       " (-36.46559433045507, -6.87842083559256),\n",
       " (-36.46497257954189, -6.870317603317545),\n",
       " (-36.46495530564668, -6.9872292803113165),\n",
       " (-36.464938457997775, -6.869872616493754),\n",
       " (-36.46492059770857, -6.986784293487525),\n",
       " (-36.46490433871701, -6.8694276296699615),\n",
       " (-36.46488589203602, -6.986339306663734),\n",
       " (-36.46428342077777, -6.861324397394947),\n",
       " (-36.464254296260016, -6.978236074388719),\n",
       " (-36.46424934497416, -6.860879410571156),\n",
       " (-36.46421963410709, -6.977791087564927),\n",
       " (-36.46421527143369, -6.860434423747364),\n",
       " (-36.46418497421952, -6.977346100741136),\n",
       " (-36.46359518639056, -6.8523311914723495),\n",
       " (-36.46356115632318, -6.851886204648558),\n",
       " (-36.46355421215253, -6.969242868466121),\n",
       " (-36.46352712851874, -6.851441217824767),\n",
       " (-36.46351959578045, -6.968797881642329),\n",
       " (-36.4634849816735, -6.968352894818538),\n",
       " (-36.46285505323643, -6.960249662543523),\n",
       " (-36.46282048264085, -6.959804675719732),\n",
       " (-36.46278591431019, -6.95935968889594),\n",
       " (-36.46215681942405, -6.951256456620926),\n",
       " (-36.46212229460063, -6.9508114697971335),\n",
       " (-36.46208777204193, -6.950366482973342),\n",
       " (-36.46145951062785, -6.942263250698327),\n",
       " (-36.46142503157228, -6.941818263874536),\n",
       " (-36.46139055478119, -6.941373277050745),\n",
       " (-36.4607631267604, -6.933270044775729),\n",
       " (-36.46072869346833, -6.932825057951938),\n",
       " (-36.46069426244055, -6.932380071128147),\n",
       " (-36.46006766773438, -6.924276838853132),\n",
       " (-36.46003328020152, -6.92383185202934),\n",
       " (-36.45999889493272, -6.923386865205549),\n",
       " (-36.45937313346261, -6.915283632930533),\n",
       " (-36.45933879168463, -6.914838646106743),\n",
       " (-36.459304452170514, -6.914393659282951),\n",
       " (-36.45867952385804, -6.906290427007936),\n",
       " (-36.45864522783064, -6.9058454401841445),\n",
       " (-36.45861093406688, -6.905400453360353),\n",
       " (-36.45798683883369, -6.8972972210853385),\n",
       " (-36.45795258855257, -6.896852234261547),\n",
       " (-36.457918340534896, -6.896407247437755),\n",
       " (-36.45729507830276, -6.88830401516274),\n",
       " (-36.45726087376363, -6.88785902833895),\n",
       " (-36.45722667148773, -6.887414041515157),\n",
       " (-36.45660424217852, -6.879310809240143),\n",
       " (-36.45659657039921, -6.996222486233915),\n",
       " (-36.4565700833771, -6.878865822416351),\n",
       " (-36.45656182530686, -6.9957774994101225),\n",
       " (-36.45653592683868, -6.87842083559256),\n",
       " (-36.45652708247974, -6.995332512586331),\n",
       " (-36.455914330374405, -6.870317603317545),\n",
       " (-36.45589481005612, -6.9872292803113165),\n",
       " (-36.4558802173064, -6.869872616493754),\n",
       " (-36.45586011074193, -6.986784293487525),\n",
       " (-36.45584610650119, -6.8694276296699615),\n",
       " (-36.45582541369276, -6.986339306663734),\n",
       " (-36.45522534280393, -6.861324397394947),\n",
       " (-36.45519397485018, -6.978236074388719),\n",
       " (-36.45519127546507, -6.860879410571156),\n",
       " (-36.45515932130981, -6.977791087564927),\n",
       " (-36.4551572103888, -6.860434423747364),\n",
       " (-36.45512467003423, -6.977346100741136),\n",
       " (-36.454537279380745, -6.8523311914723495),\n",
       " (-36.45450325776676, -6.851886204648558),\n",
       " (-36.45449406469352, -6.969242868466121),\n",
       " (-36.45446923841515, -6.851441217824767),\n",
       " (-36.45445945692261, -6.968797881642329),\n",
       " (-36.454424851416285, -6.968352894818538),\n",
       " (-36.45379507949836, -6.960249662543523),\n",
       " (-36.45376051749258, -6.959804675719732),\n",
       " (-36.45372595775116, -6.95935968889594),\n",
       " (-36.453097019177065, -6.951256456620926),\n",
       " (-36.45306250293207, -6.9508114697971335),\n",
       " (-36.453027988951234, -6.950366482973342),\n",
       " (-36.452399883642094, -6.942263250698327),\n",
       " (-36.45236541315357, -6.941818263874536),\n",
       " (-36.45233094492899, -6.941373277050745),\n",
       " (-36.45170367280606, -6.933270044775729),\n",
       " (-36.451669248069685, -6.932825057951938),\n",
       " (-36.45163482559703, -6.932380071128147),\n",
       " (-36.45100838658166, -6.924276838853132),\n",
       " (-36.45097400759312, -6.92383185202934),\n",
       " (-36.45093963086807, -6.923386865205549),\n",
       " (-36.45031402488174, -6.915283632930533),\n",
       " (-36.45027969163672, -6.914838646106743),\n",
       " (-36.450245360654975, -6.914393659282951),\n",
       " (-36.44962058761927, -6.906290427007936),\n",
       " (-36.449586300113445, -6.9058454401841445),\n",
       " (-36.44955201487071, -6.905400453360353),\n",
       " (-36.44892807470728, -6.8972972210853385),\n",
       " (-36.44889383293639, -6.896852234261547),\n",
       " (-36.448859593428345, -6.896407247437755),\n",
       " (-36.448236486059, -6.88830401516274),\n",
       " (-36.44820229001873, -6.88785902833895),\n",
       " (-36.44816809624111, -6.887414041515157),\n",
       " (-36.44754582158773, -6.879310809240143),\n",
       " (-36.44751167127379, -6.878865822416351),\n",
       " (-36.44747752322229, -6.87842083559256),\n",
       " (-36.4468560812069, -6.870317603317545),\n",
       " (-36.44683431446556, -6.9872292803113165),\n",
       " (-36.44682197661503, -6.869872616493754),\n",
       " (-36.4467996237753, -6.986784293487525),\n",
       " (-36.44678787428537, -6.8694276296699615),\n",
       " (-36.446764935349485, -6.986339306663734),\n",
       " (-36.44616726483008, -6.861324397394947),\n",
       " (-36.44613365344035, -6.978236074388719),\n",
       " (-36.44613320595598, -6.860879410571156),\n",
       " (-36.4460991493439, -6.860434423747364),\n",
       " (-36.446099008512526, -6.977791087564927),\n",
       " (-36.44606436584894, -6.977346100741136),\n",
       " (-36.445479372370926, -6.8523311914723495),\n",
       " (-36.44544535921034, -6.851886204648558),\n",
       " (-36.4454339172345, -6.969242868466121),\n",
       " (-36.445411348311566, -6.851441217824767),\n",
       " (-36.44539931806478, -6.968797881642329),\n",
       " (-36.44536472115906, -6.968352894818538),\n",
       " (-36.44473510576029, -6.960249662543523),\n",
       " (-36.44470055234431, -6.959804675719732),\n",
       " (-36.44466600119213, -6.95935968889594),\n",
       " (-36.444037218930056, -6.951256456620926),\n",
       " (-36.4440027112635, -6.9508114697971335),\n",
       " (-36.44396820586053, -6.950366482973342),\n",
       " (-36.443340256656334, -6.942263250698327),\n",
       " (-36.44330579473488, -6.941818263874536),\n",
       " (-36.44327133507678, -6.941373277050745),\n",
       " (-36.44264421885172, -6.933270044775729),\n",
       " (-36.44260980267103, -6.932825057951938),\n",
       " (-36.44257538875349, -6.932380071128147),\n",
       " (-36.44194910542895, -6.924276838853132),\n",
       " (-36.44191473498471, -6.92383185202934),\n",
       " (-36.441880366803424, -6.923386865205549),\n",
       " (-36.44125491630088, -6.915283632930533),\n",
       " (-36.44122059158879, -6.914838646106743),\n",
       " (-36.44118626913944, -6.914393659282951),\n",
       " (-36.44056165138049, -6.906290427007936),\n",
       " (-36.44052737239625, -6.9058454401841445),\n",
       " (-36.440493095674526, -6.905400453360353),\n",
       " (-36.43986931058087, -6.8972972210853385),\n",
       " (-36.43983507732018, -6.896852234261547),\n",
       " (-36.4398008463218, -6.896407247437755),\n",
       " (-36.439177893815234, -6.88830401516274),\n",
       " (-36.4391437062738, -6.88785902833895),\n",
       " (-36.439109520994464, -6.887414041515157),\n",
       " (-36.43848740099693, -6.879310809240143),\n",
       " (-36.43845325917047, -6.878865822416351),\n",
       " (-36.438419119605896, -6.87842083559256),\n",
       " (-36.4377978320394, -6.870317603317545),\n",
       " (-36.437773818875, -6.9872292803113165),\n",
       " (-36.43776373592364, -6.869872616493754),\n",
       " (-36.437739136808666, -6.986784293487525),\n",
       " (-36.43772964206955, -6.8694276296699615),\n",
       " (-36.43770445700622, -6.986339306663734),\n",
       " (-36.43710918685623, -6.861324397394947),\n",
       " (-36.437075136446886, -6.860879410571156),\n",
       " (-36.43707333203052, -6.978236074388719),\n",
       " (-36.437041088299, -6.860434423747364),\n",
       " (-36.437038695715245, -6.977791087564927),\n",
       " (-36.43700406166364, -6.977346100741136),\n",
       " (-36.4364214653611, -6.8523311914723495),\n",
       " (-36.43638746065391, -6.851886204648558),\n",
       " (-36.4363737697755, -6.969242868466121),\n",
       " (-36.43635345820797, -6.851441217824767),\n",
       " (-36.43633917920694, -6.968797881642329),\n",
       " (-36.43630459090184, -6.968352894818538),\n",
       " (-36.43567513202222, -6.960249662543523),\n",
       " (-36.43564058719604, -6.959804675719732),\n",
       " (-36.435606044633104, -6.95935968889594),\n",
       " (-36.43497741868307, -6.951256456620926),\n",
       " (-36.43494291959495, -6.9508114697971335),\n",
       " (-36.43490842276984, -6.950366482973342),\n",
       " (-36.43428062967058, -6.942263250698327),\n",
       " (-36.43424617631617, -6.941818263874536),\n",
       " (-36.43421172522457, -6.941373277050745),\n",
       " (-36.43358476489738, -6.933270044775729),\n",
       " (-36.43355035727238, -6.932825057951938),\n",
       " (-36.43351595190997, -6.932380071128147),\n",
       " (-36.43288982427624, -6.924276838853132),\n",
       " (-36.43285546237632, -6.92383185202934),\n",
       " (-36.43282110273879, -6.923386865205549),\n",
       " (-36.432195807720014, -6.915283632930533),\n",
       " (-36.43216149154088, -6.914838646106743),\n",
       " (-36.43212717762391, -6.914393659282951),\n",
       " (-36.43150271514172, -6.906290427007936),\n",
       " (-36.431468444679055, -6.9058454401841445),\n",
       " (-36.43143417647835, -6.905400453360353),\n",
       " (-36.43081054645446, -6.8972972210853385),\n",
       " (-36.43077632170399, -6.896852234261547),\n",
       " (-36.43074209921525, -6.896407247437755),\n",
       " (-36.43011930157148, -6.88830401516274),\n",
       " (-36.4300851225289, -6.88785902833895),\n",
       " (-36.43005094574784, -6.887414041515157),\n",
       " (-36.42942898040614, -6.879310809240143),\n",
       " (-36.42941456039556, -6.996222486233915),\n",
       " (-36.42939484706716, -6.878865822416351),\n",
       " (-36.42937984120913, -6.9957774994101225),\n",
       " (-36.4293607159895, -6.87842083559256),\n",
       " (-36.42934512428623, -6.995332512586331),\n",
       " (-36.42873958287191, -6.870317603317545),\n",
       " (-36.428713323284434, -6.9872292803113165),\n",
       " (-36.42870549523226, -6.869872616493754),\n",
       " (-36.428678649842034, -6.986784293487525),\n",
       " (-36.42867140985372, -6.8694276296699615),\n",
       " (-36.42864397866295, -6.986339306663734),\n",
       " (-36.42805110888239, -6.861324397394947),\n",
       " (-36.428017066937805, -6.860879410571156),\n",
       " (-36.42801301062068, -6.978236074388719),\n",
       " (-36.42798302725411, -6.860434423747364),\n",
       " (-36.42797838291796, -6.977791087564927),\n",
       " (-36.427943757478346, -6.977346100741136),\n",
       " (-36.42736355835128, -6.8523311914723495),\n",
       " (-36.42732956209749, -6.851886204648558),\n",
       " (-36.42731362231648, -6.969242868466121),\n",
       " (-36.427295568104384, -6.851441217824767),\n",
       " (-36.42727904034911, -6.968797881642329),\n",
       " (-36.42724446064461, -6.968352894818538),\n",
       " (-36.42661515828414, -6.960249662543523),\n",
       " (-36.426580622047766, -6.959804675719732),\n",
       " (-36.42654608807406, -6.95935968889594),\n",
       " (-36.42591761843608, -6.951256456620926),\n",
       " (-36.425883127926376, -6.9508114697971335),\n",
       " (-36.42584863967913, -6.950366482973342),\n",
       " (-36.42522100268482, -6.942263250698327),\n",
       " (-36.42518655789747, -6.941818263874536),\n",
       " (-36.42515211537236, -6.941373277050745),\n",
       " (-36.42452531094304, -6.933270044775729),\n",
       " (-36.42449091187372, -6.932825057951938),\n",
       " (-36.42445651506642, -6.932380071128147),\n",
       " (-36.42383054312352, -6.924276838853132),\n",
       " (-36.42379618976791, -6.92383185202934),\n",
       " (-36.423761838674125, -6.923386865205549),\n",
       " (-36.423136699139135, -6.915283632930533),\n",
       " (-36.42310239149295, -6.914838646106743),\n",
       " (-36.423068086108366, -6.914393659282951),\n",
       " (-36.42244377890294, -6.906290427007936),\n",
       " (-36.42240951696186, -6.9058454401841445),\n",
       " (-36.42237525728217, -6.905400453360353),\n",
       " (-36.42175178232804, -6.8972972210853385),\n",
       " (-36.42171756608778, -6.896852234261547),\n",
       " (-36.42168335210869, -6.896407247437755),\n",
       " (-36.42106070932772, -6.88830401516274),\n",
       " (-36.421026538783984, -6.88785902833895),\n",
       " (-36.42099237050122, -6.887414041515157),\n",
       " (-36.42037055981534, -6.879310809240143),\n",
       " (-36.42033643496384, -6.878865822416351),\n",
       " (-36.42030231237311, -6.87842083559256),\n",
       " (-36.4196813337044, -6.870317603317545),\n",
       " (-36.41965282769388, -6.9872292803113165),\n",
       " (-36.41964725454088, -6.869872616493754),\n",
       " (-36.4196181628754, -6.986784293487525),\n",
       " (-36.4196131776379, -6.8694276296699615),\n",
       " (-36.41958350031968, -6.986339306663734),\n",
       " (-36.41899303090853, -6.861324397394947),\n",
       " (-36.4189589974287, -6.860879410571156),\n",
       " (-36.418952689210855, -6.978236074388719),\n",
       " (-36.41892496620921, -6.860434423747364),\n",
       " (-36.41891807012068, -6.977791087564927),\n",
       " (-36.41888345329305, -6.977346100741136),\n",
       " (-36.41830565134146, -6.8523311914723495),\n",
       " (-36.41827166354106, -6.851886204648558),\n",
       " (-36.41825347485747, -6.969242868466121),\n",
       " (-36.41823767800079, -6.851441217824767),\n",
       " (-36.41821890149127, -6.968797881642329),\n",
       " (-36.4181843303874, -6.968352894818538),\n",
       " (-36.41755518454608, -6.960249662543523),\n",
       " (-36.4175206568995, -6.959804675719732),\n",
       " (-36.41748613151504, -6.95935968889594),\n",
       " (-36.41685781818908, -6.951256456620926),\n",
       " (-36.416823336257806, -6.9508114697971335),\n",
       " (-36.41678885658843, -6.950366482973342),\n",
       " (-36.41616137569906, -6.942263250698327),\n",
       " (-36.41612693947877, -6.941818263874536),\n",
       " (-36.41609250552016, -6.941373277050745),\n",
       " (-36.41546585698871, -6.933270044775729),\n",
       " (-36.41543146647507, -6.932825057951938),\n",
       " (-36.4153970782229, -6.932380071128147),\n",
       " (-36.414771261970806, -6.924276838853132),\n",
       " (-36.41473691715951, -6.92383185202934),\n",
       " (-36.414702574609485, -6.923386865205549),\n",
       " (-36.41407759055827, -6.915283632930533),\n",
       " (-36.41404329144503, -6.914838646106743),\n",
       " (-36.414008994592834, -6.914393659282951),\n",
       " (-36.41338484266417, -6.906290427007936),\n",
       " (-36.413350589244665, -6.9058454401841445),\n",
       " (-36.41331633808599, -6.905400453360353),\n",
       " (-36.41269301820164, -6.8972972210853385),\n",
       " (-36.412658810471584, -6.896852234261547),\n",
       " (-36.41262460500215, -6.896407247437755),\n",
       " (-36.412002117083965, -6.88830401516274),\n",
       " (-36.411967955039074, -6.88785902833895),\n",
       " (-36.41193379525459, -6.887414041515157),\n",
       " (-36.41131213922455, -6.879310809240143),\n",
       " (-36.411278022860536, -6.878865822416351),\n",
       " (-36.41124390875672, -6.87842083559256),\n",
       " (-36.41062308453692, -6.870317603317545),\n",
       " (-36.41059233210331, -6.9872292803113165),\n",
       " (-36.4105890138495, -6.869872616493754),\n",
       " (-36.41055767590877, -6.986784293487525),\n",
       " (-36.410554945422085, -6.8694276296699615),\n",
       " (-36.41052302197641, -6.986339306663734),\n",
       " (-36.40993495293469, -6.861324397394947),\n",
       " (-36.40990092791962, -6.860879410571156),\n",
       " (-36.40989236780102, -6.978236074388719),\n",
       " (-36.40986690516432, -6.860434423747364),\n",
       " (-36.4098577573234, -6.977791087564927),\n",
       " (-36.40982314910776, -6.977346100741136),\n",
       " (-36.40919332739846, -6.969242868466121),\n",
       " (-36.409158762633446, -6.968797881642329),\n",
       " (-36.40912420013017, -6.968352894818538),\n",
       " (-36.408495210808, -6.960249662543523),\n",
       " (-36.40846069175123, -6.959804675719732),\n",
       " (-36.408426174956006, -6.95935968889594),\n",
       " (-36.40779801794209, -6.951256456620926),\n",
       " (-36.40776354458925, -6.9508114697971335),\n",
       " (-36.40772907349773, -6.950366482973342),\n",
       " (-36.40710174871331, -6.942263250698327),\n",
       " (-36.40706732106008, -6.941818263874536),\n",
       " (-36.40703289566795, -6.941373277050745),\n",
       " (-36.40640640303437, -6.933270044775729),\n",
       " (-36.40637202107642, -6.932825057951938),\n",
       " (-36.40633764137937, -6.932380071128147),\n",
       " (-36.40571198081809, -6.924276838853132),\n",
       " (-36.40567764455112, -6.92383185202934),\n",
       " (-36.40564331054484, -6.923386865205549),\n",
       " (-36.40501848197741, -6.915283632930533),\n",
       " (-36.40498419139711, -6.914838646106743),\n",
       " (-36.404949903077295, -6.914393659282951),\n",
       " (-36.4043259064254, -6.906290427007936),\n",
       " (-36.40429166152747, -6.9058454401841445),\n",
       " (-36.40425741888981, -6.905400453360353),\n",
       " (-36.40363425407523, -6.8972972210853385),\n",
       " (-36.40360005485539, -6.896852234261547),\n",
       " (-36.4035658578956, -6.896407247437755),\n",
       " (-36.40294352484021, -6.88830401516274),\n",
       " (-36.40290937129416, -6.88785902833895),\n",
       " (-36.40287522000797, -6.887414041515157),\n",
       " (-36.40225371863376, -6.879310809240143),\n",
       " (-36.40221961075723, -6.878865822416351),\n",
       " (-36.40218550514033, -6.87842083559256),\n",
       " (-36.40156483536942, -6.870317603317545),\n",
       " (-36.401531836512746, -6.9872292803113165),\n",
       " (-36.40153077315812, -6.869872616493754),\n",
       " (-36.40149718894213, -6.986784293487525),\n",
       " (-36.40149671320626, -6.8694276296699615),\n",
       " (-36.40146254363314, -6.986339306663734),\n",
       " (-36.40087687496085, -6.861324397394947),\n",
       " (-36.40084285841053, -6.860879410571156),\n",
       " (-36.40083204639119, -6.978236074388719),\n",
       " (-36.40080884411943, -6.860434423747364),\n",
       " (-36.40079744452611, -6.977791087564927),\n",
       " (-36.40076284492247, -6.977346100741136),\n",
       " (-36.40018983732183, -6.8523311914723495),\n",
       " (-36.40015586642821, -6.851886204648558),\n",
       " (-36.40013317993945, -6.969242868466121),\n",
       " (-36.40012189779361, -6.851441217824767),\n",
       " (-36.4000986237756, -6.968797881642329),\n",
       " (-36.40006406987295, -6.968352894818538),\n",
       " (-36.39943523706992, -6.960249662543523),\n",
       " (-36.39940072660296, -6.959804675719732),\n",
       " (-36.39936621839697, -6.95935968889594),\n",
       " (-36.39873821769509, -6.951256456620926),\n",
       " (-36.39870375292068, -6.9508114697971335),\n",
       " (-36.39866929040704, -6.950366482973342),\n",
       " (-36.39804212172755, -6.942263250698327),\n",
       " (-36.398007702641365, -6.941818263874536),\n",
       " (-36.39797328581575, -6.941373277050745),\n",
       " (-36.39734694908003, -6.933270044775729),\n",
       " (-36.397312575677766, -6.932825057951938),\n",
       " (-36.39727820453584, -6.932380071128147),\n",
       " (-36.396652699665374, -6.924276838853132),\n",
       " (-36.39661837194272, -6.92383185202934),\n",
       " (-36.39658404648019, -6.923386865205549),\n",
       " (-36.395959373396536, -6.915283632930533),\n",
       " (-36.395925091349184, -6.914838646106743),\n",
       " (-36.39589081156176, -6.914393659282951),\n",
       " (-36.39526697018662, -6.906290427007936),\n",
       " (-36.39523273381028, -6.9058454401841445),\n",
       " (-36.39519849969364, -6.905400453360353),\n",
       " (-36.394575489948814, -6.8972972210853385),\n",
       " (-36.39454129923919, -6.896852234261547),\n",
       " (-36.39450711078905, -6.896407247437755),\n",
       " (-36.39388493259644, -6.88830401516274),\n",
       " (-36.393850787549255, -6.88785902833895),\n",
       " (-36.39381664476134, -6.887414041515157),\n",
       " (-36.39319529804296, -6.879310809240143),\n",
       " (-36.39316119865391, -6.878865822416351),\n",
       " (-36.39312710152394, -6.87842083559256),\n",
       " (-36.39250658620191, -6.870317603317545),\n",
       " (-36.39247253246675, -6.869872616493754),\n",
       " (-36.39243848099044, -6.8694276296699615),\n",
       " (-36.391818796987, -6.861324397394947),\n",
       " (-36.39178478890144, -6.860879410571156),\n",
       " (-36.39177172498135, -6.978236074388719),\n",
       " (-36.39175078307453, -6.860434423747364),\n",
       " (-36.39173713172884, -6.977791087564927),\n",
       " (-36.39170254073717, -6.977346100741136),\n",
       " (-36.39113193031201, -6.8523311914723495),\n",
       " (-36.391097967871794, -6.851886204648558),\n",
       " (-36.39107303248044, -6.969242868466121),\n",
       " (-36.39106400769002, -6.851441217824767),\n",
       " (-36.39103848491777, -6.968797881642329),\n",
       " (-36.39100393961573, -6.968352894818538),\n",
       " (-36.390375263331855, -6.960249662543523),\n",
       " (-36.39034076145469, -6.959804675719732),\n",
       " (-36.39030626183794, -6.95935968889594),\n",
       " (-36.3896784174481, -6.951256456620926),\n",
       " (-36.38964396125211, -6.9508114697971335),\n",
       " (-36.38960950731634, -6.950366482973342),\n",
       " (-36.3889824947418, -6.942263250698327),\n",
       " (-36.38894808422268, -6.941818263874536),\n",
       " (-36.388913675963536, -6.941373277050745),\n",
       " (-36.388287495125695, -6.933270044775729),\n",
       " (-36.38825313027912, -6.932825057951938),\n",
       " (-36.38821876769232, -6.932380071128147),\n",
       " (-36.38759341851266, -6.924276838853132),\n",
       " (-36.38755909933431, -6.92383185202934),\n",
       " (-36.38752478241554, -6.923386865205549),\n",
       " (-36.38690026481567, -6.915283632930533),\n",
       " (-36.38686599130126, -6.914838646106743),\n",
       " (-36.386831720046224, -6.914393659282951),\n",
       " (-36.386208033947845, -6.906290427007936),\n",
       " (-36.38617380609308, -6.9058454401841445),\n",
       " (-36.38613958049746, -6.905400453360353),\n",
       " (-36.3855167258224, -6.8972972210853385),\n",
       " (-36.385482543622985, -6.896852234261547),\n",
       " (-36.3854483636825, -6.896407247437755),\n",
       " (-36.38482634035268, -6.88830401516274),\n",
       " (-36.38479220380434, -6.88785902833895),\n",
       " (-36.38475806951471, -6.887414041515157),\n",
       " (-36.38413687745216, -6.879310809240143),\n",
       " (-36.38201288502144, -6.969242868466121),\n",
       " (-36.38197834605994, -6.968797881642329),\n",
       " (-36.38194380935851, -6.968352894818538),\n",
       " (-36.381315289593786, -6.960249662543523),\n",
       " (-36.38128079630642, -6.959804675719732),\n",
       " (-36.381246305278914, -6.95935968889594),\n",
       " (-36.38061861720111, -6.951256456620926),\n",
       " (-36.38058416958355, -6.9508114697971335),\n",
       " (-36.38054972422564, -6.950366482973342),\n",
       " (-36.37992286775605, -6.942263250698327),\n",
       " (-36.37988846580397, -6.941818263874536),\n",
       " (-36.379854066111335, -6.941373277050745),\n",
       " (-36.37922804117136, -6.933270044775729),\n",
       " (-36.37919368488046, -6.932825057951938),\n",
       " (-36.37915933084879, -6.932380071128147),\n",
       " (-36.37853413735994, -6.924276838853132),\n",
       " (-36.37849982672592, -6.92383185202934),\n",
       " (-36.3784655183509, -6.923386865205549),\n",
       " (-36.37784115623481, -6.915283632930533),\n",
       " (-36.37780689125335, -6.914838646106743),\n",
       " (-36.37777262853069, -6.914393659282951),\n",
       " (-36.37714909770908, -6.906290427007936),\n",
       " (-36.377114878375885, -6.9058454401841445),\n",
       " (-36.377080661301285, -6.905400453360353),\n",
       " (-36.37645796169599, -6.8972972210853385),\n",
       " (-36.3764237880068, -6.896852234261547),\n",
       " (-36.37638961657596, -6.896407247437755),\n",
       " (-36.37295273756242, -6.969242868466121),\n",
       " (-36.372918207202105, -6.968797881642329),\n",
       " (-36.37288367910128, -6.968352894818538),\n",
       " (-36.37225531585572, -6.960249662543523),\n",
       " (-36.37222083115815, -6.959804675719732),\n",
       " (-36.37218634871988, -6.95935968889594),\n",
       " (-36.37155881695411, -6.951256456620926),\n",
       " (-36.37152437791498, -6.9508114697971335),\n",
       " (-36.37148994113493, -6.950366482973342),\n",
       " (-36.37086324077028, -6.942263250698327),\n",
       " (-36.37082884738527, -6.941818263874536),\n",
       " (-36.37079445625913, -6.941373277050745),\n",
       " (-36.370168587217016, -6.933270044775729),\n",
       " (-36.37013423948181, -6.932825057951938),\n",
       " (-36.37009989400526, -6.932380071128147),\n",
       " (-36.369474856207226, -6.924276838853132),\n",
       " (-36.36944055411751, -6.92383185202934),\n",
       " (-36.369406254286254, -6.923386865205549),\n",
       " (-36.36878204765394, -6.915283632930533),\n",
       " (-36.36874779120542, -6.914838646106743),\n",
       " (-36.36871353701515, -6.914393659282951),\n",
       " (-36.3680901614703, -6.906290427007936),\n",
       " (-36.36805595065869, -6.9058454401841445),\n",
       " (-36.36319534211765, -6.960249662543523),\n",
       " (-36.36316086600988, -6.959804675719732),\n",
       " (-36.36312639216085, -6.95935968889594),\n",
       " (-36.36249901670712, -6.951256456620926),\n",
       " (-36.36246458624642, -6.9508114697971335),\n",
       " (-36.36243015804423, -6.950366482973342),\n",
       " (-36.36180361378453, -6.942263250698327),\n",
       " (-36.36176922896657, -6.941818263874536),\n",
       " (-36.36173484640692, -6.941373277050745),\n",
       " (-36.36110913326268, -6.933270044775729),\n",
       " (-36.36107479408316, -6.932825057951938),\n",
       " (-36.36104045716173, -6.932380071128147),\n",
       " (-36.36041557505451, -6.924276838853132),\n",
       " (-36.36038128150911, -6.92383185202934),\n",
       " (-36.36034699022161, -6.923386865205549),\n",
       " (-36.359722939073066, -6.915283632930533),\n",
       " (-36.35968869115751, -6.914838646106743),\n",
       " (-36.359654445499615, -6.914393659282951),\n",
       " (-36.35343921646012, -6.951256456620926),\n",
       " (-36.35340479457785, -6.9508114697971335),\n",
       " (-36.353370374953535, -6.950366482973342),\n",
       " (-36.35274398679877, -6.942263250698327),\n",
       " (-36.35270961054787, -6.941818263874536),\n",
       " (-36.35267523655471, -6.941373277050745),\n",
       " (-36.35204967930834, -6.933270044775729),\n",
       " (-36.3520153486845, -6.932825057951938),\n",
       " (-36.3519810203182, -6.932380071128147),\n",
       " (-36.351356293901794, -6.924276838853132),\n",
       " (-36.35132200890072, -6.92383185202934),\n",
       " (-36.35128772615696, -6.923386865205549),\n",
       " (-36.34368435981301, -6.942263250698327),\n",
       " (-36.343649992129166, -6.941818263874536),\n",
       " (-36.3436156267025, -6.941373277050745),\n",
       " (-36.34299022535401, -6.933270044775729),\n",
       " (-36.342955903285855, -6.932825057951938),\n",
       " (-36.34292158347467, -6.932380071128147),\n",
       " (-36.34229701274908, -6.924276838853132),\n",
       " (-36.33459037371048, -6.941818263874536),\n",
       " (-36.3345560168503, -6.941373277050745),\n",
       " (-36.33393077139967, -6.933270044775729),\n",
       " (-36.3338964578872, -6.932825057951938),\n",
       " (-36.33386214663114, -6.932380071128147)}"
      ]
     },
     "execution_count": 22,
     "metadata": {},
     "output_type": "execute_result"
    }
   ],
   "source": [
    "set(zip(df_all_data.longitude, df_all_data.latitud))"
   ]
  },
  {
   "cell_type": "code",
   "execution_count": 30,
   "metadata": {},
   "outputs": [
    {
     "ename": "TypeError",
     "evalue": "merge() got an unexpected keyword argument 'ignore_index'",
     "output_type": "error",
     "traceback": [
      "\u001b[1;31m---------------------------------------------------------------------------\u001b[0m",
      "\u001b[1;31mTypeError\u001b[0m                                 Traceback (most recent call last)",
      "Cell \u001b[1;32mIn[30], line 5\u001b[0m\n\u001b[0;32m      3\u001b[0m df_modified \u001b[38;5;241m=\u001b[39m pd\u001b[38;5;241m.\u001b[39mread_csv(\u001b[38;5;124m'\u001b[39m\u001b[38;5;124m../ndvi_data/new_columns_data/\u001b[39m\u001b[38;5;124m'\u001b[39m\u001b[38;5;241m+\u001b[39mfile)[[\u001b[38;5;124m'\u001b[39m\u001b[38;5;124mlongitude\u001b[39m\u001b[38;5;124m'\u001b[39m]]\n\u001b[0;32m      4\u001b[0m df_modified[\u001b[38;5;124m'\u001b[39m\u001b[38;5;124mdate\u001b[39m\u001b[38;5;124m'\u001b[39m] \u001b[38;5;241m=\u001b[39m pd\u001b[38;5;241m.\u001b[39mto_datetime(file[:\u001b[38;5;241m-\u001b[39m\u001b[38;5;241m4\u001b[39m], \u001b[38;5;28mformat\u001b[39m\u001b[38;5;241m=\u001b[39m \u001b[38;5;124m\"\u001b[39m\u001b[38;5;124m%\u001b[39m\u001b[38;5;124mY-\u001b[39m\u001b[38;5;124m%\u001b[39m\u001b[38;5;124mm-\u001b[39m\u001b[38;5;132;01m%d\u001b[39;00m\u001b[38;5;124m\"\u001b[39m)\n\u001b[1;32m----> 5\u001b[0m df_all_data_ts \u001b[38;5;241m=\u001b[39m \u001b[43mpd\u001b[49m\u001b[38;5;241;43m.\u001b[39;49m\u001b[43mmerge\u001b[49m\u001b[43m(\u001b[49m\u001b[43m[\u001b[49m\u001b[43mdf_all_data_ts\u001b[49m\u001b[43m,\u001b[49m\u001b[43mdf_modified\u001b[49m\u001b[43m]\u001b[49m\u001b[43m,\u001b[49m\u001b[43m \u001b[49m\u001b[43mhow\u001b[49m\u001b[43m \u001b[49m\u001b[38;5;241;43m=\u001b[39;49m\u001b[43m \u001b[49m\u001b[38;5;124;43m'\u001b[39;49m\u001b[38;5;124;43minner\u001b[39;49m\u001b[38;5;124;43m'\u001b[39;49m\u001b[43m,\u001b[49m\u001b[43m \u001b[49m\u001b[43mignore_index\u001b[49m\u001b[38;5;241;43m=\u001b[39;49m\u001b[38;5;28;43;01mTrue\u001b[39;49;00m\u001b[43m)\u001b[49m\n",
      "\u001b[1;31mTypeError\u001b[0m: merge() got an unexpected keyword argument 'ignore_index'"
     ]
    }
   ],
   "source": [
    "df_all_data_ts = pd.DataFrame()\n",
    "for file in os.listdir('../ndvi_data/new_columns_data/'):\n",
    "    df_modified = pd.read_csv('../ndvi_data/new_columns_data/'+file)[['longitude']]\n",
    "    df_modified['date'] = pd.to_datetime(file[:-4], format= \"%Y-%m-%d\")\n",
    "    df_all_data_ts = pd.merge([df_all_data_ts,df_modified], how = 'inner', ignore_index=True)"
   ]
  },
  {
   "cell_type": "markdown",
   "metadata": {},
   "source": [
    "Even thouhg the whole dataset is skewed, the data by date is normal distribution."
   ]
  },
  {
   "cell_type": "markdown",
   "metadata": {},
   "source": [
    "### QA"
   ]
  },
  {
   "cell_type": "markdown",
   "metadata": {},
   "source": [
    "##### QA_usefulness\n",
    "No 'decreasing10','lowest','useless','faultyL1B', or 'unuseful' data was found.\n",
    "This may support the findings of the general quality, where no major impact was seen.\n",
    "\n",
    "Nevertheless, we still have to considere the consequences of the decreasing usefulness."
   ]
  },
  {
   "cell_type": "code",
   "execution_count": 24,
   "metadata": {},
   "outputs": [
    {
     "data": {
      "text/plain": [
       "QA_usefulness\n",
       "highest        18838\n",
       "lower           9543\n",
       "decreasing1     1542\n",
       "decreasing2      826\n",
       "decreasing3      355\n",
       "decreasing4      202\n",
       "decreasing5       52\n",
       "decreasing6       43\n",
       "decreasing7       18\n",
       "decreasing8        8\n",
       "decreasing9        1\n",
       "Name: count, dtype: int64"
      ]
     },
     "execution_count": 24,
     "metadata": {},
     "output_type": "execute_result"
    }
   ],
   "source": [
    "tpl_usefulness = ('highest', 'lower','decreasing1', 'decreasing2','decreasing3','decreasing4','decreasing5','decreasing6','decreasing7','decreasing8','decreasing9')\n",
    "df_all_data.QA_usefulness.value_counts()"
   ]
  },
  {
   "cell_type": "markdown",
   "metadata": {},
   "source": [
    "#### Decreasing9"
   ]
  },
  {
   "cell_type": "code",
   "execution_count": null,
   "metadata": {},
   "outputs": [],
   "source": []
  },
  {
   "cell_type": "code",
   "execution_count": 33,
   "metadata": {},
   "outputs": [],
   "source": [
    "avaiable_dates = list(df_all_data.date.unique())\n",
    "i_utility = 1\n",
    "\n",
    "distr_ndvi = {'dist_8':[],'dist_7':[],'dist_6':[],'dist_5':[],'dist_4':[],'dist_3':[],'dist_2':[],'dist_1':[],'lower':[]}\n",
    "key_distr = list(distr_ndvi.keys())\n",
    "for i_other_qualities in range(9-i_utility):\n",
    "    for i_date in avaiable_dates:\n",
    "        df_selected_date = df_all_data[df_all_data.date == i_date]\n",
    "        df_selected_quality = df_selected_date[df_selected_date.QA_usefulness == tpl_usefulness[-1-i_utility]]\n",
    "        df_other_qualities = df_selected_date[df_selected_date.QA_usefulness.isin(tpl_usefulness[:-i_other_qualities-1])]\n",
    "\n",
    "        \n",
    "        mean_other_qualities = df_other_qualities.NDVI.describe()['mean']\n",
    "        ndvi_selected_qualities = list(df_selected_quality.NDVI)\n",
    "        \n",
    "        distr_ndvi[key_distr[i_other_qualities]] += list(ndvi_selected_qualities - mean_other_qualities)"
   ]
  },
  {
   "cell_type": "code",
   "execution_count": 34,
   "metadata": {},
   "outputs": [
    {
     "data": {
      "image/png": "[encoded data removed]",
      "text/plain": [
       "<Figure size 1000x2000 with 9 Axes>"
      ]
     },
     "metadata": {},
     "output_type": "display_data"
    }
   ],
   "source": [
    "\n",
    "fig, axes = plt.subplots(9,1,figsize=(10,20), facecolor='black')\n",
    "fig.tight_layout(pad=5.0)\n",
    "for i in range(9):\n",
    "    ax = axes[i]\n",
    "    ax.set_facecolor('black')\n",
    "\n",
    "    ax.hist(distr_ndvi[key_distr[i]], bins = 50, color = 'green', edgecolor='darkgreen')\n",
    "\n",
    "    ax.set_title(key_distr[i], color='white')\n",
    "    ax.set_xlabel('Distance from mean',color='white')\n",
    "    ax.set_ylabel('count', color= 'white')\n",
    "\n",
    "    ax.tick_params(colors= 'white')\n",
    "    ax.spines['bottom'].set_color('grey')\n",
    "    ax.spines['left'].set_color('grey')\n",
    "\n",
    "#plt.title('This is a somewhat long figure title')\n",
    "\n",
    "plt.show()\n"
   ]
  },
  {
   "cell_type": "code",
   "execution_count": 184,
   "metadata": {},
   "outputs": [
    {
     "ename": "AttributeError",
     "evalue": "'list' object has no attribute 'mean'",
     "output_type": "error",
     "traceback": [
      "\u001b[1;31m---------------------------------------------------------------------------\u001b[0m",
      "\u001b[1;31mAttributeError\u001b[0m                            Traceback (most recent call last)",
      "Cell \u001b[1;32mIn[184], line 1\u001b[0m\n\u001b[1;32m----> 1\u001b[0m \u001b[38;5;28mprint\u001b[39m(\u001b[43mdstrib_ndvi_9\u001b[49m\u001b[43m[\u001b[49m\u001b[38;5;124;43m'\u001b[39;49m\u001b[38;5;124;43mdist_8\u001b[39;49m\u001b[38;5;124;43m'\u001b[39;49m\u001b[43m]\u001b[49m\u001b[38;5;241;43m.\u001b[39;49m\u001b[43mmean\u001b[49m())\n",
      "\u001b[1;31mAttributeError\u001b[0m: 'list' object has no attribute 'mean'"
     ]
    }
   ],
   "source": [
    "print(sum(distr_ndvi['dist_8']))"
   ]
  },
  {
   "cell_type": "markdown",
   "metadata": {},
   "source": []
  },
  {
   "cell_type": "code",
   "execution_count": 183,
   "metadata": {},
   "outputs": [
    {
     "data": {
      "image/png": "[encoded data removed]",
      "text/plain": [
       "<Figure size 1000x300 with 1 Axes>"
      ]
     },
     "metadata": {},
     "output_type": "display_data"
    }
   ],
   "source": [
    "\n",
    "plt.figure(figsize=(10,3), facecolor='black')\n",
    "ax = plt.axes()\n",
    "ax.set_facecolor('black')\n",
    "\n",
    "plt.hist(df_other_qualities.NDVI, bins = 50, color = 'green', edgecolor='darkgreen',range = (0,1))\n",
    "plt.hist(df_selected_quality.NDVI, bins = 50, color = 'orange', edgecolor='darkorange',range = (0,1))\n",
    "\n",
    "\n",
    "plt.title('NDVI Histogram (31428 values)',color='white')\n",
    "plt.xlabel('NDVI values', color='white')\n",
    "plt.ylabel('count', color= 'white')\n",
    "\n",
    "ax.tick_params(colors= 'white')\n",
    "ax.spines['bottom'].set_color('grey')\n",
    "ax.spines['left'].set_color('grey')\n",
    "\n",
    "\n",
    "\n",
    "ax.vlines(x= df_other_qualities.NDVI.describe()['mean'],color='grey',ymax=12, ymin=0, label='mean')\n",
    "ax.text(x= df_other_qualities.NDVI.describe()['mean'], y= 12, s='mean', color='lightgrey', ha ='right', va = 'top', rotation='vertical')\n",
    "\n",
    "ax.vlines(x= df_other_qualities.NDVI.describe()['25%'],color='grey',ymax=12, ymin=0, label='mean', ls='--')\n",
    "ax.text(x= df_other_qualities.NDVI.describe()['25%'], y= 12, s='Q1', color='lightgrey', ha ='right', va = 'top', rotation='vertical')\n",
    "\n",
    "ax.vlines(x = df_other_qualities.NDVI.describe()['75%'],color='grey',ymax=12, ymin=0, label='mean',ls='--')\n",
    "ax.text(x= df_other_qualities.NDVI.describe()['75%'], y= 12, s='Q3', color='lightgrey', ha ='right', va = 'top', rotation='vertical')\n",
    "\n",
    "\n",
    "plt.show()"
   ]
  },
  {
   "cell_type": "code",
   "execution_count": null,
   "metadata": {},
   "outputs": [],
   "source": []
  },
  {
   "cell_type": "markdown",
   "metadata": {},
   "source": [
    "##### QA_general\n",
    "Not unmade data was found: meaning that there were not strong factors that affected the index\n"
   ]
  },
  {
   "cell_type": "code",
   "execution_count": 10,
   "metadata": {},
   "outputs": [
    {
     "data": {
      "text/plain": [
       "QA_general\n",
       "goodQA       28524\n",
       "regularQA     2166\n",
       "cloudy         738\n",
       "Name: count, dtype: int64"
      ]
     },
     "execution_count": 10,
     "metadata": {},
     "output_type": "execute_result"
    }
   ],
   "source": [
    "df_all_data.QA_general.value_counts()"
   ]
  },
  {
   "cell_type": "markdown",
   "metadata": {},
   "source": [
    "##### QA_aerosol\n",
    "It would better to know the impact of this factor."
   ]
  },
  {
   "cell_type": "code",
   "execution_count": 12,
   "metadata": {},
   "outputs": [
    {
     "data": {
      "text/plain": [
       "QA_aerosol\n",
       "low             28666\n",
       "intermediate     1930\n",
       "correction        622\n",
       "high              210\n",
       "Name: count, dtype: int64"
      ]
     },
     "execution_count": 12,
     "metadata": {},
     "output_type": "execute_result"
    }
   ],
   "source": [
    "df_all_data.QA_aerosol.value_counts()"
   ]
  },
  {
   "cell_type": "markdown",
   "metadata": {},
   "source": [
    "##### QA_adjacent_cloud"
   ]
  },
  {
   "cell_type": "code",
   "execution_count": 13,
   "metadata": {},
   "outputs": [
    {
     "data": {
      "text/plain": [
       "QA_adjacent_cloud\n",
       "no     28016\n",
       "yes     3412\n",
       "Name: count, dtype: int64"
      ]
     },
     "execution_count": 13,
     "metadata": {},
     "output_type": "execute_result"
    }
   ],
   "source": [
    "df_all_data.QA_adjacent_cloud.value_counts()"
   ]
  },
  {
   "cell_type": "markdown",
   "metadata": {},
   "source": [
    "##### QA_water"
   ]
  },
  {
   "cell_type": "code",
   "execution_count": 14,
   "metadata": {},
   "outputs": [
    {
     "data": {
      "text/plain": [
       "QA_water\n",
       "land                    27729\n",
       "shorelines               3676\n",
       "shallow inland water       23\n",
       "Name: count, dtype: int64"
      ]
     },
     "execution_count": 14,
     "metadata": {},
     "output_type": "execute_result"
    }
   ],
   "source": [
    "df_all_data.QA_water.value_counts()"
   ]
  },
  {
   "cell_type": "markdown",
   "metadata": {},
   "source": [
    "## multivatiriate"
   ]
  },
  {
   "cell_type": "markdown",
   "metadata": {},
   "source": [
    "### QA"
   ]
  },
  {
   "cell_type": "markdown",
   "metadata": {},
   "source": [
    "##### QA general vs usefulnes\n",
    "\n",
    "Most of the highest usefulness is found in 'goodQA' (99.8 % of the values), the other (0.2%) is found in cloudy."
   ]
  },
  {
   "cell_type": "code",
   "execution_count": 174,
   "metadata": {},
   "outputs": [
    {
     "name": "stdout",
     "output_type": "stream",
     "text": [
      "QA_general      goodQA  regularQA  cloudy\n",
      "QA_usefulness                            \n",
      "highest        18807.0        0.0    31.0\n",
      "lower           9167.0      300.0    76.0\n",
      "decreasing1      344.0      874.0   324.0\n",
      "decreasing2      187.0      473.0   166.0\n",
      "decreasing3       19.0      297.0    39.0\n",
      "decreasing4        0.0      162.0    40.0\n",
      "decreasing5        0.0       28.0    24.0\n",
      "decreasing6        0.0       32.0    11.0\n",
      "decreasing7        0.0        0.0    18.0\n",
      "decreasing8        0.0        0.0     8.0\n",
      "decreasing9        0.0        0.0     1.0\n",
      "--------------------------------------------\n",
      "QA_general     goodQA  regularQA  cloudy\n",
      "QA_usefulness                           \n",
      "highest         99.84       0.00    0.16\n",
      "lower           96.06       3.14    0.80\n",
      "decreasing1     22.31      56.68   21.01\n",
      "decreasing2     22.64      57.26   20.10\n",
      "decreasing3      5.35      83.66   10.99\n",
      "decreasing4      0.00      80.20   19.80\n",
      "decreasing5      0.00      53.85   46.15\n",
      "decreasing6      0.00      74.42   25.58\n",
      "decreasing7      0.00       0.00  100.00\n",
      "decreasing8      0.00       0.00  100.00\n",
      "decreasing9      0.00       0.00  100.00\n"
     ]
    }
   ],
   "source": [
    "tab_general_usefulness = df_all_data[['QA_usefulness','QA_general']].value_counts().reset_index().pivot_table(columns= 'QA_general', index='QA_usefulness', values = 'count').fillna(0)\n",
    "tab_general_usefulness = (tab_general_usefulness\n",
    "                          .reindex(index=['highest', 'lower', 'decreasing1', 'decreasing2','decreasing3','decreasing4','decreasing5','decreasing6','decreasing7','decreasing8','decreasing9'])\n",
    "                          [['goodQA','regularQA','cloudy']]\n",
    "                          )\n",
    "print(tab_general_usefulness)\n",
    "print('--------------------------------------------')\n",
    "df_percentage = tab_general_usefulness.div(tab_general_usefulness.sum(axis=1), axis=0) * 100\n",
    "\n",
    "print(df_percentage.round(2))\n",
    "# fig, axes = plt.subplots(3, figsize=(15, 8))\n",
    "\n",
    "# axes[0].bar(tab_general_usefulness.index, tab_general_usefulness['goodQA'])\n",
    "# axes[0].set_title(f'goodQA', fontsize=10)\n",
    "\n",
    "# axes[1].bar(tab_general_usefulness.index, tab_general_usefulness['cloudy'])\n",
    "# axes[1].set_title(f'cloudy', fontsize=10)\n",
    "\n",
    "# axes[2].bar(tab_general_usefulness.index, tab_general_usefulness['regularQA'] )\n",
    "# axes[2].set_title(f'regularQA', fontsize=10)\n",
    "\n",
    "# plt.tight_layout()\n",
    "#plt.show()"
   ]
  },
  {
   "cell_type": "markdown",
   "metadata": {},
   "source": [
    "QA cloud and usefulness"
   ]
  },
  {
   "cell_type": "code",
   "execution_count": 179,
   "metadata": {},
   "outputs": [
    {
     "name": "stdout",
     "output_type": "stream",
     "text": [
      "QA_adjacent_cloud       no     yes\n",
      "QA_usefulness                     \n",
      "highest            18838.0     0.0\n",
      "lower               8335.0  1208.0\n",
      "decreasing1          552.0   990.0\n",
      "decreasing2          214.0   612.0\n",
      "decreasing3           35.0   320.0\n",
      "decreasing4           22.0   180.0\n",
      "decreasing5           16.0    36.0\n",
      "decreasing6            4.0    39.0\n",
      "decreasing7            0.0    18.0\n",
      "decreasing8            0.0     8.0\n",
      "decreasing9            0.0     1.0\n",
      "-------------------------------------\n",
      "QA_adjacent_cloud      no     yes\n",
      "QA_usefulness                    \n",
      "highest            100.00    0.00\n",
      "lower               87.34   12.66\n",
      "decreasing1         35.80   64.20\n",
      "decreasing2         25.91   74.09\n",
      "decreasing3          9.86   90.14\n",
      "decreasing4         10.89   89.11\n",
      "decreasing5         30.77   69.23\n",
      "decreasing6          9.30   90.70\n",
      "decreasing7          0.00  100.00\n",
      "decreasing8          0.00  100.00\n",
      "decreasing9          0.00  100.00\n"
     ]
    }
   ],
   "source": [
    "tab_cloud_usefulness = df_all_data[['QA_usefulness','QA_adjacent_cloud']].value_counts().reset_index().pivot_table(columns= 'QA_adjacent_cloud', index='QA_usefulness', values = 'count').fillna(0)\n",
    "tab_cloud_usefulness = tab_cloud_usefulness.reindex(index=['highest', 'lower', 'decreasing1', 'decreasing2','decreasing3','decreasing4','decreasing5','decreasing6','decreasing7','decreasing8','decreasing9'])\n",
    "print(tab_cloud_usefulness)\n",
    "print('-------------------------------------')\n",
    "\n",
    "df_percentage = tab_cloud_usefulness.div(tab_cloud_usefulness.sum(axis=1), axis=0) * 100\n",
    "print(df_percentage.round(2))"
   ]
  },
  {
   "cell_type": "markdown",
   "metadata": {},
   "source": [
    "QA Aerosol and usefulness"
   ]
  },
  {
   "cell_type": "code",
   "execution_count": 176,
   "metadata": {},
   "outputs": [
    {
     "name": "stdout",
     "output_type": "stream",
     "text": [
      "QA_aerosol         low  intermediate  correction  high\n",
      "QA_usefulness                                         \n",
      "highest        18838.0           0.0         0.0   0.0\n",
      "lower           9240.0         303.0         0.0   0.0\n",
      "decreasing1      349.0         906.0       287.0   0.0\n",
      "decreasing2      194.0         380.0       246.0   6.0\n",
      "decreasing3       40.0         220.0        36.0  59.0\n",
      "decreasing4        3.0         103.0        36.0  60.0\n",
      "decreasing5        2.0           9.0        17.0  24.0\n",
      "decreasing6        0.0           6.0         0.0  37.0\n",
      "decreasing7        0.0           3.0         0.0  15.0\n",
      "decreasing8        0.0           0.0         0.0   8.0\n",
      "decreasing9        0.0           0.0         0.0   1.0\n",
      "------------------------------------------------------------\n",
      "QA_aerosol        low  intermediate  correction    high\n",
      "QA_usefulness                                          \n",
      "highest        100.00          0.00        0.00    0.00\n",
      "lower           96.82          3.18        0.00    0.00\n",
      "decreasing1     22.63         58.75       18.61    0.00\n",
      "decreasing2     23.49         46.00       29.78    0.73\n",
      "decreasing3     11.27         61.97       10.14   16.62\n",
      "decreasing4      1.49         50.99       17.82   29.70\n",
      "decreasing5      3.85         17.31       32.69   46.15\n",
      "decreasing6      0.00         13.95        0.00   86.05\n",
      "decreasing7      0.00         16.67        0.00   83.33\n",
      "decreasing8      0.00          0.00        0.00  100.00\n",
      "decreasing9      0.00          0.00        0.00  100.00\n"
     ]
    }
   ],
   "source": [
    "tab_aerosol_usefulness = df_all_data[['QA_usefulness','QA_aerosol']].value_counts().reset_index().pivot_table(columns= 'QA_aerosol', index='QA_usefulness', values = 'count').fillna(0)\n",
    "tab_aerosol_usefulness = (tab_aerosol_usefulness\n",
    "                          .reindex(index=['highest', 'lower', 'decreasing1', 'decreasing2','decreasing3','decreasing4','decreasing5','decreasing6','decreasing7','decreasing8','decreasing9'])\n",
    "                          [['low','intermediate','correction','high']]\n",
    "                          )\n",
    "\n",
    "print(tab_aerosol_usefulness)\n",
    "print('------------------------------------------------------------')\n",
    "\n",
    "df_percentage = tab_aerosol_usefulness.div(tab_aerosol_usefulness.sum(axis=1), axis=0) * 100\n",
    "print(df_percentage.round(2))"
   ]
  },
  {
   "cell_type": "code",
   "execution_count": 180,
   "metadata": {},
   "outputs": [
    {
     "data": {
      "text/html": [
       "<div>\n",
       "<style scoped>\n",
       "    .dataframe tbody tr th:only-of-type {\n",
       "        vertical-align: middle;\n",
       "    }\n",
       "\n",
       "    .dataframe tbody tr th {\n",
       "        vertical-align: top;\n",
       "    }\n",
       "\n",
       "    .dataframe thead th {\n",
       "        text-align: right;\n",
       "    }\n",
       "</style>\n",
       "<table border=\"1\" class=\"dataframe\">\n",
       "  <thead>\n",
       "    <tr style=\"text-align: right;\">\n",
       "      <th></th>\n",
       "      <th>system:index</th>\n",
       "      <th>NDVI</th>\n",
       "      <th>longitude</th>\n",
       "      <th>latitud</th>\n",
       "      <th>QA_general</th>\n",
       "      <th>QA_usefulness</th>\n",
       "      <th>QA_aerosol</th>\n",
       "      <th>QA_adjacent_cloud</th>\n",
       "      <th>QA_water</th>\n",
       "      <th>date</th>\n",
       "    </tr>\n",
       "  </thead>\n",
       "  <tbody>\n",
       "    <tr>\n",
       "      <th>1146</th>\n",
       "      <td>8</td>\n",
       "      <td>0.4185</td>\n",
       "      <td>-36.481711</td>\n",
       "      <td>-6.852331</td>\n",
       "      <td>cloudy</td>\n",
       "      <td>decreasing9</td>\n",
       "      <td>high</td>\n",
       "      <td>yes</td>\n",
       "      <td>land</td>\n",
       "      <td>2010-03-22</td>\n",
       "    </tr>\n",
       "  </tbody>\n",
       "</table>\n",
       "</div>"
      ],
      "text/plain": [
       "      system:index    NDVI  longitude   latitud QA_general QA_usefulness  \\\n",
       "1146             8  0.4185 -36.481711 -6.852331     cloudy   decreasing9   \n",
       "\n",
       "     QA_aerosol QA_adjacent_cloud QA_water       date  \n",
       "1146       high               yes     land 2010-03-22  "
      ]
     },
     "execution_count": 180,
     "metadata": {},
     "output_type": "execute_result"
    }
   ],
   "source": [
    "df_all_data[df_all_data.QA_usefulness == \"decreasing9\"]"
   ]
  },
  {
   "cell_type": "code",
   "execution_count": 13,
   "metadata": {},
   "outputs": [
    {
     "data": {
      "text/plain": [
       "<Figure size 640x480 with 0 Axes>"
      ]
     },
     "metadata": {},
     "output_type": "display_data"
    },
    {
     "data": {
      "image/png": "[encoded data removed]",
      "text/plain": [
       "<Figure size 640x480 with 1 Axes>"
      ]
     },
     "metadata": {},
     "output_type": "display_data"
    }
   ],
   "source": [
    "date_general = df_all_data[['date','QA_general']].groupby('date').value_counts().reset_index()\n",
    "date_good = date_general[date_general.QA_general == 'goodQA']\n",
    "plt.figure()\n",
    "date_good.plot(kind = 'line',x='date', y='count')\n",
    "plt.show()"
   ]
  },
  {
   "cell_type": "code",
   "execution_count": null,
   "metadata": {},
   "outputs": [],
   "source": [
    "date_general"
   ]
  }
 ],
 "metadata": {
  "kernelspec": {
   "display_name": "general",
   "language": "python",
   "name": "python3"
  },
  "language_info": {
   "codemirror_mode": {
    "name": "ipython",
    "version": 3
   },
   "file_extension": ".py",
   "mimetype": "text/x-python",
   "name": "python",
   "nbconvert_exporter": "python",
   "pygments_lexer": "ipython3",
   "version": "3.11.7"
  }
 },
 "nbformat": 4,
 "nbformat_minor": 2
}

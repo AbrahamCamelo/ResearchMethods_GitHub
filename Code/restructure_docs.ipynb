{
 "cells": [
  {
   "cell_type": "code",
   "execution_count": 12,
   "metadata": {},
   "outputs": [],
   "source": [
    "import pandas as pd\n",
    "import os\n",
    "import json"
   ]
  },
  {
   "cell_type": "markdown",
   "metadata": {},
   "source": [
    "### User Manual\n",
    "##### General\n",
    "Once all 8 days are collected, the surface reflectance algorithm applies a set of filters based on quality, cloud, and viewing geometry.\n",
    "* CloudReplaced with data 8 contaminated pixelsand extreme off-nadirsensor viewsare considered lower quality.\n",
    "* A cloudfree, nadir view pixel with no residual atmospheric contamination represents the best quality pixel.\n",
    "\n",
    "Only the higher quality cloud free data are retained forfurther compositing. Additionally, they filter pixels affected by atmospheric contaminants.\n"
   ]
  },
  {
   "cell_type": "code",
   "execution_count": 167,
   "metadata": {},
   "outputs": [],
   "source": [
    "def get_detaildQA(number):\n",
    "    # Classification MODIS\n",
    "    tpl_QA = ('goodQA', 'regularQA','cloudy','unmade')\n",
    "    tpl_QA_usefulness = ('highest', 'lower', 'decreasing1', 'decreasing2','decreasing3','decreasing4','decreasing5','decreasing6','decreasing7','decreasing8','decreasing9','decreasing10','lowest','useless','faultyL1B','unuseful')\n",
    "    tpl_QA_aerosol = ('correction','low','intermediate','high')\n",
    "    tpl_QA_adjacent_cloud = ('no','yes')\n",
    "    tpl_QA_water = ('shallow ocean','land','shorelines', 'shallow inland water','ephimeral water', 'shallow inland water','ocean', 'ocean')\n",
    "    tpl_QA_snow = ('no','yes')\n",
    "    \n",
    "    QA_general = tpl_QA[0B11 & number]\n",
    "    QA_usefulness = tpl_QA_usefulness[0B1111 & (number >> 2)]\n",
    "    QA_aerosol = tpl_QA_aerosol[0B11 & (number >> 6)]\n",
    "    QA_adjacent_cloud = tpl_QA_adjacent_cloud[0B1 & (number >> 8)]\n",
    "    QA_water =  tpl_QA_water[0B111 & (number >> 11)]\n",
    "    QA_snow = tpl_QA_snow[0B1 & (number >> 14)]\n",
    "    return {'QA_general': QA_general, 'QA_usefulness': QA_usefulness, 'QA_aerosol': QA_aerosol, 'QA_adjacent_cloud': QA_adjacent_cloud, 'QA_water':QA_water, 'QA_snow': QA_snow}"
   ]
  },
  {
   "cell_type": "code",
   "execution_count": 191,
   "metadata": {},
   "outputs": [
    {
     "name": "stdout",
     "output_type": "stream",
     "text": [
      "done\n"
     ]
    }
   ],
   "source": [
    "for file in os.listdir('../ndvi_data/earth_engine_export/'):\n",
    "\n",
    "    df_original = pd.read_csv('../ndvi_data/earth_engine_export/'+file)\n",
    "\n",
    "    df_original['.geo'] = df_original['.geo'].apply(json.loads)\n",
    "    df_original['longitude'] = [row[1]['.geo']['coordinates'][0] for row in df_original.iterrows()]\n",
    "    df_original['latitud'] = [row[1]['.geo']['coordinates'][1] for row in df_original.iterrows()]\n",
    "    df_original[['QA_general','QA_usefulness','QA_aerosol','QA_adjacent_cloud','QA_water','QA_snow']] = None\n",
    "\n",
    "    for index, value in enumerate([get_detaildQA(row[1]['DetailedQA']) for row in df_original.iterrows()]):\n",
    "        df_original.loc[index,['QA_general','QA_usefulness','QA_aerosol','QA_adjacent_cloud','QA_water','QA_snow']] = value\n",
    "\n",
    "    #df_original['DetailedQA'] = df_original['DetailedQA'].apply(bin)\n",
    "    df_original = df_original.drop(columns = ['.geo','DetailedQA'])\n",
    "    df_original.to_csv('../ndvi_data/new_columns_data/'+file, index=False)\n",
    "\n",
    "    #df_original.head()\n",
    "print('done')"
   ]
  }
 ],
 "metadata": {
  "kernelspec": {
   "display_name": "general",
   "language": "python",
   "name": "python3"
  },
  "language_info": {
   "codemirror_mode": {
    "name": "ipython",
    "version": 3
   },
   "file_extension": ".py",
   "mimetype": "text/x-python",
   "name": "python",
   "nbconvert_exporter": "python",
   "pygments_lexer": "ipython3",
   "version": "3.11.7"
  }
 },
 "nbformat": 4,
 "nbformat_minor": 2
}

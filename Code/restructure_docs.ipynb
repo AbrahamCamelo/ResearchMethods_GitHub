{
 "cells": [
  {
   "cell_type": "code",
   "execution_count": 12,
   "metadata": {},
   "outputs": [],
   "source": [
    "import pandas as pd\n",
    "import json"
   ]
  },
  {
   "cell_type": "code",
   "execution_count": 71,
   "metadata": {},
   "outputs": [],
   "source": [
    "df_original = pd.read_csv('../earth_engine_export/2010-01-01.csv')\n",
    "df_original['.geo'] = df_original['.geo'].apply(json.loads)\n",
    "df_original['longitude'] = [row[1]['.geo']['coordinates'][0] for row in df_original.iterrows()]\n",
    "df_original['latitud'] = [row[1]['.geo']['coordinates'][1] for row in df_original.iterrows()]\n",
    "df_original.to_csv('sample.csv', index=False)"
   ]
  },
  {
   "cell_type": "code",
   "execution_count": null,
   "metadata": {},
   "outputs": [],
   "source": []
  }
 ],
 "metadata": {
  "kernelspec": {
   "display_name": "general",
   "language": "python",
   "name": "python3"
  },
  "language_info": {
   "codemirror_mode": {
    "name": "ipython",
    "version": 3
   },
   "file_extension": ".py",
   "mimetype": "text/x-python",
   "name": "python",
   "nbconvert_exporter": "python",
   "pygments_lexer": "ipython3",
   "version": "3.11.7"
  }
 },
 "nbformat": 4,
 "nbformat_minor": 2
}
